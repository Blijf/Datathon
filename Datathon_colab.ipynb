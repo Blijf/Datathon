{
  "nbformat": 4,
  "nbformat_minor": 0,
  "metadata": {
    "colab": {
      "name": "Datathon_colab.ipynb",
      "version": "0.3.2",
      "provenance": [],
      "collapsed_sections": [
        "C_UD03_xo5mg",
        "Pmb7IAtKo5ml",
        "8MBjZEAGo5mn",
        "EYxhtAbE3bJd",
        "TICJEKZw0rTf",
        "f_8RsxDFYkgu",
        "UQXvx26sGo8q",
        "96npAlsyHnY_",
        "J4QFO25zdRea",
        "5XAyTdTrNSaE",
        "QEDRTj8TxD4k",
        "Etrwr5zQIIcG",
        "ez-CVUburF01"
      ],
      "toc_visible": true,
      "include_colab_link": true
    },
    "kernelspec": {
      "display_name": "Python 3",
      "language": "python",
      "name": "python3"
    }
  },
  "cells": [
    {
      "cell_type": "markdown",
      "metadata": {
        "id": "view-in-github",
        "colab_type": "text"
      },
      "source": [
        "<a href=\"https://colab.research.google.com/github/Blijf/Datathon/blob/master/Datathon_colab.ipynb\" target=\"_parent\"><img src=\"https://colab.research.google.com/assets/colab-badge.svg\" alt=\"Open In Colab\"/></a>"
      ]
    },
    {
      "metadata": {
        "id": "N7Y6kdQjo5mL",
        "colab_type": "text"
      },
      "cell_type": "markdown",
      "source": [
        "# CARGA DE DATOS"
      ]
    },
    {
      "metadata": {
        "id": "o5AvrqGao5mN",
        "colab_type": "text"
      },
      "cell_type": "markdown",
      "source": [
        "#### Imports"
      ]
    },
    {
      "metadata": {
        "id": "k2pfIohmo5mO",
        "colab_type": "code",
        "outputId": "d8ad9c84-9212-4e9f-fcde-bd484d2a2483",
        "colab": {
          "base_uri": "https://localhost:8080/",
          "height": 205
        }
      },
      "cell_type": "code",
      "source": [
        "#INTALL PACKAGES\n",
        "!pip install category_encoders\n",
        "#IMPORTS\n",
        "import pandas as pd\n",
        "pd.set_option('display.max_columns', 500)\n",
        "pd.set_option('display.max_rows', 500)\n",
        "import matplotlib.pyplot as plt\n",
        "%matplotlib inline\n",
        "import numpy as np\n",
        "import random\n",
        "from sklearn.ensemble import RandomForestClassifier\n",
        "from sklearn.tree import DecisionTreeClassifier\n",
        "from sklearn.datasets import make_classification\n",
        "from sklearn.preprocessing import LabelEncoder\n",
        "from sklearn.tree import DecisionTreeRegressor\n",
        "from sklearn.metrics import mean_absolute_error\n",
        "from sklearn.ensemble import RandomForestRegressor\n",
        "from sklearn.ensemble import GradientBoostingRegressor\n",
        "from pandas.plotting import scatter_matrix\n",
        "from sklearn.preprocessing import OneHotEncoder\n",
        "from sklearn.impute import SimpleImputer, MissingIndicator\n",
        "from sklearn.model_selection import train_test_split\n",
        "from sklearn.pipeline import FeatureUnion, make_pipeline\n",
        "from sklearn.tree import DecisionTreeClassifier\n",
        "from sklearn.multioutput import MultiOutputRegressor\n",
        "from sklearn.tree import export_graphviz\n",
        "import os\n",
        "from graphviz import Source\n",
        "import plotly.plotly as py\n",
        "import cufflinks as cf\n",
        "import category_encoders as ce"
      ],
      "execution_count": 1,
      "outputs": [
        {
          "output_type": "stream",
          "text": [
            "Requirement already satisfied: category_encoders in /usr/local/lib/python3.6/dist-packages (1.3.0)\n",
            "Requirement already satisfied: statsmodels>=0.6.1 in /usr/local/lib/python3.6/dist-packages (from category_encoders) (0.8.0)\n",
            "Requirement already satisfied: pandas>=0.20.1 in /usr/local/lib/python3.6/dist-packages (from category_encoders) (0.22.0)\n",
            "Requirement already satisfied: scikit-learn>=0.17.1 in /usr/local/lib/python3.6/dist-packages (from category_encoders) (0.20.2)\n",
            "Requirement already satisfied: patsy>=0.4.1 in /usr/local/lib/python3.6/dist-packages (from category_encoders) (0.5.1)\n",
            "Requirement already satisfied: numpy>=1.11.1 in /usr/local/lib/python3.6/dist-packages (from category_encoders) (1.14.6)\n",
            "Requirement already satisfied: scipy>=0.17.0 in /usr/local/lib/python3.6/dist-packages (from category_encoders) (1.1.0)\n",
            "Requirement already satisfied: pytz>=2011k in /usr/local/lib/python3.6/dist-packages (from pandas>=0.20.1->category_encoders) (2018.9)\n",
            "Requirement already satisfied: python-dateutil>=2 in /usr/local/lib/python3.6/dist-packages (from pandas>=0.20.1->category_encoders) (2.5.3)\n",
            "Requirement already satisfied: six in /usr/local/lib/python3.6/dist-packages (from patsy>=0.4.1->category_encoders) (1.11.0)\n"
          ],
          "name": "stdout"
        }
      ]
    },
    {
      "metadata": {
        "id": "p6xluzPdo5mS",
        "colab_type": "text"
      },
      "cell_type": "markdown",
      "source": [
        "#### Lectura del dataset"
      ]
    },
    {
      "metadata": {
        "id": "jLm4dSEAo5mT",
        "colab_type": "code",
        "colab": {}
      },
      "cell_type": "code",
      "source": [
        "df_model=pd.read_csv('Modelar_UH2019.txt', sep=\"|\" )\n",
        "df_esti=pd.read_csv('Estimar_UH2019.txt', sep=\"|\")"
      ],
      "execution_count": 0,
      "outputs": []
    },
    {
      "metadata": {
        "id": "C_UD03_xo5mg",
        "colab_type": "text"
      },
      "cell_type": "markdown",
      "source": [
        "#### Combinación de ambos datasets en uno único"
      ]
    },
    {
      "metadata": {
        "id": "j1_2ib7Qo5mh",
        "colab_type": "text"
      },
      "cell_type": "markdown",
      "source": [
        "    Concatenamos ambos datasets, es decir, el de modelar y el de estimar en un conjunto único. De esta forma, tenemos un mayor número de datos a los que manejar."
      ]
    },
    {
      "metadata": {
        "id": "UkiPHUaUo5mi",
        "colab_type": "code",
        "colab": {}
      },
      "cell_type": "code",
      "source": [
        "#axis=0 (eje horizontal) y #axis=1 (eje vertical)\n",
        "#df_total= pd.concat([df_model, df_esti],axis=0) \n",
        "#df_total.shape\n",
        "#df_total.tail()"
      ],
      "execution_count": 0,
      "outputs": []
    },
    {
      "metadata": {
        "id": "Pmb7IAtKo5ml",
        "colab_type": "text"
      },
      "cell_type": "markdown",
      "source": [
        "# POST-ANÁLISIS "
      ]
    },
    {
      "metadata": {
        "id": "8MBjZEAGo5mn",
        "colab_type": "text"
      },
      "cell_type": "markdown",
      "source": [
        "#### Observar la distribución que siguen los datos"
      ]
    },
    {
      "metadata": {
        "scrolled": false,
        "id": "GRtYVnbMo5mo",
        "colab_type": "code",
        "outputId": "561117df-633d-4b38-b467-37a0b1523278",
        "colab": {
          "base_uri": "https://localhost:8080/",
          "height": 304
        }
      },
      "cell_type": "code",
      "source": [
        "df_model.describe()"
      ],
      "execution_count": 4,
      "outputs": [
        {
          "output_type": "execute_result",
          "data": {
            "text/html": [
              "<div>\n",
              "<style scoped>\n",
              "    .dataframe tbody tr th:only-of-type {\n",
              "        vertical-align: middle;\n",
              "    }\n",
              "\n",
              "    .dataframe tbody tr th {\n",
              "        vertical-align: top;\n",
              "    }\n",
              "\n",
              "    .dataframe thead th {\n",
              "        text-align: right;\n",
              "    }\n",
              "</style>\n",
              "<table border=\"1\" class=\"dataframe\">\n",
              "  <thead>\n",
              "    <tr style=\"text-align: right;\">\n",
              "      <th></th>\n",
              "      <th>HY_id</th>\n",
              "      <th>HY_cod_postal</th>\n",
              "      <th>HY_antiguedad</th>\n",
              "      <th>HY_metros_utiles</th>\n",
              "      <th>HY_metros_totales</th>\n",
              "      <th>HY_num_banos</th>\n",
              "      <th>HY_num_terrazas</th>\n",
              "      <th>HY_ascensor</th>\n",
              "      <th>HY_trastero</th>\n",
              "      <th>HY_num_garajes</th>\n",
              "      <th>HY_precio</th>\n",
              "      <th>HY_precio_anterior</th>\n",
              "      <th>IDEA_area</th>\n",
              "      <th>IDEA_poblacion</th>\n",
              "      <th>IDEA_densidad</th>\n",
              "      <th>IDEA_pc_1960</th>\n",
              "      <th>IDEA_pc_1960_69</th>\n",
              "      <th>IDEA_pc_1970_79</th>\n",
              "      <th>IDEA_pc_1980_89</th>\n",
              "      <th>IDEA_pc_1990_99</th>\n",
              "      <th>IDEA_pc_2000_10</th>\n",
              "      <th>IDEA_pc_comercio</th>\n",
              "      <th>IDEA_pc_industria</th>\n",
              "      <th>IDEA_pc_oficina</th>\n",
              "      <th>IDEA_pc_otros</th>\n",
              "      <th>IDEA_pc_residencial</th>\n",
              "      <th>IDEA_pc_trast_parking</th>\n",
              "      <th>IDEA_ind_tienda</th>\n",
              "      <th>IDEA_ind_turismo</th>\n",
              "      <th>IDEA_ind_alimentacion</th>\n",
              "      <th>IDEA_ind_riqueza</th>\n",
              "      <th>IDEA_rent_alquiler</th>\n",
              "      <th>IDEA_ind_elasticidad</th>\n",
              "      <th>IDEA_ind_liquidez</th>\n",
              "      <th>IDEA_unitprice_sale_residential</th>\n",
              "      <th>IDEA_price_sale_residential</th>\n",
              "      <th>IDEA_stock_sale_residential</th>\n",
              "      <th>IDEA_demand_sale_residential</th>\n",
              "      <th>IDEA_unitprice_rent_residential</th>\n",
              "      <th>IDEA_price_rent_residential</th>\n",
              "      <th>IDEA_stock_rent_residential</th>\n",
              "      <th>IDEA_demand_rent_residential</th>\n",
              "      <th>GA_page_views</th>\n",
              "      <th>GA_mean_bounce</th>\n",
              "      <th>GA_exit_rate</th>\n",
              "      <th>GA_quincena_ini</th>\n",
              "      <th>GA_quincena_ult</th>\n",
              "      <th>TARGET</th>\n",
              "    </tr>\n",
              "  </thead>\n",
              "  <tbody>\n",
              "    <tr>\n",
              "      <th>count</th>\n",
              "      <td>9.958000e+03</td>\n",
              "      <td>9958.000000</td>\n",
              "      <td>4474.000000</td>\n",
              "      <td>7.072000e+03</td>\n",
              "      <td>9.924000e+03</td>\n",
              "      <td>9958.000000</td>\n",
              "      <td>9958.000000</td>\n",
              "      <td>9958.000000</td>\n",
              "      <td>9958.000000</td>\n",
              "      <td>9958.000000</td>\n",
              "      <td>9.958000e+03</td>\n",
              "      <td>6.800000e+03</td>\n",
              "      <td>7327.000000</td>\n",
              "      <td>7323.000000</td>\n",
              "      <td>7323.000000</td>\n",
              "      <td>7248.000000</td>\n",
              "      <td>7248.000000</td>\n",
              "      <td>7248.000000</td>\n",
              "      <td>7248.000000</td>\n",
              "      <td>7248.000000</td>\n",
              "      <td>7248.000000</td>\n",
              "      <td>7248.000000</td>\n",
              "      <td>7248.000000</td>\n",
              "      <td>7248.000000</td>\n",
              "      <td>7248.000000</td>\n",
              "      <td>7248.000000</td>\n",
              "      <td>7248.000000</td>\n",
              "      <td>7241.000000</td>\n",
              "      <td>7241.000000</td>\n",
              "      <td>7241.000000</td>\n",
              "      <td>7327.000000</td>\n",
              "      <td>6896.000000</td>\n",
              "      <td>4852.000000</td>\n",
              "      <td>4852.000000</td>\n",
              "      <td>7323.000000</td>\n",
              "      <td>7.323000e+03</td>\n",
              "      <td>7323.000000</td>\n",
              "      <td>7323.000000</td>\n",
              "      <td>6960.000000</td>\n",
              "      <td>6960.000000</td>\n",
              "      <td>6960.000000</td>\n",
              "      <td>7323.00000</td>\n",
              "      <td>9958.000000</td>\n",
              "      <td>9958.000000</td>\n",
              "      <td>9958.000000</td>\n",
              "      <td>9958.000000</td>\n",
              "      <td>9958.000000</td>\n",
              "      <td>9958.000000</td>\n",
              "    </tr>\n",
              "    <tr>\n",
              "      <th>mean</th>\n",
              "      <td>6.272842e+06</td>\n",
              "      <td>24008.655654</td>\n",
              "      <td>1997.306214</td>\n",
              "      <td>4.714240e+02</td>\n",
              "      <td>5.433917e+02</td>\n",
              "      <td>0.819642</td>\n",
              "      <td>0.019984</td>\n",
              "      <td>0.270436</td>\n",
              "      <td>0.062161</td>\n",
              "      <td>0.097007</td>\n",
              "      <td>7.672430e+04</td>\n",
              "      <td>8.939254e+04</td>\n",
              "      <td>5128.812502</td>\n",
              "      <td>10139.938004</td>\n",
              "      <td>34.918585</td>\n",
              "      <td>0.114331</td>\n",
              "      <td>0.114331</td>\n",
              "      <td>0.159658</td>\n",
              "      <td>0.132972</td>\n",
              "      <td>0.149433</td>\n",
              "      <td>0.328667</td>\n",
              "      <td>0.021454</td>\n",
              "      <td>0.007529</td>\n",
              "      <td>0.007345</td>\n",
              "      <td>0.054572</td>\n",
              "      <td>0.499603</td>\n",
              "      <td>0.407939</td>\n",
              "      <td>0.328359</td>\n",
              "      <td>0.324650</td>\n",
              "      <td>0.258952</td>\n",
              "      <td>0.164402</td>\n",
              "      <td>5.386890</td>\n",
              "      <td>3.054740</td>\n",
              "      <td>0.014984</td>\n",
              "      <td>1016.892884</td>\n",
              "      <td>1.448905e+05</td>\n",
              "      <td>1097.745596</td>\n",
              "      <td>48.774987</td>\n",
              "      <td>5.164539</td>\n",
              "      <td>601.835398</td>\n",
              "      <td>116.106897</td>\n",
              "      <td>47.52931</td>\n",
              "      <td>190.964652</td>\n",
              "      <td>18.715863</td>\n",
              "      <td>22.209963</td>\n",
              "      <td>14.421370</td>\n",
              "      <td>42.546596</td>\n",
              "      <td>74.155855</td>\n",
              "    </tr>\n",
              "    <tr>\n",
              "      <th>std</th>\n",
              "      <td>3.421042e+05</td>\n",
              "      <td>16685.040678</td>\n",
              "      <td>21.089912</td>\n",
              "      <td>2.192031e+04</td>\n",
              "      <td>1.921910e+04</td>\n",
              "      <td>2.913022</td>\n",
              "      <td>0.185066</td>\n",
              "      <td>0.444207</td>\n",
              "      <td>0.241460</td>\n",
              "      <td>0.297337</td>\n",
              "      <td>1.634361e+05</td>\n",
              "      <td>4.314146e+05</td>\n",
              "      <td>10660.457211</td>\n",
              "      <td>8507.308312</td>\n",
              "      <td>71.559554</td>\n",
              "      <td>0.093050</td>\n",
              "      <td>0.093050</td>\n",
              "      <td>0.109443</td>\n",
              "      <td>0.072701</td>\n",
              "      <td>0.074602</td>\n",
              "      <td>0.182306</td>\n",
              "      <td>0.016444</td>\n",
              "      <td>0.013751</td>\n",
              "      <td>0.011161</td>\n",
              "      <td>0.047847</td>\n",
              "      <td>0.079948</td>\n",
              "      <td>0.086394</td>\n",
              "      <td>0.283297</td>\n",
              "      <td>0.328937</td>\n",
              "      <td>0.244020</td>\n",
              "      <td>0.075067</td>\n",
              "      <td>1.295281</td>\n",
              "      <td>1.163774</td>\n",
              "      <td>0.489711</td>\n",
              "      <td>449.799793</td>\n",
              "      <td>8.500210e+04</td>\n",
              "      <td>849.334511</td>\n",
              "      <td>4.444144</td>\n",
              "      <td>1.815746</td>\n",
              "      <td>295.329588</td>\n",
              "      <td>249.668927</td>\n",
              "      <td>13.73609</td>\n",
              "      <td>482.313088</td>\n",
              "      <td>19.983743</td>\n",
              "      <td>20.995044</td>\n",
              "      <td>14.091417</td>\n",
              "      <td>8.404279</td>\n",
              "      <td>89.738992</td>\n",
              "    </tr>\n",
              "    <tr>\n",
              "      <th>min</th>\n",
              "      <td>6.028499e+06</td>\n",
              "      <td>2001.000000</td>\n",
              "      <td>1877.000000</td>\n",
              "      <td>0.000000e+00</td>\n",
              "      <td>0.000000e+00</td>\n",
              "      <td>0.000000</td>\n",
              "      <td>0.000000</td>\n",
              "      <td>0.000000</td>\n",
              "      <td>0.000000</td>\n",
              "      <td>0.000000</td>\n",
              "      <td>0.000000e+00</td>\n",
              "      <td>1.000000e+00</td>\n",
              "      <td>6.840000</td>\n",
              "      <td>1.000000</td>\n",
              "      <td>0.010000</td>\n",
              "      <td>0.000000</td>\n",
              "      <td>0.000000</td>\n",
              "      <td>0.000000</td>\n",
              "      <td>0.000000</td>\n",
              "      <td>0.000000</td>\n",
              "      <td>0.000000</td>\n",
              "      <td>0.000000</td>\n",
              "      <td>0.000000</td>\n",
              "      <td>0.000000</td>\n",
              "      <td>0.000000</td>\n",
              "      <td>0.020000</td>\n",
              "      <td>0.020000</td>\n",
              "      <td>0.000000</td>\n",
              "      <td>0.000000</td>\n",
              "      <td>0.000000</td>\n",
              "      <td>0.030000</td>\n",
              "      <td>2.500000</td>\n",
              "      <td>1.000000</td>\n",
              "      <td>-1.000000</td>\n",
              "      <td>273.830000</td>\n",
              "      <td>2.857500e+04</td>\n",
              "      <td>3.000000</td>\n",
              "      <td>0.000000</td>\n",
              "      <td>1.000000</td>\n",
              "      <td>180.000000</td>\n",
              "      <td>3.000000</td>\n",
              "      <td>0.00000</td>\n",
              "      <td>0.000000</td>\n",
              "      <td>0.000000</td>\n",
              "      <td>0.000000</td>\n",
              "      <td>1.000000</td>\n",
              "      <td>1.000000</td>\n",
              "      <td>0.000000</td>\n",
              "    </tr>\n",
              "    <tr>\n",
              "      <th>25%</th>\n",
              "      <td>6.039048e+06</td>\n",
              "      <td>4800.000000</td>\n",
              "      <td>1992.000000</td>\n",
              "      <td>1.428500e+01</td>\n",
              "      <td>3.170000e+01</td>\n",
              "      <td>0.000000</td>\n",
              "      <td>0.000000</td>\n",
              "      <td>0.000000</td>\n",
              "      <td>0.000000</td>\n",
              "      <td>0.000000</td>\n",
              "      <td>1.050000e+04</td>\n",
              "      <td>1.230000e+04</td>\n",
              "      <td>285.700000</td>\n",
              "      <td>3430.000000</td>\n",
              "      <td>1.040000</td>\n",
              "      <td>0.040000</td>\n",
              "      <td>0.040000</td>\n",
              "      <td>0.090000</td>\n",
              "      <td>0.090000</td>\n",
              "      <td>0.100000</td>\n",
              "      <td>0.190000</td>\n",
              "      <td>0.010000</td>\n",
              "      <td>0.000000</td>\n",
              "      <td>0.000000</td>\n",
              "      <td>0.020000</td>\n",
              "      <td>0.450000</td>\n",
              "      <td>0.350000</td>\n",
              "      <td>0.000000</td>\n",
              "      <td>0.040000</td>\n",
              "      <td>0.000000</td>\n",
              "      <td>0.120000</td>\n",
              "      <td>4.540000</td>\n",
              "      <td>2.000000</td>\n",
              "      <td>0.000000</td>\n",
              "      <td>735.090000</td>\n",
              "      <td>9.996269e+04</td>\n",
              "      <td>456.000000</td>\n",
              "      <td>48.710000</td>\n",
              "      <td>3.980000</td>\n",
              "      <td>442.730000</td>\n",
              "      <td>24.000000</td>\n",
              "      <td>50.94000</td>\n",
              "      <td>6.000000</td>\n",
              "      <td>0.000000</td>\n",
              "      <td>8.612500</td>\n",
              "      <td>2.000000</td>\n",
              "      <td>42.000000</td>\n",
              "      <td>28.655000</td>\n",
              "    </tr>\n",
              "    <tr>\n",
              "      <th>50%</th>\n",
              "      <td>6.080821e+06</td>\n",
              "      <td>28980.500000</td>\n",
              "      <td>2007.000000</td>\n",
              "      <td>6.300000e+01</td>\n",
              "      <td>8.100000e+01</td>\n",
              "      <td>1.000000</td>\n",
              "      <td>0.000000</td>\n",
              "      <td>0.000000</td>\n",
              "      <td>0.000000</td>\n",
              "      <td>0.000000</td>\n",
              "      <td>5.970000e+04</td>\n",
              "      <td>6.410000e+04</td>\n",
              "      <td>1391.520000</td>\n",
              "      <td>7693.000000</td>\n",
              "      <td>4.520000</td>\n",
              "      <td>0.100000</td>\n",
              "      <td>0.100000</td>\n",
              "      <td>0.140000</td>\n",
              "      <td>0.120000</td>\n",
              "      <td>0.140000</td>\n",
              "      <td>0.300000</td>\n",
              "      <td>0.020000</td>\n",
              "      <td>0.000000</td>\n",
              "      <td>0.010000</td>\n",
              "      <td>0.040000</td>\n",
              "      <td>0.500000</td>\n",
              "      <td>0.420000</td>\n",
              "      <td>0.330000</td>\n",
              "      <td>0.230000</td>\n",
              "      <td>0.230000</td>\n",
              "      <td>0.140000</td>\n",
              "      <td>5.185000</td>\n",
              "      <td>3.000000</td>\n",
              "      <td>0.000000</td>\n",
              "      <td>910.090000</td>\n",
              "      <td>1.250455e+05</td>\n",
              "      <td>954.000000</td>\n",
              "      <td>49.160000</td>\n",
              "      <td>4.810000</td>\n",
              "      <td>524.140000</td>\n",
              "      <td>57.000000</td>\n",
              "      <td>51.39000</td>\n",
              "      <td>30.000000</td>\n",
              "      <td>14.290000</td>\n",
              "      <td>16.960000</td>\n",
              "      <td>9.000000</td>\n",
              "      <td>46.000000</td>\n",
              "      <td>56.275000</td>\n",
              "    </tr>\n",
              "    <tr>\n",
              "      <th>75%</th>\n",
              "      <td>6.528256e+06</td>\n",
              "      <td>43540.000000</td>\n",
              "      <td>2009.000000</td>\n",
              "      <td>9.000000e+01</td>\n",
              "      <td>1.149800e+02</td>\n",
              "      <td>1.000000</td>\n",
              "      <td>0.000000</td>\n",
              "      <td>1.000000</td>\n",
              "      <td>0.000000</td>\n",
              "      <td>0.000000</td>\n",
              "      <td>9.170000e+04</td>\n",
              "      <td>9.710000e+04</td>\n",
              "      <td>4725.930000</td>\n",
              "      <td>14999.000000</td>\n",
              "      <td>25.130000</td>\n",
              "      <td>0.170000</td>\n",
              "      <td>0.170000</td>\n",
              "      <td>0.210000</td>\n",
              "      <td>0.160000</td>\n",
              "      <td>0.180000</td>\n",
              "      <td>0.450000</td>\n",
              "      <td>0.030000</td>\n",
              "      <td>0.010000</td>\n",
              "      <td>0.010000</td>\n",
              "      <td>0.070000</td>\n",
              "      <td>0.550000</td>\n",
              "      <td>0.460000</td>\n",
              "      <td>0.510000</td>\n",
              "      <td>0.540000</td>\n",
              "      <td>0.410000</td>\n",
              "      <td>0.190000</td>\n",
              "      <td>5.960000</td>\n",
              "      <td>4.000000</td>\n",
              "      <td>0.000000</td>\n",
              "      <td>1141.410000</td>\n",
              "      <td>1.610110e+05</td>\n",
              "      <td>1509.000000</td>\n",
              "      <td>49.660000</td>\n",
              "      <td>5.940000</td>\n",
              "      <td>677.330000</td>\n",
              "      <td>120.000000</td>\n",
              "      <td>51.88000</td>\n",
              "      <td>168.000000</td>\n",
              "      <td>29.170000</td>\n",
              "      <td>30.000000</td>\n",
              "      <td>26.000000</td>\n",
              "      <td>47.000000</td>\n",
              "      <td>90.507500</td>\n",
              "    </tr>\n",
              "    <tr>\n",
              "      <th>max</th>\n",
              "      <td>7.017665e+06</td>\n",
              "      <td>50370.000000</td>\n",
              "      <td>2088.000000</td>\n",
              "      <td>1.820000e+06</td>\n",
              "      <td>1.820000e+06</td>\n",
              "      <td>99.000000</td>\n",
              "      <td>10.000000</td>\n",
              "      <td>1.000000</td>\n",
              "      <td>1.000000</td>\n",
              "      <td>2.000000</td>\n",
              "      <td>1.040000e+07</td>\n",
              "      <td>3.083310e+07</td>\n",
              "      <td>107512.650000</td>\n",
              "      <td>54589.000000</td>\n",
              "      <td>526.030000</td>\n",
              "      <td>0.480000</td>\n",
              "      <td>0.480000</td>\n",
              "      <td>0.990000</td>\n",
              "      <td>0.940000</td>\n",
              "      <td>0.800000</td>\n",
              "      <td>1.000000</td>\n",
              "      <td>0.170000</td>\n",
              "      <td>0.230000</td>\n",
              "      <td>0.220000</td>\n",
              "      <td>0.430000</td>\n",
              "      <td>0.910000</td>\n",
              "      <td>0.850000</td>\n",
              "      <td>1.000000</td>\n",
              "      <td>1.000000</td>\n",
              "      <td>1.000000</td>\n",
              "      <td>1.000000</td>\n",
              "      <td>12.000000</td>\n",
              "      <td>5.000000</td>\n",
              "      <td>1.000000</td>\n",
              "      <td>6363.400000</td>\n",
              "      <td>1.360886e+06</td>\n",
              "      <td>5139.000000</td>\n",
              "      <td>52.380000</td>\n",
              "      <td>18.750000</td>\n",
              "      <td>3023.800000</td>\n",
              "      <td>5685.000000</td>\n",
              "      <td>54.22000</td>\n",
              "      <td>13698.000000</td>\n",
              "      <td>100.000000</td>\n",
              "      <td>100.000000</td>\n",
              "      <td>47.000000</td>\n",
              "      <td>47.000000</td>\n",
              "      <td>1770.000000</td>\n",
              "    </tr>\n",
              "  </tbody>\n",
              "</table>\n",
              "</div>"
            ],
            "text/plain": [
              "              HY_id  HY_cod_postal  HY_antiguedad  HY_metros_utiles  \\\n",
              "count  9.958000e+03    9958.000000    4474.000000      7.072000e+03   \n",
              "mean   6.272842e+06   24008.655654    1997.306214      4.714240e+02   \n",
              "std    3.421042e+05   16685.040678      21.089912      2.192031e+04   \n",
              "min    6.028499e+06    2001.000000    1877.000000      0.000000e+00   \n",
              "25%    6.039048e+06    4800.000000    1992.000000      1.428500e+01   \n",
              "50%    6.080821e+06   28980.500000    2007.000000      6.300000e+01   \n",
              "75%    6.528256e+06   43540.000000    2009.000000      9.000000e+01   \n",
              "max    7.017665e+06   50370.000000    2088.000000      1.820000e+06   \n",
              "\n",
              "       HY_metros_totales  HY_num_banos  HY_num_terrazas  HY_ascensor  \\\n",
              "count       9.924000e+03   9958.000000      9958.000000  9958.000000   \n",
              "mean        5.433917e+02      0.819642         0.019984     0.270436   \n",
              "std         1.921910e+04      2.913022         0.185066     0.444207   \n",
              "min         0.000000e+00      0.000000         0.000000     0.000000   \n",
              "25%         3.170000e+01      0.000000         0.000000     0.000000   \n",
              "50%         8.100000e+01      1.000000         0.000000     0.000000   \n",
              "75%         1.149800e+02      1.000000         0.000000     1.000000   \n",
              "max         1.820000e+06     99.000000        10.000000     1.000000   \n",
              "\n",
              "       HY_trastero  HY_num_garajes     HY_precio  HY_precio_anterior  \\\n",
              "count  9958.000000     9958.000000  9.958000e+03        6.800000e+03   \n",
              "mean      0.062161        0.097007  7.672430e+04        8.939254e+04   \n",
              "std       0.241460        0.297337  1.634361e+05        4.314146e+05   \n",
              "min       0.000000        0.000000  0.000000e+00        1.000000e+00   \n",
              "25%       0.000000        0.000000  1.050000e+04        1.230000e+04   \n",
              "50%       0.000000        0.000000  5.970000e+04        6.410000e+04   \n",
              "75%       0.000000        0.000000  9.170000e+04        9.710000e+04   \n",
              "max       1.000000        2.000000  1.040000e+07        3.083310e+07   \n",
              "\n",
              "           IDEA_area  IDEA_poblacion  IDEA_densidad  IDEA_pc_1960  \\\n",
              "count    7327.000000     7323.000000    7323.000000   7248.000000   \n",
              "mean     5128.812502    10139.938004      34.918585      0.114331   \n",
              "std     10660.457211     8507.308312      71.559554      0.093050   \n",
              "min         6.840000        1.000000       0.010000      0.000000   \n",
              "25%       285.700000     3430.000000       1.040000      0.040000   \n",
              "50%      1391.520000     7693.000000       4.520000      0.100000   \n",
              "75%      4725.930000    14999.000000      25.130000      0.170000   \n",
              "max    107512.650000    54589.000000     526.030000      0.480000   \n",
              "\n",
              "       IDEA_pc_1960_69  IDEA_pc_1970_79  IDEA_pc_1980_89  IDEA_pc_1990_99  \\\n",
              "count      7248.000000      7248.000000      7248.000000      7248.000000   \n",
              "mean          0.114331         0.159658         0.132972         0.149433   \n",
              "std           0.093050         0.109443         0.072701         0.074602   \n",
              "min           0.000000         0.000000         0.000000         0.000000   \n",
              "25%           0.040000         0.090000         0.090000         0.100000   \n",
              "50%           0.100000         0.140000         0.120000         0.140000   \n",
              "75%           0.170000         0.210000         0.160000         0.180000   \n",
              "max           0.480000         0.990000         0.940000         0.800000   \n",
              "\n",
              "       IDEA_pc_2000_10  IDEA_pc_comercio  IDEA_pc_industria  IDEA_pc_oficina  \\\n",
              "count      7248.000000       7248.000000        7248.000000      7248.000000   \n",
              "mean          0.328667          0.021454           0.007529         0.007345   \n",
              "std           0.182306          0.016444           0.013751         0.011161   \n",
              "min           0.000000          0.000000           0.000000         0.000000   \n",
              "25%           0.190000          0.010000           0.000000         0.000000   \n",
              "50%           0.300000          0.020000           0.000000         0.010000   \n",
              "75%           0.450000          0.030000           0.010000         0.010000   \n",
              "max           1.000000          0.170000           0.230000         0.220000   \n",
              "\n",
              "       IDEA_pc_otros  IDEA_pc_residencial  IDEA_pc_trast_parking  \\\n",
              "count    7248.000000          7248.000000            7248.000000   \n",
              "mean        0.054572             0.499603               0.407939   \n",
              "std         0.047847             0.079948               0.086394   \n",
              "min         0.000000             0.020000               0.020000   \n",
              "25%         0.020000             0.450000               0.350000   \n",
              "50%         0.040000             0.500000               0.420000   \n",
              "75%         0.070000             0.550000               0.460000   \n",
              "max         0.430000             0.910000               0.850000   \n",
              "\n",
              "       IDEA_ind_tienda  IDEA_ind_turismo  IDEA_ind_alimentacion  \\\n",
              "count      7241.000000       7241.000000            7241.000000   \n",
              "mean          0.328359          0.324650               0.258952   \n",
              "std           0.283297          0.328937               0.244020   \n",
              "min           0.000000          0.000000               0.000000   \n",
              "25%           0.000000          0.040000               0.000000   \n",
              "50%           0.330000          0.230000               0.230000   \n",
              "75%           0.510000          0.540000               0.410000   \n",
              "max           1.000000          1.000000               1.000000   \n",
              "\n",
              "       IDEA_ind_riqueza  IDEA_rent_alquiler  IDEA_ind_elasticidad  \\\n",
              "count       7327.000000         6896.000000           4852.000000   \n",
              "mean           0.164402            5.386890              3.054740   \n",
              "std            0.075067            1.295281              1.163774   \n",
              "min            0.030000            2.500000              1.000000   \n",
              "25%            0.120000            4.540000              2.000000   \n",
              "50%            0.140000            5.185000              3.000000   \n",
              "75%            0.190000            5.960000              4.000000   \n",
              "max            1.000000           12.000000              5.000000   \n",
              "\n",
              "       IDEA_ind_liquidez  IDEA_unitprice_sale_residential  \\\n",
              "count        4852.000000                      7323.000000   \n",
              "mean            0.014984                      1016.892884   \n",
              "std             0.489711                       449.799793   \n",
              "min            -1.000000                       273.830000   \n",
              "25%             0.000000                       735.090000   \n",
              "50%             0.000000                       910.090000   \n",
              "75%             0.000000                      1141.410000   \n",
              "max             1.000000                      6363.400000   \n",
              "\n",
              "       IDEA_price_sale_residential  IDEA_stock_sale_residential  \\\n",
              "count                 7.323000e+03                  7323.000000   \n",
              "mean                  1.448905e+05                  1097.745596   \n",
              "std                   8.500210e+04                   849.334511   \n",
              "min                   2.857500e+04                     3.000000   \n",
              "25%                   9.996269e+04                   456.000000   \n",
              "50%                   1.250455e+05                   954.000000   \n",
              "75%                   1.610110e+05                  1509.000000   \n",
              "max                   1.360886e+06                  5139.000000   \n",
              "\n",
              "       IDEA_demand_sale_residential  IDEA_unitprice_rent_residential  \\\n",
              "count                   7323.000000                      6960.000000   \n",
              "mean                      48.774987                         5.164539   \n",
              "std                        4.444144                         1.815746   \n",
              "min                        0.000000                         1.000000   \n",
              "25%                       48.710000                         3.980000   \n",
              "50%                       49.160000                         4.810000   \n",
              "75%                       49.660000                         5.940000   \n",
              "max                       52.380000                        18.750000   \n",
              "\n",
              "       IDEA_price_rent_residential  IDEA_stock_rent_residential  \\\n",
              "count                  6960.000000                  6960.000000   \n",
              "mean                    601.835398                   116.106897   \n",
              "std                     295.329588                   249.668927   \n",
              "min                     180.000000                     3.000000   \n",
              "25%                     442.730000                    24.000000   \n",
              "50%                     524.140000                    57.000000   \n",
              "75%                     677.330000                   120.000000   \n",
              "max                    3023.800000                  5685.000000   \n",
              "\n",
              "       IDEA_demand_rent_residential  GA_page_views  GA_mean_bounce  \\\n",
              "count                    7323.00000    9958.000000     9958.000000   \n",
              "mean                       47.52931     190.964652       18.715863   \n",
              "std                        13.73609     482.313088       19.983743   \n",
              "min                         0.00000       0.000000        0.000000   \n",
              "25%                        50.94000       6.000000        0.000000   \n",
              "50%                        51.39000      30.000000       14.290000   \n",
              "75%                        51.88000     168.000000       29.170000   \n",
              "max                        54.22000   13698.000000      100.000000   \n",
              "\n",
              "       GA_exit_rate  GA_quincena_ini  GA_quincena_ult       TARGET  \n",
              "count   9958.000000      9958.000000      9958.000000  9958.000000  \n",
              "mean      22.209963        14.421370        42.546596    74.155855  \n",
              "std       20.995044        14.091417         8.404279    89.738992  \n",
              "min        0.000000         1.000000         1.000000     0.000000  \n",
              "25%        8.612500         2.000000        42.000000    28.655000  \n",
              "50%       16.960000         9.000000        46.000000    56.275000  \n",
              "75%       30.000000        26.000000        47.000000    90.507500  \n",
              "max      100.000000        47.000000        47.000000  1770.000000  "
            ]
          },
          "metadata": {
            "tags": []
          },
          "execution_count": 4
        }
      ]
    },
    {
      "metadata": {
        "id": "I5A-cFrlo5m6",
        "colab_type": "text"
      },
      "cell_type": "markdown",
      "source": [
        "# MODELIZACIÓN DE LOS DATOS"
      ]
    },
    {
      "metadata": {
        "id": "Ab3uNEuKo5mr",
        "colab_type": "text"
      },
      "cell_type": "markdown",
      "source": [
        "#### Crear un subconjunto donde no existen las categorías redundantes"
      ]
    },
    {
      "metadata": {
        "id": "g_RZyIYho5mt",
        "colab_type": "code",
        "colab": {}
      },
      "cell_type": "code",
      "source": [
        "noDesired_columns= [\"HY_id\",\"HY_provincia\",\"HY_descripcion\",\"HY_distribucion\"]\n",
        "\n",
        "def no_desired_columns(df,noDesired_columns ):\n",
        "  total_columns= df.columns.values.tolist()\n",
        "\n",
        "  sublist= [i for i in total_columns  if i not in noDesired_columns] # selecciona las columnas que no son las indicadas en noDesired_columns\n",
        "  res_model = df[sublist]\n",
        "  return res_model\n",
        "\n",
        "s_df_model=no_desired_columns(df_model,noDesired_columns)"
      ],
      "execution_count": 0,
      "outputs": []
    },
    {
      "metadata": {
        "id": "EYxhtAbE3bJd",
        "colab_type": "text"
      },
      "cell_type": "markdown",
      "source": [
        "#### Transformamos las categorias nominales a númericas"
      ]
    },
    {
      "metadata": {
        "id": "yhMDc_7u3la6",
        "colab_type": "text"
      },
      "cell_type": "markdown",
      "source": [
        "De esta forma se podra utilizar a posteriori los arboles de decisión en la clasificación (https://pbpython.com/categorical-encoding.html)"
      ]
    },
    {
      "metadata": {
        "id": "intOMzfa7G2b",
        "colab_type": "text"
      },
      "cell_type": "markdown",
      "source": [
        "Obervamos las categorias de tipo nominal o object"
      ]
    },
    {
      "metadata": {
        "id": "Wnw_u95q3ta7",
        "colab_type": "code",
        "outputId": "ea81f3bc-96e7-4e5e-e51c-ff253e93a76f",
        "colab": {
          "base_uri": "https://localhost:8080/",
          "height": 34
        }
      },
      "cell_type": "code",
      "source": [
        "obj_df= s_df_model.select_dtypes(include=['object']).columns.tolist()\n",
        "obj_df\n",
        "#En el siguiente paso de missins eliminamos HY_cert_energ debido a la gran cantidad de nulls"
      ],
      "execution_count": 6,
      "outputs": [
        {
          "output_type": "execute_result",
          "data": {
            "text/plain": [
              "['HY_tipo', 'HY_cert_energ']"
            ]
          },
          "metadata": {
            "tags": []
          },
          "execution_count": 6
        }
      ]
    },
    {
      "metadata": {
        "id": "epfeGFYWN7hL",
        "colab_type": "text"
      },
      "cell_type": "markdown",
      "source": [
        "##### Tipo"
      ]
    },
    {
      "metadata": {
        "id": "iHwZ7ibg3tg3",
        "colab_type": "code",
        "outputId": "31b6cf74-2324-4e8d-8008-b6e7b5a3a28c",
        "colab": {
          "base_uri": "https://localhost:8080/",
          "height": 370
        }
      },
      "cell_type": "code",
      "source": [
        "s_df_model[\"HY_tipo\"].value_counts()"
      ],
      "execution_count": 7,
      "outputs": [
        {
          "output_type": "execute_result",
          "data": {
            "text/plain": [
              "Piso                            4182\n",
              "Garaje                          2761\n",
              "Local                            827\n",
              "Casa de pueblo                   557\n",
              "Chalet adosado                   433\n",
              "Trastero                         282\n",
              "Chalet independiente             209\n",
              "Solar                            198\n",
              "Dúplex                           184\n",
              "Nave adosada                     130\n",
              "Oficina                          103\n",
              "Nave aislada                      38\n",
              "Edificio turístico                17\n",
              "Otro                              12\n",
              "Chalet pareado                     9\n",
              "Ático                              8\n",
              "Almacén                            3\n",
              "Suelo rústico no urbanizable       2\n",
              "Edificio comercial                 2\n",
              "Aparcamiento                       1\n",
              "Name: HY_tipo, dtype: int64"
            ]
          },
          "metadata": {
            "tags": []
          },
          "execution_count": 7
        }
      ]
    },
    {
      "metadata": {
        "id": "HHXihsJBGRl0",
        "colab_type": "text"
      },
      "cell_type": "markdown",
      "source": [
        "Label Encoding\n",
        "\n",
        "\n",
        "\n",
        "*   Pasamos a categoria los valores nominales(HY_tipo y HY_cert_energ)\n",
        "\n",
        "\n",
        "\n",
        "\n"
      ]
    },
    {
      "metadata": {
        "id": "OZyORZb1PL4q",
        "colab_type": "code",
        "colab": {}
      },
      "cell_type": "code",
      "source": [
        "lb_make=LabelEncoder()\n",
        "s_df_model['HY_tipo']=lb_make.fit_transform(s_df_model[\"HY_tipo\"])"
      ],
      "execution_count": 0,
      "outputs": []
    },
    {
      "metadata": {
        "id": "_SNLb9BhH5UL",
        "colab_type": "code",
        "outputId": "8b00ce8e-4192-407d-b053-a50f2d4129a0",
        "colab": {
          "base_uri": "https://localhost:8080/",
          "height": 370
        }
      },
      "cell_type": "code",
      "source": [
        "s_df_model[\"HY_tipo\"].value_counts()"
      ],
      "execution_count": 9,
      "outputs": [
        {
          "output_type": "execute_result",
          "data": {
            "text/plain": [
              "15    4182\n",
              "9     2761\n",
              "10     827\n",
              "2      557\n",
              "3      433\n",
              "18     282\n",
              "4      209\n",
              "16     198\n",
              "6      184\n",
              "11     130\n",
              "13     103\n",
              "12      38\n",
              "8       17\n",
              "14      12\n",
              "5        9\n",
              "19       8\n",
              "0        3\n",
              "7        2\n",
              "17       2\n",
              "1        1\n",
              "Name: HY_tipo, dtype: int64"
            ]
          },
          "metadata": {
            "tags": []
          },
          "execution_count": 9
        }
      ]
    },
    {
      "metadata": {
        "id": "S4WE0v0So5m0",
        "colab_type": "text"
      },
      "cell_type": "markdown",
      "source": [
        "### Missing values (Preprocessing and Normalization)"
      ]
    },
    {
      "metadata": {
        "id": "fh2RNoeJS3SZ",
        "colab_type": "text"
      },
      "cell_type": "markdown",
      "source": [
        "https://towardsdatascience.com/the-tale-of-missing-values-in-python-c96beb0e8a9d\n",
        "https://scikit-learn.org/stable/modules/impute.html\n",
        "https://scikit-learn.org/stable/modules/impute.html\n"
      ]
    },
    {
      "metadata": {
        "id": "2_5Ppj1o01X5",
        "colab_type": "text"
      },
      "cell_type": "markdown",
      "source": [
        "##### Cantidad de null y eliminación de columns"
      ]
    },
    {
      "metadata": {
        "id": "51Nx7YL2ONu-",
        "colab_type": "code",
        "colab": {}
      },
      "cell_type": "code",
      "source": [
        "s_df_model.isna().sum()"
      ],
      "execution_count": 0,
      "outputs": []
    },
    {
      "metadata": {
        "id": "QyhfRXNhvscg",
        "colab_type": "text"
      },
      "cell_type": "markdown",
      "source": [
        "Eliminamos el certificado de energia debido a la gran cantidad de nulls"
      ]
    },
    {
      "metadata": {
        "id": "p9556oKxvpXw",
        "colab_type": "code",
        "colab": {}
      },
      "cell_type": "code",
      "source": [
        "s_df_model=s_df_model.drop(['HY_cert_energ'],axis=1)"
      ],
      "execution_count": 0,
      "outputs": []
    },
    {
      "metadata": {
        "id": "B_yBuyjvoJ-j",
        "colab_type": "text"
      },
      "cell_type": "markdown",
      "source": [
        "#### Predición y relleno de nulls (https://stackoverflow.com/questions/40996051/predict-na-missing-values-with-machine-learning)"
      ]
    },
    {
      "metadata": {
        "id": "mQqeuw92xs5J",
        "colab_type": "text"
      },
      "cell_type": "markdown",
      "source": [
        "Nos quedamos con el dataframe sin nulls"
      ]
    },
    {
      "metadata": {
        "colab_type": "code",
        "id": "S8qM57-pgL1G",
        "colab": {
          "base_uri": "https://localhost:8080/",
          "height": 1710
        },
        "outputId": "f03a2eab-0daf-4bfa-b5ec-4b3a9eac1f2e"
      },
      "cell_type": "code",
      "source": [
        "target_column='HY_metros_utiles'\n",
        "index_of_target = s_df_model.columns.get_loc(target_column)\n",
        "#Separamos en notNans y nans\n",
        "notnans= s_df_model.notnull().all(axis=1)\n",
        "df_notnans= s_df_model[notnans]\n",
        "df_nans= s_df_model.loc[~notnans]\n",
        "df_nans=no_desired_columns(s_df_model,target_column)\n",
        "df_nans=df_nans.fillna(df_nans.mean())\n",
        "\n",
        "#Objetivo y predcitores para el clasificador\n",
        "predictors=no_desired_columns(df_notnans,target_column)\n",
        "target=df_notnans[target_column]\n",
        "\n",
        "#Clasificador\n",
        "regtree= DecisionTreeRegressor(min_samples_split=25,min_samples_leaf=1,random_state=None)\n",
        "regtree.fit(predictors,target)\n",
        "\n",
        "#Predicción\n",
        "to_predict= df_nans\n",
        "name_pred_column=target_column+\"_pred\"\n",
        "to_predict[name_pred_column]= regtree.predict(to_predict)\n",
        "\n",
        "#Concatenamos el df de predecido y el original sin nans\n",
        "pd.concat([df_model, df_esti],axis=0) \n",
        "\n",
        "s_df_model.join(to_predict)"
      ],
      "execution_count": 43,
      "outputs": [
        {
          "output_type": "error",
          "ename": "KeyError",
          "evalue": "ignored",
          "traceback": [
            "\u001b[0;31m---------------------------------------------------------------------------\u001b[0m",
            "\u001b[0;31mKeyError\u001b[0m                                  Traceback (most recent call last)",
            "\u001b[0;32m/usr/local/lib/python3.6/dist-packages/pandas/core/indexes/base.py\u001b[0m in \u001b[0;36mget_loc\u001b[0;34m(self, key, method, tolerance)\u001b[0m\n\u001b[1;32m   2524\u001b[0m             \u001b[0;32mtry\u001b[0m\u001b[0;34m:\u001b[0m\u001b[0;34m\u001b[0m\u001b[0;34m\u001b[0m\u001b[0m\n\u001b[0;32m-> 2525\u001b[0;31m                 \u001b[0;32mreturn\u001b[0m \u001b[0mself\u001b[0m\u001b[0;34m.\u001b[0m\u001b[0m_engine\u001b[0m\u001b[0;34m.\u001b[0m\u001b[0mget_loc\u001b[0m\u001b[0;34m(\u001b[0m\u001b[0mkey\u001b[0m\u001b[0;34m)\u001b[0m\u001b[0;34m\u001b[0m\u001b[0;34m\u001b[0m\u001b[0m\n\u001b[0m\u001b[1;32m   2526\u001b[0m             \u001b[0;32mexcept\u001b[0m \u001b[0mKeyError\u001b[0m\u001b[0;34m:\u001b[0m\u001b[0;34m\u001b[0m\u001b[0;34m\u001b[0m\u001b[0m\n",
            "\u001b[0;32mpandas/_libs/index.pyx\u001b[0m in \u001b[0;36mpandas._libs.index.IndexEngine.get_loc\u001b[0;34m()\u001b[0m\n",
            "\u001b[0;32mpandas/_libs/index.pyx\u001b[0m in \u001b[0;36mpandas._libs.index.IndexEngine.get_loc\u001b[0;34m()\u001b[0m\n",
            "\u001b[0;32mpandas/_libs/hashtable_class_helper.pxi\u001b[0m in \u001b[0;36mpandas._libs.hashtable.PyObjectHashTable.get_item\u001b[0;34m()\u001b[0m\n",
            "\u001b[0;32mpandas/_libs/hashtable_class_helper.pxi\u001b[0m in \u001b[0;36mpandas._libs.hashtable.PyObjectHashTable.get_item\u001b[0;34m()\u001b[0m\n",
            "\u001b[0;31mKeyError\u001b[0m: 'HY_metros_utiles'",
            "\nDuring handling of the above exception, another exception occurred:\n",
            "\u001b[0;31mKeyError\u001b[0m                                  Traceback (most recent call last)",
            "\u001b[0;32m<ipython-input-43-e1acd242053d>\u001b[0m in \u001b[0;36m<module>\u001b[0;34m()\u001b[0m\n\u001b[1;32m     20\u001b[0m \u001b[0mto_predict\u001b[0m\u001b[0;34m[\u001b[0m\u001b[0mname_pred_column\u001b[0m\u001b[0;34m]\u001b[0m\u001b[0;34m=\u001b[0m \u001b[0mregtree\u001b[0m\u001b[0;34m.\u001b[0m\u001b[0mpredict\u001b[0m\u001b[0;34m(\u001b[0m\u001b[0mto_predict\u001b[0m\u001b[0;34m)\u001b[0m\u001b[0;34m\u001b[0m\u001b[0;34m\u001b[0m\u001b[0m\n\u001b[1;32m     21\u001b[0m \u001b[0;34m\u001b[0m\u001b[0m\n\u001b[0;32m---> 22\u001b[0;31m \u001b[0ms_df_model\u001b[0m\u001b[0;34m.\u001b[0m\u001b[0mmerge\u001b[0m\u001b[0;34m(\u001b[0m\u001b[0mto_predict\u001b[0m\u001b[0;34m,\u001b[0m \u001b[0mleft_on\u001b[0m\u001b[0;34m=\u001b[0m\u001b[0mtarget_column\u001b[0m\u001b[0;34m,\u001b[0m \u001b[0mright_on\u001b[0m\u001b[0;34m=\u001b[0m\u001b[0mtarget_column\u001b[0m\u001b[0;34m)\u001b[0m\u001b[0;34m\u001b[0m\u001b[0;34m\u001b[0m\u001b[0m\n\u001b[0m",
            "\u001b[0;32m/usr/local/lib/python3.6/dist-packages/pandas/core/frame.py\u001b[0m in \u001b[0;36mmerge\u001b[0;34m(self, right, how, on, left_on, right_on, left_index, right_index, sort, suffixes, copy, indicator, validate)\u001b[0m\n\u001b[1;32m   5368\u001b[0m                      \u001b[0mright_on\u001b[0m\u001b[0;34m=\u001b[0m\u001b[0mright_on\u001b[0m\u001b[0;34m,\u001b[0m \u001b[0mleft_index\u001b[0m\u001b[0;34m=\u001b[0m\u001b[0mleft_index\u001b[0m\u001b[0;34m,\u001b[0m\u001b[0;34m\u001b[0m\u001b[0;34m\u001b[0m\u001b[0m\n\u001b[1;32m   5369\u001b[0m                      \u001b[0mright_index\u001b[0m\u001b[0;34m=\u001b[0m\u001b[0mright_index\u001b[0m\u001b[0;34m,\u001b[0m \u001b[0msort\u001b[0m\u001b[0;34m=\u001b[0m\u001b[0msort\u001b[0m\u001b[0;34m,\u001b[0m \u001b[0msuffixes\u001b[0m\u001b[0;34m=\u001b[0m\u001b[0msuffixes\u001b[0m\u001b[0;34m,\u001b[0m\u001b[0;34m\u001b[0m\u001b[0;34m\u001b[0m\u001b[0m\n\u001b[0;32m-> 5370\u001b[0;31m                      copy=copy, indicator=indicator, validate=validate)\n\u001b[0m\u001b[1;32m   5371\u001b[0m \u001b[0;34m\u001b[0m\u001b[0m\n\u001b[1;32m   5372\u001b[0m     \u001b[0;32mdef\u001b[0m \u001b[0mround\u001b[0m\u001b[0;34m(\u001b[0m\u001b[0mself\u001b[0m\u001b[0;34m,\u001b[0m \u001b[0mdecimals\u001b[0m\u001b[0;34m=\u001b[0m\u001b[0;36m0\u001b[0m\u001b[0;34m,\u001b[0m \u001b[0;34m*\u001b[0m\u001b[0margs\u001b[0m\u001b[0;34m,\u001b[0m \u001b[0;34m**\u001b[0m\u001b[0mkwargs\u001b[0m\u001b[0;34m)\u001b[0m\u001b[0;34m:\u001b[0m\u001b[0;34m\u001b[0m\u001b[0;34m\u001b[0m\u001b[0m\n",
            "\u001b[0;32m/usr/local/lib/python3.6/dist-packages/pandas/core/reshape/merge.py\u001b[0m in \u001b[0;36mmerge\u001b[0;34m(left, right, how, on, left_on, right_on, left_index, right_index, sort, suffixes, copy, indicator, validate)\u001b[0m\n\u001b[1;32m     55\u001b[0m                          \u001b[0mright_index\u001b[0m\u001b[0;34m=\u001b[0m\u001b[0mright_index\u001b[0m\u001b[0;34m,\u001b[0m \u001b[0msort\u001b[0m\u001b[0;34m=\u001b[0m\u001b[0msort\u001b[0m\u001b[0;34m,\u001b[0m \u001b[0msuffixes\u001b[0m\u001b[0;34m=\u001b[0m\u001b[0msuffixes\u001b[0m\u001b[0;34m,\u001b[0m\u001b[0;34m\u001b[0m\u001b[0;34m\u001b[0m\u001b[0m\n\u001b[1;32m     56\u001b[0m                          \u001b[0mcopy\u001b[0m\u001b[0;34m=\u001b[0m\u001b[0mcopy\u001b[0m\u001b[0;34m,\u001b[0m \u001b[0mindicator\u001b[0m\u001b[0;34m=\u001b[0m\u001b[0mindicator\u001b[0m\u001b[0;34m,\u001b[0m\u001b[0;34m\u001b[0m\u001b[0;34m\u001b[0m\u001b[0m\n\u001b[0;32m---> 57\u001b[0;31m                          validate=validate)\n\u001b[0m\u001b[1;32m     58\u001b[0m     \u001b[0;32mreturn\u001b[0m \u001b[0mop\u001b[0m\u001b[0;34m.\u001b[0m\u001b[0mget_result\u001b[0m\u001b[0;34m(\u001b[0m\u001b[0;34m)\u001b[0m\u001b[0;34m\u001b[0m\u001b[0;34m\u001b[0m\u001b[0m\n\u001b[1;32m     59\u001b[0m \u001b[0;34m\u001b[0m\u001b[0m\n",
            "\u001b[0;32m/usr/local/lib/python3.6/dist-packages/pandas/core/reshape/merge.py\u001b[0m in \u001b[0;36m__init__\u001b[0;34m(self, left, right, how, on, left_on, right_on, axis, left_index, right_index, sort, suffixes, copy, indicator, validate)\u001b[0m\n\u001b[1;32m    563\u001b[0m         (self.left_join_keys,\n\u001b[1;32m    564\u001b[0m          \u001b[0mself\u001b[0m\u001b[0;34m.\u001b[0m\u001b[0mright_join_keys\u001b[0m\u001b[0;34m,\u001b[0m\u001b[0;34m\u001b[0m\u001b[0;34m\u001b[0m\u001b[0m\n\u001b[0;32m--> 565\u001b[0;31m          self.join_names) = self._get_merge_keys()\n\u001b[0m\u001b[1;32m    566\u001b[0m \u001b[0;34m\u001b[0m\u001b[0m\n\u001b[1;32m    567\u001b[0m         \u001b[0;31m# validate the merge keys dtypes. We may need to coerce\u001b[0m\u001b[0;34m\u001b[0m\u001b[0;34m\u001b[0m\u001b[0;34m\u001b[0m\u001b[0m\n",
            "\u001b[0;32m/usr/local/lib/python3.6/dist-packages/pandas/core/reshape/merge.py\u001b[0m in \u001b[0;36m_get_merge_keys\u001b[0;34m(self)\u001b[0m\n\u001b[1;32m    822\u001b[0m                     \u001b[0;32mif\u001b[0m \u001b[0;32mnot\u001b[0m \u001b[0mis_rkey\u001b[0m\u001b[0;34m(\u001b[0m\u001b[0mrk\u001b[0m\u001b[0;34m)\u001b[0m\u001b[0;34m:\u001b[0m\u001b[0;34m\u001b[0m\u001b[0;34m\u001b[0m\u001b[0m\n\u001b[1;32m    823\u001b[0m                         \u001b[0;32mif\u001b[0m \u001b[0mrk\u001b[0m \u001b[0;32mis\u001b[0m \u001b[0;32mnot\u001b[0m \u001b[0;32mNone\u001b[0m\u001b[0;34m:\u001b[0m\u001b[0;34m\u001b[0m\u001b[0;34m\u001b[0m\u001b[0m\n\u001b[0;32m--> 824\u001b[0;31m                             \u001b[0mright_keys\u001b[0m\u001b[0;34m.\u001b[0m\u001b[0mappend\u001b[0m\u001b[0;34m(\u001b[0m\u001b[0mright\u001b[0m\u001b[0;34m[\u001b[0m\u001b[0mrk\u001b[0m\u001b[0;34m]\u001b[0m\u001b[0;34m.\u001b[0m\u001b[0m_values\u001b[0m\u001b[0;34m)\u001b[0m\u001b[0;34m\u001b[0m\u001b[0;34m\u001b[0m\u001b[0m\n\u001b[0m\u001b[1;32m    825\u001b[0m                         \u001b[0;32melse\u001b[0m\u001b[0;34m:\u001b[0m\u001b[0;34m\u001b[0m\u001b[0;34m\u001b[0m\u001b[0m\n\u001b[1;32m    826\u001b[0m                             \u001b[0;31m# work-around for merge_asof(right_index=True)\u001b[0m\u001b[0;34m\u001b[0m\u001b[0;34m\u001b[0m\u001b[0;34m\u001b[0m\u001b[0m\n",
            "\u001b[0;32m/usr/local/lib/python3.6/dist-packages/pandas/core/frame.py\u001b[0m in \u001b[0;36m__getitem__\u001b[0;34m(self, key)\u001b[0m\n\u001b[1;32m   2137\u001b[0m             \u001b[0;32mreturn\u001b[0m \u001b[0mself\u001b[0m\u001b[0;34m.\u001b[0m\u001b[0m_getitem_multilevel\u001b[0m\u001b[0;34m(\u001b[0m\u001b[0mkey\u001b[0m\u001b[0;34m)\u001b[0m\u001b[0;34m\u001b[0m\u001b[0;34m\u001b[0m\u001b[0m\n\u001b[1;32m   2138\u001b[0m         \u001b[0;32melse\u001b[0m\u001b[0;34m:\u001b[0m\u001b[0;34m\u001b[0m\u001b[0;34m\u001b[0m\u001b[0m\n\u001b[0;32m-> 2139\u001b[0;31m             \u001b[0;32mreturn\u001b[0m \u001b[0mself\u001b[0m\u001b[0;34m.\u001b[0m\u001b[0m_getitem_column\u001b[0m\u001b[0;34m(\u001b[0m\u001b[0mkey\u001b[0m\u001b[0;34m)\u001b[0m\u001b[0;34m\u001b[0m\u001b[0;34m\u001b[0m\u001b[0m\n\u001b[0m\u001b[1;32m   2140\u001b[0m \u001b[0;34m\u001b[0m\u001b[0m\n\u001b[1;32m   2141\u001b[0m     \u001b[0;32mdef\u001b[0m \u001b[0m_getitem_column\u001b[0m\u001b[0;34m(\u001b[0m\u001b[0mself\u001b[0m\u001b[0;34m,\u001b[0m \u001b[0mkey\u001b[0m\u001b[0;34m)\u001b[0m\u001b[0;34m:\u001b[0m\u001b[0;34m\u001b[0m\u001b[0;34m\u001b[0m\u001b[0m\n",
            "\u001b[0;32m/usr/local/lib/python3.6/dist-packages/pandas/core/frame.py\u001b[0m in \u001b[0;36m_getitem_column\u001b[0;34m(self, key)\u001b[0m\n\u001b[1;32m   2144\u001b[0m         \u001b[0;31m# get column\u001b[0m\u001b[0;34m\u001b[0m\u001b[0;34m\u001b[0m\u001b[0;34m\u001b[0m\u001b[0m\n\u001b[1;32m   2145\u001b[0m         \u001b[0;32mif\u001b[0m \u001b[0mself\u001b[0m\u001b[0;34m.\u001b[0m\u001b[0mcolumns\u001b[0m\u001b[0;34m.\u001b[0m\u001b[0mis_unique\u001b[0m\u001b[0;34m:\u001b[0m\u001b[0;34m\u001b[0m\u001b[0;34m\u001b[0m\u001b[0m\n\u001b[0;32m-> 2146\u001b[0;31m             \u001b[0;32mreturn\u001b[0m \u001b[0mself\u001b[0m\u001b[0;34m.\u001b[0m\u001b[0m_get_item_cache\u001b[0m\u001b[0;34m(\u001b[0m\u001b[0mkey\u001b[0m\u001b[0;34m)\u001b[0m\u001b[0;34m\u001b[0m\u001b[0;34m\u001b[0m\u001b[0m\n\u001b[0m\u001b[1;32m   2147\u001b[0m \u001b[0;34m\u001b[0m\u001b[0m\n\u001b[1;32m   2148\u001b[0m         \u001b[0;31m# duplicate columns & possible reduce dimensionality\u001b[0m\u001b[0;34m\u001b[0m\u001b[0;34m\u001b[0m\u001b[0;34m\u001b[0m\u001b[0m\n",
            "\u001b[0;32m/usr/local/lib/python3.6/dist-packages/pandas/core/generic.py\u001b[0m in \u001b[0;36m_get_item_cache\u001b[0;34m(self, item)\u001b[0m\n\u001b[1;32m   1840\u001b[0m         \u001b[0mres\u001b[0m \u001b[0;34m=\u001b[0m \u001b[0mcache\u001b[0m\u001b[0;34m.\u001b[0m\u001b[0mget\u001b[0m\u001b[0;34m(\u001b[0m\u001b[0mitem\u001b[0m\u001b[0;34m)\u001b[0m\u001b[0;34m\u001b[0m\u001b[0;34m\u001b[0m\u001b[0m\n\u001b[1;32m   1841\u001b[0m         \u001b[0;32mif\u001b[0m \u001b[0mres\u001b[0m \u001b[0;32mis\u001b[0m \u001b[0;32mNone\u001b[0m\u001b[0;34m:\u001b[0m\u001b[0;34m\u001b[0m\u001b[0;34m\u001b[0m\u001b[0m\n\u001b[0;32m-> 1842\u001b[0;31m             \u001b[0mvalues\u001b[0m \u001b[0;34m=\u001b[0m \u001b[0mself\u001b[0m\u001b[0;34m.\u001b[0m\u001b[0m_data\u001b[0m\u001b[0;34m.\u001b[0m\u001b[0mget\u001b[0m\u001b[0;34m(\u001b[0m\u001b[0mitem\u001b[0m\u001b[0;34m)\u001b[0m\u001b[0;34m\u001b[0m\u001b[0;34m\u001b[0m\u001b[0m\n\u001b[0m\u001b[1;32m   1843\u001b[0m             \u001b[0mres\u001b[0m \u001b[0;34m=\u001b[0m \u001b[0mself\u001b[0m\u001b[0;34m.\u001b[0m\u001b[0m_box_item_values\u001b[0m\u001b[0;34m(\u001b[0m\u001b[0mitem\u001b[0m\u001b[0;34m,\u001b[0m \u001b[0mvalues\u001b[0m\u001b[0;34m)\u001b[0m\u001b[0;34m\u001b[0m\u001b[0;34m\u001b[0m\u001b[0m\n\u001b[1;32m   1844\u001b[0m             \u001b[0mcache\u001b[0m\u001b[0;34m[\u001b[0m\u001b[0mitem\u001b[0m\u001b[0;34m]\u001b[0m \u001b[0;34m=\u001b[0m \u001b[0mres\u001b[0m\u001b[0;34m\u001b[0m\u001b[0;34m\u001b[0m\u001b[0m\n",
            "\u001b[0;32m/usr/local/lib/python3.6/dist-packages/pandas/core/internals.py\u001b[0m in \u001b[0;36mget\u001b[0;34m(self, item, fastpath)\u001b[0m\n\u001b[1;32m   3841\u001b[0m \u001b[0;34m\u001b[0m\u001b[0m\n\u001b[1;32m   3842\u001b[0m             \u001b[0;32mif\u001b[0m \u001b[0;32mnot\u001b[0m \u001b[0misna\u001b[0m\u001b[0;34m(\u001b[0m\u001b[0mitem\u001b[0m\u001b[0;34m)\u001b[0m\u001b[0;34m:\u001b[0m\u001b[0;34m\u001b[0m\u001b[0;34m\u001b[0m\u001b[0m\n\u001b[0;32m-> 3843\u001b[0;31m                 \u001b[0mloc\u001b[0m \u001b[0;34m=\u001b[0m \u001b[0mself\u001b[0m\u001b[0;34m.\u001b[0m\u001b[0mitems\u001b[0m\u001b[0;34m.\u001b[0m\u001b[0mget_loc\u001b[0m\u001b[0;34m(\u001b[0m\u001b[0mitem\u001b[0m\u001b[0;34m)\u001b[0m\u001b[0;34m\u001b[0m\u001b[0;34m\u001b[0m\u001b[0m\n\u001b[0m\u001b[1;32m   3844\u001b[0m             \u001b[0;32melse\u001b[0m\u001b[0;34m:\u001b[0m\u001b[0;34m\u001b[0m\u001b[0;34m\u001b[0m\u001b[0m\n\u001b[1;32m   3845\u001b[0m                 \u001b[0mindexer\u001b[0m \u001b[0;34m=\u001b[0m \u001b[0mnp\u001b[0m\u001b[0;34m.\u001b[0m\u001b[0marange\u001b[0m\u001b[0;34m(\u001b[0m\u001b[0mlen\u001b[0m\u001b[0;34m(\u001b[0m\u001b[0mself\u001b[0m\u001b[0;34m.\u001b[0m\u001b[0mitems\u001b[0m\u001b[0;34m)\u001b[0m\u001b[0;34m)\u001b[0m\u001b[0;34m[\u001b[0m\u001b[0misna\u001b[0m\u001b[0;34m(\u001b[0m\u001b[0mself\u001b[0m\u001b[0;34m.\u001b[0m\u001b[0mitems\u001b[0m\u001b[0;34m)\u001b[0m\u001b[0;34m]\u001b[0m\u001b[0;34m\u001b[0m\u001b[0;34m\u001b[0m\u001b[0m\n",
            "\u001b[0;32m/usr/local/lib/python3.6/dist-packages/pandas/core/indexes/base.py\u001b[0m in \u001b[0;36mget_loc\u001b[0;34m(self, key, method, tolerance)\u001b[0m\n\u001b[1;32m   2525\u001b[0m                 \u001b[0;32mreturn\u001b[0m \u001b[0mself\u001b[0m\u001b[0;34m.\u001b[0m\u001b[0m_engine\u001b[0m\u001b[0;34m.\u001b[0m\u001b[0mget_loc\u001b[0m\u001b[0;34m(\u001b[0m\u001b[0mkey\u001b[0m\u001b[0;34m)\u001b[0m\u001b[0;34m\u001b[0m\u001b[0;34m\u001b[0m\u001b[0m\n\u001b[1;32m   2526\u001b[0m             \u001b[0;32mexcept\u001b[0m \u001b[0mKeyError\u001b[0m\u001b[0;34m:\u001b[0m\u001b[0;34m\u001b[0m\u001b[0;34m\u001b[0m\u001b[0m\n\u001b[0;32m-> 2527\u001b[0;31m                 \u001b[0;32mreturn\u001b[0m \u001b[0mself\u001b[0m\u001b[0;34m.\u001b[0m\u001b[0m_engine\u001b[0m\u001b[0;34m.\u001b[0m\u001b[0mget_loc\u001b[0m\u001b[0;34m(\u001b[0m\u001b[0mself\u001b[0m\u001b[0;34m.\u001b[0m\u001b[0m_maybe_cast_indexer\u001b[0m\u001b[0;34m(\u001b[0m\u001b[0mkey\u001b[0m\u001b[0;34m)\u001b[0m\u001b[0;34m)\u001b[0m\u001b[0;34m\u001b[0m\u001b[0;34m\u001b[0m\u001b[0m\n\u001b[0m\u001b[1;32m   2528\u001b[0m \u001b[0;34m\u001b[0m\u001b[0m\n\u001b[1;32m   2529\u001b[0m         \u001b[0mindexer\u001b[0m \u001b[0;34m=\u001b[0m \u001b[0mself\u001b[0m\u001b[0;34m.\u001b[0m\u001b[0mget_indexer\u001b[0m\u001b[0;34m(\u001b[0m\u001b[0;34m[\u001b[0m\u001b[0mkey\u001b[0m\u001b[0;34m]\u001b[0m\u001b[0;34m,\u001b[0m \u001b[0mmethod\u001b[0m\u001b[0;34m=\u001b[0m\u001b[0mmethod\u001b[0m\u001b[0;34m,\u001b[0m \u001b[0mtolerance\u001b[0m\u001b[0;34m=\u001b[0m\u001b[0mtolerance\u001b[0m\u001b[0;34m)\u001b[0m\u001b[0;34m\u001b[0m\u001b[0;34m\u001b[0m\u001b[0m\n",
            "\u001b[0;32mpandas/_libs/index.pyx\u001b[0m in \u001b[0;36mpandas._libs.index.IndexEngine.get_loc\u001b[0;34m()\u001b[0m\n",
            "\u001b[0;32mpandas/_libs/index.pyx\u001b[0m in \u001b[0;36mpandas._libs.index.IndexEngine.get_loc\u001b[0;34m()\u001b[0m\n",
            "\u001b[0;32mpandas/_libs/hashtable_class_helper.pxi\u001b[0m in \u001b[0;36mpandas._libs.hashtable.PyObjectHashTable.get_item\u001b[0;34m()\u001b[0m\n",
            "\u001b[0;32mpandas/_libs/hashtable_class_helper.pxi\u001b[0m in \u001b[0;36mpandas._libs.hashtable.PyObjectHashTable.get_item\u001b[0;34m()\u001b[0m\n",
            "\u001b[0;31mKeyError\u001b[0m: 'HY_metros_utiles'"
          ]
        }
      ]
    },
    {
      "metadata": {
        "id": "xMw_CZSv0A1h",
        "colab_type": "code",
        "colab": {}
      },
      "cell_type": "code",
      "source": [
        "mae_regtree=mean_absolute_error(to_predict[target_column],to_predict[name_pred_column]) "
      ],
      "execution_count": 0,
      "outputs": []
    },
    {
      "metadata": {
        "id": "CCrNC5yfzpDo",
        "colab_type": "code",
        "colab": {}
      },
      "cell_type": "code",
      "source": [
        "#X_train, X_test, y_train, y_test = train_test_split(predictors,predictors,train_size=0.75,random_state=4)"
      ],
      "execution_count": 0,
      "outputs": []
    },
    {
      "metadata": {
        "id": "FhM-NUPUqo3d",
        "colab_type": "code",
        "colab": {}
      },
      "cell_type": "code",
      "source": [
        "#score = regtree.score(X_test, y_test)\n",
        "#print(\"The prediction score on the test data is {:.2f}%\".format(score*100))"
      ],
      "execution_count": 0,
      "outputs": []
    },
    {
      "metadata": {
        "id": "9ySsmvX5-SKI",
        "colab_type": "code",
        "colab": {}
      },
      "cell_type": "code",
      "source": [
        ""
      ],
      "execution_count": 0,
      "outputs": []
    },
    {
      "metadata": {
        "id": "sDsGsazfceqf",
        "colab_type": "code",
        "colab": {}
      },
      "cell_type": "code",
      "source": [
        "#s_df_model['TARGET']=s_df_model['TARGET'].fillna(-1)#en ele caso de que cojamos la parte de estimación también"
      ],
      "execution_count": 0,
      "outputs": []
    },
    {
      "metadata": {
        "id": "TICJEKZw0rTf",
        "colab_type": "text"
      },
      "cell_type": "markdown",
      "source": [
        "##### Comprobación"
      ]
    },
    {
      "metadata": {
        "id": "pJbB04xoSKRn",
        "colab_type": "code",
        "colab": {}
      },
      "cell_type": "code",
      "source": [
        "np.isnan(s_df_model.any()).sum() "
      ],
      "execution_count": 0,
      "outputs": []
    },
    {
      "metadata": {
        "id": "SftAPYx6eAbm",
        "colab_type": "code",
        "colab": {}
      },
      "cell_type": "code",
      "source": [
        "np.isinf(s_df_model.all()).sum()"
      ],
      "execution_count": 0,
      "outputs": []
    },
    {
      "metadata": {
        "id": "NsnNc2qwS-61",
        "colab_type": "text"
      },
      "cell_type": "markdown",
      "source": [
        "#### Category Encoding (http://contrib.scikit-learn.org/categorical-encoding/helmert.html, https://scikit-learn.org/stable/modules/classes.html#module-sklearn.preprocessing)"
      ]
    },
    {
      "metadata": {
        "id": "5RU2lwhAh0pH",
        "colab_type": "code",
        "colab": {}
      },
      "cell_type": "code",
      "source": [
        "#df_model[\"HY_ascensor\"].value_counts()"
      ],
      "execution_count": 0,
      "outputs": []
    },
    {
      "metadata": {
        "id": "aadWqrczkVjz",
        "colab_type": "text"
      },
      "cell_type": "markdown",
      "source": [
        "#### Normalización"
      ]
    },
    {
      "metadata": {
        "id": "f_8RsxDFYkgu",
        "colab_type": "text"
      },
      "cell_type": "markdown",
      "source": [
        "##### Target"
      ]
    },
    {
      "metadata": {
        "id": "Pv0Q4e2QZBTl",
        "colab_type": "text"
      },
      "cell_type": "markdown",
      "source": [
        "Realizamos el ln del Target para acercarnos a  la distribución normal\n"
      ]
    },
    {
      "metadata": {
        "id": "k00YPqJpX2aq",
        "colab_type": "code",
        "colab": {}
      },
      "cell_type": "code",
      "source": [
        "s_df_model['TARGET']=np.log1p(s_df_model['TARGET'])\n",
        "#regla de sturges \n",
        "k=int(np.ceil(1+np.log2(len(s_df_model))))\n",
        "plt.hist(s_df_model.TARGET, bins= k)\n",
        "plt.xlabel(\"Número de segundos de observación\")\n",
        "plt.ylabel(\"Frecuencia\")"
      ],
      "execution_count": 0,
      "outputs": []
    },
    {
      "metadata": {
        "id": "UQXvx26sGo8q",
        "colab_type": "text"
      },
      "cell_type": "markdown",
      "source": [
        "#EXTRACCIÓN DE CARACTERÍSTICAS\n"
      ]
    },
    {
      "metadata": {
        "id": "zyP6T_UEHBGQ",
        "colab_type": "text"
      },
      "cell_type": "markdown",
      "source": [
        "Número de Fotografías"
      ]
    },
    {
      "metadata": {
        "id": "HgGXnpE3G56-",
        "colab_type": "text"
      },
      "cell_type": "markdown",
      "source": [
        "### Descripción "
      ]
    },
    {
      "metadata": {
        "id": "96npAlsyHnY_",
        "colab_type": "text"
      },
      "cell_type": "markdown",
      "source": [
        "# PRE-ANALISIS"
      ]
    },
    {
      "metadata": {
        "id": "B-aJjzhsaQyM",
        "colab_type": "code",
        "colab": {}
      },
      "cell_type": "code",
      "source": [
        "s_df_model.head()"
      ],
      "execution_count": 0,
      "outputs": []
    },
    {
      "metadata": {
        "colab_type": "text",
        "id": "LZRYysl_Z22-"
      },
      "cell_type": "markdown",
      "source": [
        "### Distribución"
      ]
    },
    {
      "metadata": {
        "scrolled": false,
        "colab_type": "code",
        "id": "NrBVgJqZZ22_",
        "colab": {}
      },
      "cell_type": "code",
      "source": [
        "s_df_model.describe()"
      ],
      "execution_count": 0,
      "outputs": []
    },
    {
      "metadata": {
        "id": "zFR7iKu6VR_x",
        "colab_type": "text"
      },
      "cell_type": "markdown",
      "source": [
        "### Correlación"
      ]
    },
    {
      "metadata": {
        "id": "sPM_1SjJVRLw",
        "colab_type": "code",
        "colab": {}
      },
      "cell_type": "code",
      "source": [
        "def plot_corr(df,size=10):\n",
        "\n",
        "  corr = df.corr()\n",
        "  fig, ax = plt.subplots(figsize=(size, size))\n",
        "  cax = ax.matshow(corr,cmap='coolwarm', vmin=-1, vmax=1)\n",
        "  fig.colorbar(cax)\n",
        "  ticks = np.arange(0,len(df.columns),1)\n",
        "  ax.set_xticks(ticks)\n",
        "  plt.xticks(rotation=90)\n",
        "  ax.set_yticks(ticks)\n",
        "  ax.set_xticklabels(df.columns)\n",
        "  ax.set_yticklabels(df.columns)\n",
        "  plt.show()"
      ],
      "execution_count": 0,
      "outputs": []
    },
    {
      "metadata": {
        "id": "h1BZhmBAXCP-",
        "colab_type": "code",
        "colab": {}
      },
      "cell_type": "code",
      "source": [
        "plot_corr(s_df_model,18)"
      ],
      "execution_count": 0,
      "outputs": []
    },
    {
      "metadata": {
        "id": "xki2584gchvF",
        "colab_type": "text"
      },
      "cell_type": "markdown",
      "source": [
        "### Histogramas"
      ]
    },
    {
      "metadata": {
        "id": "SE06RAlxeAkj",
        "colab_type": "code",
        "colab": {}
      },
      "cell_type": "code",
      "source": [
        "#regla de sturges \n",
        "k=int(np.ceil(1+np.log2(len(s_df_model))))"
      ],
      "execution_count": 0,
      "outputs": []
    },
    {
      "metadata": {
        "id": "J4QFO25zdRea",
        "colab_type": "text"
      },
      "cell_type": "markdown",
      "source": [
        "### Boxplot"
      ]
    },
    {
      "metadata": {
        "id": "0eiL4zIndUUU",
        "colab_type": "code",
        "colab": {}
      },
      "cell_type": "code",
      "source": [
        ""
      ],
      "execution_count": 0,
      "outputs": []
    },
    {
      "metadata": {
        "id": "yOv605ZBo5nB",
        "colab_type": "text"
      },
      "cell_type": "markdown",
      "source": [
        "# CLASIFICACIÓN"
      ]
    },
    {
      "metadata": {
        "id": "nv73ORVZran3",
        "colab_type": "text"
      },
      "cell_type": "markdown",
      "source": [
        "#### Obtenemos las categorias predictoras por un lado  y el target por otro"
      ]
    },
    {
      "metadata": {
        "id": "R_U0i5uosEWD",
        "colab_type": "code",
        "colab": {}
      },
      "cell_type": "code",
      "source": [
        "colnames = s_df_model.columns.values.tolist()"
      ],
      "execution_count": 0,
      "outputs": []
    },
    {
      "metadata": {
        "id": "IC47Xsymo5m-",
        "colab_type": "code",
        "colab": {}
      },
      "cell_type": "code",
      "source": [
        "predictors= colnames[1:len(colnames)-1] \n",
        "target= colnames[len(colnames)-1]# hay que tener en cuenta que se empieza en el cero"
      ],
      "execution_count": 0,
      "outputs": []
    },
    {
      "metadata": {
        "id": "b6l9SzmftrFf",
        "colab_type": "text"
      },
      "cell_type": "markdown",
      "source": [
        "#### Separamos el conjunto en un conjunto de Training y un conjunto de Test"
      ]
    },
    {
      "metadata": {
        "id": "9tZDz3sUt0mS",
        "colab_type": "code",
        "colab": {}
      },
      "cell_type": "code",
      "source": [
        "s_df_model[\"is_train\"]= np.random.uniform(0,1,len(s_df_model))<=0.75 "
      ],
      "execution_count": 0,
      "outputs": []
    },
    {
      "metadata": {
        "id": "qauc9d60uwzk",
        "colab_type": "text"
      },
      "cell_type": "markdown",
      "source": [
        "Partimos el conjunto en dos subconjuntos en función del valor -1 indicando cual era el training y el estimador"
      ]
    },
    {
      "metadata": {
        "id": "o8TYYskYvGKT",
        "colab_type": "code",
        "colab": {}
      },
      "cell_type": "code",
      "source": [
        "#s_df_model[\"is_train\"]= s_df_model['TARGET'].values!=-1"
      ],
      "execution_count": 0,
      "outputs": []
    },
    {
      "metadata": {
        "id": "YK-8_In9ytls",
        "colab_type": "text"
      },
      "cell_type": "markdown",
      "source": [
        "Vemos en el histograma como se reparte los datos entre Train y test"
      ]
    },
    {
      "metadata": {
        "id": "k1yDhkZYud3R",
        "colab_type": "code",
        "colab": {}
      },
      "cell_type": "code",
      "source": [
        "plt.hist(s_df_model.is_train)"
      ],
      "execution_count": 0,
      "outputs": []
    },
    {
      "metadata": {
        "id": "ovwbloaUy6id",
        "colab_type": "text"
      },
      "cell_type": "markdown",
      "source": [
        "Partimos en test y train"
      ]
    },
    {
      "metadata": {
        "id": "ftEbAFuIypZG",
        "colab_type": "code",
        "colab": {}
      },
      "cell_type": "code",
      "source": [
        "train, test = s_df_model[s_df_model[\"is_train\"]==True],s_df_model[s_df_model[\"is_train\"]==False]"
      ],
      "execution_count": 0,
      "outputs": []
    },
    {
      "metadata": {
        "id": "okW2IaPGqG75",
        "colab_type": "text"
      },
      "cell_type": "markdown",
      "source": [
        "### Regression Tree "
      ]
    },
    {
      "metadata": {
        "id": "qvHNUS110_s3",
        "colab_type": "text"
      },
      "cell_type": "markdown",
      "source": [
        "Creamos el módelo"
      ]
    },
    {
      "metadata": {
        "id": "Er_3BJ8S0zvs",
        "colab_type": "code",
        "colab": {}
      },
      "cell_type": "code",
      "source": [
        "regtree= DecisionTreeRegressor(min_samples_split=25,min_samples_leaf=1,random_state=None)\n",
        "regtree.fit(train[predictors],train[target])"
      ],
      "execution_count": 0,
      "outputs": []
    },
    {
      "metadata": {
        "id": "ZvQHc1kkkGvg",
        "colab_type": "text"
      },
      "cell_type": "markdown",
      "source": [
        "#### Prediction"
      ]
    },
    {
      "metadata": {
        "id": "yqd7z0TYjPe0",
        "colab_type": "code",
        "colab": {}
      },
      "cell_type": "code",
      "source": [
        "to_predict=test\n",
        "to_predict[\"regtree_preds\"]= regtree.predict(to_predict[predictors])\n",
        "\n",
        "#train[[\"regtree_preds\",\"TARGET\"]]"
      ],
      "execution_count": 0,
      "outputs": []
    },
    {
      "metadata": {
        "id": "wis_uArUpTib",
        "colab_type": "text"
      },
      "cell_type": "markdown",
      "source": [
        "Median absolute error"
      ]
    },
    {
      "metadata": {
        "id": "eBYwn8Eblh--",
        "colab_type": "code",
        "colab": {}
      },
      "cell_type": "code",
      "source": [
        "mae_regtree=mean_absolute_error(np.exp(to_predict[\"TARGET\"]),np.exp(to_predict[\"regtree_preds\"]))                    "
      ],
      "execution_count": 0,
      "outputs": []
    },
    {
      "metadata": {
        "id": "5XAyTdTrNSaE",
        "colab_type": "text"
      },
      "cell_type": "markdown",
      "source": [
        "### Regression Random Forest\n",
        "    \n",
        "\n",
        "*   n_jobs-> número de tareas en paralelo\n",
        "*   obb_score-> true(aleatorio)\n",
        "*   n_estimators.-> núm. de estimadores que se va a tener\n",
        "\n"
      ]
    },
    {
      "metadata": {
        "id": "OM-W0Jifo5nC",
        "colab_type": "code",
        "colab": {}
      },
      "cell_type": "code",
      "source": [
        "forest= RandomForestRegressor(n_jobs=2,n_estimators=500)\n",
        "forest.fit(train[predictors],train[target])"
      ],
      "execution_count": 0,
      "outputs": []
    },
    {
      "metadata": {
        "id": "QEDRTj8TxD4k",
        "colab_type": "text"
      },
      "cell_type": "markdown",
      "source": [
        "#### prediction"
      ]
    },
    {
      "metadata": {
        "id": "E56_gy2MvXQH",
        "colab_type": "code",
        "colab": {}
      },
      "cell_type": "code",
      "source": [
        "to_predict=test\n",
        "to_predict[\"rforest_preds\"]=forest.predict(to_predict[predictors])"
      ],
      "execution_count": 0,
      "outputs": []
    },
    {
      "metadata": {
        "id": "Gig-hfm0wB9I",
        "colab_type": "code",
        "colab": {}
      },
      "cell_type": "code",
      "source": [
        "mae_rforest=mean_absolute_error(np.expm1(to_predict[\"TARGET\"]),np.expm1(to_predict[\"rforest_preds\"]))"
      ],
      "execution_count": 0,
      "outputs": []
    },
    {
      "metadata": {
        "id": "Etrwr5zQIIcG",
        "colab_type": "text"
      },
      "cell_type": "markdown",
      "source": [
        "### Gradient Boosting Regressor"
      ]
    },
    {
      "metadata": {
        "id": "SzS16q2PIPtM",
        "colab_type": "code",
        "colab": {}
      },
      "cell_type": "code",
      "source": [
        "gradient= GradientBoostingRegressor(n_estimators=500, max_depth=4,min_samples_split=2,learning_rate=0.01)\n",
        "gradient.fit(train[predictors],train[target])"
      ],
      "execution_count": 0,
      "outputs": []
    },
    {
      "metadata": {
        "id": "fH8OZm7PKTOf",
        "colab_type": "text"
      },
      "cell_type": "markdown",
      "source": [
        "#### Prediction"
      ]
    },
    {
      "metadata": {
        "id": "ABVnrlGaKQp0",
        "colab_type": "code",
        "colab": {}
      },
      "cell_type": "code",
      "source": [
        "to_predict=test\n",
        "to_predict[\"gboost_preds\"]=gradient.predict(to_predict[predictors])"
      ],
      "execution_count": 0,
      "outputs": []
    },
    {
      "metadata": {
        "id": "Mg4-_lqcKgOH",
        "colab_type": "code",
        "colab": {}
      },
      "cell_type": "code",
      "source": [
        "mae_gboost=mean_absolute_error(np.expm1(to_predict[\"TARGET\"]),np.expm1(to_predict[\"gboost_preds\"]))"
      ],
      "execution_count": 0,
      "outputs": []
    },
    {
      "metadata": {
        "id": "dGREzPruo5nE",
        "colab_type": "text"
      },
      "cell_type": "markdown",
      "source": [
        "# RESULTADO (SCORE)"
      ]
    },
    {
      "metadata": {
        "id": "Jle6k3hr9KqP",
        "colab_type": "text"
      },
      "cell_type": "markdown",
      "source": [
        "#### MAE de los clasificadores"
      ]
    },
    {
      "metadata": {
        "id": "aTabtTdx9HhO",
        "colab_type": "code",
        "colab": {}
      },
      "cell_type": "code",
      "source": [
        "df_res_classifiers = pd.DataFrame({'mae_rforest': [mae_rforest], 'mae_regtree': [mae_regtree],'mae_gboost':[mae_gboost]})\n",
        "df_res_classifiers"
      ],
      "execution_count": 0,
      "outputs": []
    },
    {
      "metadata": {
        "id": "ez-CVUburF01",
        "colab_type": "text"
      },
      "cell_type": "markdown",
      "source": [
        "#### Fichero final"
      ]
    },
    {
      "metadata": {
        "id": "geFAvh0drIGc",
        "colab_type": "code",
        "colab": {}
      },
      "cell_type": "code",
      "source": [
        "test[\"HY_id\"]=df_model[\"HY_id\"]"
      ],
      "execution_count": 0,
      "outputs": []
    },
    {
      "metadata": {
        "id": "1n62Y2jJsoxd",
        "colab_type": "code",
        "colab": {}
      },
      "cell_type": "code",
      "source": [
        "test= test[[\"HY_id\",\"regtree_preds\"]]\n",
        "test= test.rename(columns={\"regtree_preds\":\"TM_Est\"})"
      ],
      "execution_count": 0,
      "outputs": []
    },
    {
      "metadata": {
        "id": "_mgy_5Eh2VV-",
        "colab_type": "code",
        "colab": {}
      },
      "cell_type": "code",
      "source": [
        "test.to_csv(r'Minsait_UJI_Math.random()_1.txt', header=True, index=None, sep='|', mode='w')"
      ],
      "execution_count": 0,
      "outputs": []
    },
    {
      "metadata": {
        "id": "lW8gAql82BtJ",
        "colab_type": "code",
        "colab": {}
      },
      "cell_type": "code",
      "source": [
        "df=pd.read_csv('Minsait_UJI_Math.random()_1.txt', sep=\"|\")\n",
        "df.head()\n",
        "\n",
        "df.shape"
      ],
      "execution_count": 0,
      "outputs": []
    }
  ]
}