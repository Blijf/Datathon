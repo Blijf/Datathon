{
  "nbformat": 4,
  "nbformat_minor": 0,
  "metadata": {
    "colab": {
      "name": "Datathon_colab.ipynb",
      "version": "0.3.2",
      "provenance": [],
      "collapsed_sections": [
        "C_UD03_xo5mg",
        "Ab3uNEuKo5mr",
        "ywSnJCqsKZFR",
        "EYxhtAbE3bJd",
        "CE6nTWt2KO_-",
        "S4WE0v0So5m0",
        "2_5Ppj1o01X5",
        "B_yBuyjvoJ-j",
        "66lJjA90eTTC",
        "yDmu1I4MPyYL",
        "f_8RsxDFYkgu",
        "NsnNc2qwS-61",
        "xRe5Jegu-kon",
        "UQXvx26sGo8q",
        "LZRYysl_Z22-",
        "J4QFO25zdRea",
        "okW2IaPGqG75",
        "5XAyTdTrNSaE",
        "ez-CVUburF01"
      ],
      "toc_visible": true,
      "include_colab_link": true
    },
    "kernelspec": {
      "display_name": "Python 3",
      "language": "python",
      "name": "python3"
    }
  },
  "cells": [
    {
      "cell_type": "markdown",
      "metadata": {
        "id": "view-in-github",
        "colab_type": "text"
      },
      "source": [
        "<a href=\"https://colab.research.google.com/github/Blijf/Datathon/blob/master/Datathon_colab.ipynb\" target=\"_parent\"><img src=\"https://colab.research.google.com/assets/colab-badge.svg\" alt=\"Open In Colab\"/></a>"
      ]
    },
    {
      "metadata": {
        "id": "N7Y6kdQjo5mL",
        "colab_type": "text"
      },
      "cell_type": "markdown",
      "source": [
        "# CARGA DE DATOS"
      ]
    },
    {
      "metadata": {
        "id": "o5AvrqGao5mN",
        "colab_type": "text"
      },
      "cell_type": "markdown",
      "source": [
        "#### Imports"
      ]
    },
    {
      "metadata": {
        "id": "k2pfIohmo5mO",
        "colab_type": "code",
        "colab": {}
      },
      "cell_type": "code",
      "source": [
        "#INTALL PACKAGES\n",
        "#!pip install category_encoders\n",
        "#IMPORTS\n",
        "import pandas as pd\n",
        "pd.set_option('display.max_columns', 500)\n",
        "pd.set_option('display.max_rows', 500)\n",
        "import matplotlib as mpl\n",
        "import matplotlib.pyplot as plt\n",
        "import seaborn as sns\n",
        "import numpy as np\n",
        "import random\n",
        "from sklearn.ensemble import RandomForestClassifier\n",
        "from sklearn.tree import DecisionTreeClassifier\n",
        "from sklearn.datasets import make_classification\n",
        "from sklearn.tree import DecisionTreeRegressor\n",
        "from sklearn.metrics import mean_absolute_error\n",
        "from sklearn.ensemble import RandomForestRegressor\n",
        "from sklearn.ensemble import GradientBoostingRegressor\n",
        "from pandas.plotting import scatter_matrix\n",
        "from sklearn.impute import SimpleImputer, MissingIndicator\n",
        "from sklearn.model_selection import train_test_split\n",
        "from sklearn.pipeline import FeatureUnion, make_pipeline\n",
        "from sklearn.tree import DecisionTreeClassifier\n",
        "from sklearn.multioutput import MultiOutputRegressor\n",
        "from sklearn.tree import export_graphviz\n",
        "from sklearn import preprocessing\n",
        "\n",
        "import os\n",
        "from graphviz import Source\n",
        "import plotly.plotly as py\n",
        "import cufflinks as cf\n"
      ],
      "execution_count": 0,
      "outputs": []
    },
    {
      "metadata": {
        "id": "AQ6S_KO7CnlG",
        "colab_type": "code",
        "colab": {}
      },
      "cell_type": "code",
      "source": [
        "def histogramas(train):  \n",
        "  for col in train:\n",
        "\n",
        "    #regla de sturges \n",
        "    k=int(np.ceil(1+np.log2(len(train))))\n",
        "    plt.hist(train[col], bins= k)\n",
        "    plt.title(col)\n",
        "    plt.xlabel(\"Valores\")\n",
        "    plt.ylabel(\"Frecuencia\")\n",
        "    plt.show()\n",
        "    "
      ],
      "execution_count": 0,
      "outputs": []
    },
    {
      "metadata": {
        "id": "p6xluzPdo5mS",
        "colab_type": "text"
      },
      "cell_type": "markdown",
      "source": [
        "#### Lectura del dataset"
      ]
    },
    {
      "metadata": {
        "id": "jLm4dSEAo5mT",
        "colab_type": "code",
        "colab": {
          "base_uri": "https://localhost:8080/",
          "height": 918
        },
        "outputId": "cdc4fbfd-1a41-4eab-80eb-f5fafbcb842c"
      },
      "cell_type": "code",
      "source": [
        "df_model=pd.read_csv('Modelar_UH2019.txt', sep=\"|\" )\n",
        "df_esti=pd.read_csv('Estimar_UH2019.txt', sep=\"|\")"
      ],
      "execution_count": 3,
      "outputs": [
        {
          "output_type": "error",
          "ename": "FileNotFoundError",
          "evalue": "ignored",
          "traceback": [
            "\u001b[0;31m---------------------------------------------------------------------------\u001b[0m",
            "\u001b[0;31mFileNotFoundError\u001b[0m                         Traceback (most recent call last)",
            "\u001b[0;32m<ipython-input-3-311c47729ad3>\u001b[0m in \u001b[0;36m<module>\u001b[0;34m()\u001b[0m\n\u001b[0;32m----> 1\u001b[0;31m \u001b[0mdf_model\u001b[0m\u001b[0;34m=\u001b[0m\u001b[0mpd\u001b[0m\u001b[0;34m.\u001b[0m\u001b[0mread_csv\u001b[0m\u001b[0;34m(\u001b[0m\u001b[0;34m'Modelar_UH2019.txt'\u001b[0m\u001b[0;34m,\u001b[0m \u001b[0msep\u001b[0m\u001b[0;34m=\u001b[0m\u001b[0;34m\"|\"\u001b[0m \u001b[0;34m)\u001b[0m\u001b[0;34m\u001b[0m\u001b[0;34m\u001b[0m\u001b[0m\n\u001b[0m\u001b[1;32m      2\u001b[0m \u001b[0mdf_esti\u001b[0m\u001b[0;34m=\u001b[0m\u001b[0mpd\u001b[0m\u001b[0;34m.\u001b[0m\u001b[0mread_csv\u001b[0m\u001b[0;34m(\u001b[0m\u001b[0;34m'Estimar_UH2019.txt'\u001b[0m\u001b[0;34m,\u001b[0m \u001b[0msep\u001b[0m\u001b[0;34m=\u001b[0m\u001b[0;34m\"|\"\u001b[0m\u001b[0;34m)\u001b[0m\u001b[0;34m\u001b[0m\u001b[0;34m\u001b[0m\u001b[0m\n",
            "\u001b[0;32m/usr/local/lib/python3.6/dist-packages/pandas/io/parsers.py\u001b[0m in \u001b[0;36mparser_f\u001b[0;34m(filepath_or_buffer, sep, delimiter, header, names, index_col, usecols, squeeze, prefix, mangle_dupe_cols, dtype, engine, converters, true_values, false_values, skipinitialspace, skiprows, nrows, na_values, keep_default_na, na_filter, verbose, skip_blank_lines, parse_dates, infer_datetime_format, keep_date_col, date_parser, dayfirst, iterator, chunksize, compression, thousands, decimal, lineterminator, quotechar, quoting, escapechar, comment, encoding, dialect, tupleize_cols, error_bad_lines, warn_bad_lines, skipfooter, skip_footer, doublequote, delim_whitespace, as_recarray, compact_ints, use_unsigned, low_memory, buffer_lines, memory_map, float_precision)\u001b[0m\n\u001b[1;32m    707\u001b[0m                     skip_blank_lines=skip_blank_lines)\n\u001b[1;32m    708\u001b[0m \u001b[0;34m\u001b[0m\u001b[0m\n\u001b[0;32m--> 709\u001b[0;31m         \u001b[0;32mreturn\u001b[0m \u001b[0m_read\u001b[0m\u001b[0;34m(\u001b[0m\u001b[0mfilepath_or_buffer\u001b[0m\u001b[0;34m,\u001b[0m \u001b[0mkwds\u001b[0m\u001b[0;34m)\u001b[0m\u001b[0;34m\u001b[0m\u001b[0;34m\u001b[0m\u001b[0m\n\u001b[0m\u001b[1;32m    710\u001b[0m \u001b[0;34m\u001b[0m\u001b[0m\n\u001b[1;32m    711\u001b[0m     \u001b[0mparser_f\u001b[0m\u001b[0;34m.\u001b[0m\u001b[0m__name__\u001b[0m \u001b[0;34m=\u001b[0m \u001b[0mname\u001b[0m\u001b[0;34m\u001b[0m\u001b[0;34m\u001b[0m\u001b[0m\n",
            "\u001b[0;32m/usr/local/lib/python3.6/dist-packages/pandas/io/parsers.py\u001b[0m in \u001b[0;36m_read\u001b[0;34m(filepath_or_buffer, kwds)\u001b[0m\n\u001b[1;32m    447\u001b[0m \u001b[0;34m\u001b[0m\u001b[0m\n\u001b[1;32m    448\u001b[0m     \u001b[0;31m# Create the parser.\u001b[0m\u001b[0;34m\u001b[0m\u001b[0;34m\u001b[0m\u001b[0;34m\u001b[0m\u001b[0m\n\u001b[0;32m--> 449\u001b[0;31m     \u001b[0mparser\u001b[0m \u001b[0;34m=\u001b[0m \u001b[0mTextFileReader\u001b[0m\u001b[0;34m(\u001b[0m\u001b[0mfilepath_or_buffer\u001b[0m\u001b[0;34m,\u001b[0m \u001b[0;34m**\u001b[0m\u001b[0mkwds\u001b[0m\u001b[0;34m)\u001b[0m\u001b[0;34m\u001b[0m\u001b[0;34m\u001b[0m\u001b[0m\n\u001b[0m\u001b[1;32m    450\u001b[0m \u001b[0;34m\u001b[0m\u001b[0m\n\u001b[1;32m    451\u001b[0m     \u001b[0;32mif\u001b[0m \u001b[0mchunksize\u001b[0m \u001b[0;32mor\u001b[0m \u001b[0miterator\u001b[0m\u001b[0;34m:\u001b[0m\u001b[0;34m\u001b[0m\u001b[0;34m\u001b[0m\u001b[0m\n",
            "\u001b[0;32m/usr/local/lib/python3.6/dist-packages/pandas/io/parsers.py\u001b[0m in \u001b[0;36m__init__\u001b[0;34m(self, f, engine, **kwds)\u001b[0m\n\u001b[1;32m    816\u001b[0m             \u001b[0mself\u001b[0m\u001b[0;34m.\u001b[0m\u001b[0moptions\u001b[0m\u001b[0;34m[\u001b[0m\u001b[0;34m'has_index_names'\u001b[0m\u001b[0;34m]\u001b[0m \u001b[0;34m=\u001b[0m \u001b[0mkwds\u001b[0m\u001b[0;34m[\u001b[0m\u001b[0;34m'has_index_names'\u001b[0m\u001b[0;34m]\u001b[0m\u001b[0;34m\u001b[0m\u001b[0;34m\u001b[0m\u001b[0m\n\u001b[1;32m    817\u001b[0m \u001b[0;34m\u001b[0m\u001b[0m\n\u001b[0;32m--> 818\u001b[0;31m         \u001b[0mself\u001b[0m\u001b[0;34m.\u001b[0m\u001b[0m_make_engine\u001b[0m\u001b[0;34m(\u001b[0m\u001b[0mself\u001b[0m\u001b[0;34m.\u001b[0m\u001b[0mengine\u001b[0m\u001b[0;34m)\u001b[0m\u001b[0;34m\u001b[0m\u001b[0;34m\u001b[0m\u001b[0m\n\u001b[0m\u001b[1;32m    819\u001b[0m \u001b[0;34m\u001b[0m\u001b[0m\n\u001b[1;32m    820\u001b[0m     \u001b[0;32mdef\u001b[0m \u001b[0mclose\u001b[0m\u001b[0;34m(\u001b[0m\u001b[0mself\u001b[0m\u001b[0;34m)\u001b[0m\u001b[0;34m:\u001b[0m\u001b[0;34m\u001b[0m\u001b[0;34m\u001b[0m\u001b[0m\n",
            "\u001b[0;32m/usr/local/lib/python3.6/dist-packages/pandas/io/parsers.py\u001b[0m in \u001b[0;36m_make_engine\u001b[0;34m(self, engine)\u001b[0m\n\u001b[1;32m   1047\u001b[0m     \u001b[0;32mdef\u001b[0m \u001b[0m_make_engine\u001b[0m\u001b[0;34m(\u001b[0m\u001b[0mself\u001b[0m\u001b[0;34m,\u001b[0m \u001b[0mengine\u001b[0m\u001b[0;34m=\u001b[0m\u001b[0;34m'c'\u001b[0m\u001b[0;34m)\u001b[0m\u001b[0;34m:\u001b[0m\u001b[0;34m\u001b[0m\u001b[0;34m\u001b[0m\u001b[0m\n\u001b[1;32m   1048\u001b[0m         \u001b[0;32mif\u001b[0m \u001b[0mengine\u001b[0m \u001b[0;34m==\u001b[0m \u001b[0;34m'c'\u001b[0m\u001b[0;34m:\u001b[0m\u001b[0;34m\u001b[0m\u001b[0;34m\u001b[0m\u001b[0m\n\u001b[0;32m-> 1049\u001b[0;31m             \u001b[0mself\u001b[0m\u001b[0;34m.\u001b[0m\u001b[0m_engine\u001b[0m \u001b[0;34m=\u001b[0m \u001b[0mCParserWrapper\u001b[0m\u001b[0;34m(\u001b[0m\u001b[0mself\u001b[0m\u001b[0;34m.\u001b[0m\u001b[0mf\u001b[0m\u001b[0;34m,\u001b[0m \u001b[0;34m**\u001b[0m\u001b[0mself\u001b[0m\u001b[0;34m.\u001b[0m\u001b[0moptions\u001b[0m\u001b[0;34m)\u001b[0m\u001b[0;34m\u001b[0m\u001b[0;34m\u001b[0m\u001b[0m\n\u001b[0m\u001b[1;32m   1050\u001b[0m         \u001b[0;32melse\u001b[0m\u001b[0;34m:\u001b[0m\u001b[0;34m\u001b[0m\u001b[0;34m\u001b[0m\u001b[0m\n\u001b[1;32m   1051\u001b[0m             \u001b[0;32mif\u001b[0m \u001b[0mengine\u001b[0m \u001b[0;34m==\u001b[0m \u001b[0;34m'python'\u001b[0m\u001b[0;34m:\u001b[0m\u001b[0;34m\u001b[0m\u001b[0;34m\u001b[0m\u001b[0m\n",
            "\u001b[0;32m/usr/local/lib/python3.6/dist-packages/pandas/io/parsers.py\u001b[0m in \u001b[0;36m__init__\u001b[0;34m(self, src, **kwds)\u001b[0m\n\u001b[1;32m   1693\u001b[0m         \u001b[0mkwds\u001b[0m\u001b[0;34m[\u001b[0m\u001b[0;34m'allow_leading_cols'\u001b[0m\u001b[0;34m]\u001b[0m \u001b[0;34m=\u001b[0m \u001b[0mself\u001b[0m\u001b[0;34m.\u001b[0m\u001b[0mindex_col\u001b[0m \u001b[0;32mis\u001b[0m \u001b[0;32mnot\u001b[0m \u001b[0;32mFalse\u001b[0m\u001b[0;34m\u001b[0m\u001b[0;34m\u001b[0m\u001b[0m\n\u001b[1;32m   1694\u001b[0m \u001b[0;34m\u001b[0m\u001b[0m\n\u001b[0;32m-> 1695\u001b[0;31m         \u001b[0mself\u001b[0m\u001b[0;34m.\u001b[0m\u001b[0m_reader\u001b[0m \u001b[0;34m=\u001b[0m \u001b[0mparsers\u001b[0m\u001b[0;34m.\u001b[0m\u001b[0mTextReader\u001b[0m\u001b[0;34m(\u001b[0m\u001b[0msrc\u001b[0m\u001b[0;34m,\u001b[0m \u001b[0;34m**\u001b[0m\u001b[0mkwds\u001b[0m\u001b[0;34m)\u001b[0m\u001b[0;34m\u001b[0m\u001b[0;34m\u001b[0m\u001b[0m\n\u001b[0m\u001b[1;32m   1696\u001b[0m \u001b[0;34m\u001b[0m\u001b[0m\n\u001b[1;32m   1697\u001b[0m         \u001b[0;31m# XXX\u001b[0m\u001b[0;34m\u001b[0m\u001b[0;34m\u001b[0m\u001b[0;34m\u001b[0m\u001b[0m\n",
            "\u001b[0;32mpandas/_libs/parsers.pyx\u001b[0m in \u001b[0;36mpandas._libs.parsers.TextReader.__cinit__\u001b[0;34m()\u001b[0m\n",
            "\u001b[0;32mpandas/_libs/parsers.pyx\u001b[0m in \u001b[0;36mpandas._libs.parsers.TextReader._setup_parser_source\u001b[0;34m()\u001b[0m\n",
            "\u001b[0;31mFileNotFoundError\u001b[0m: File b'Modelar_UH2019.txt' does not exist"
          ]
        }
      ]
    },
    {
      "metadata": {
        "id": "C_UD03_xo5mg",
        "colab_type": "text"
      },
      "cell_type": "markdown",
      "source": [
        "#### Combinación de ambos datasets en uno único"
      ]
    },
    {
      "metadata": {
        "id": "j1_2ib7Qo5mh",
        "colab_type": "text"
      },
      "cell_type": "markdown",
      "source": [
        "    Concatenamos ambos datasets, es decir, el de modelar y el de estimar en un conjunto único. De esta forma, tenemos un mayor número de datos a los que manejar."
      ]
    },
    {
      "metadata": {
        "id": "UkiPHUaUo5mi",
        "colab_type": "code",
        "colab": {}
      },
      "cell_type": "code",
      "source": [
        "#axis=0 (eje horizontal) y #axis=1 (eje vertical)\n",
        "#df_total= pd.concat([df_model, df_esti],axis=0) \n",
        "#df_total.shape\n",
        "#df_total.tail()"
      ],
      "execution_count": 0,
      "outputs": []
    },
    {
      "metadata": {
        "id": "Pmb7IAtKo5ml",
        "colab_type": "text"
      },
      "cell_type": "markdown",
      "source": [
        "# POST-ANÁLISIS "
      ]
    },
    {
      "metadata": {
        "id": "8MBjZEAGo5mn",
        "colab_type": "text"
      },
      "cell_type": "markdown",
      "source": [
        "#### Observar la distribución que siguen los datos"
      ]
    },
    {
      "metadata": {
        "scrolled": false,
        "id": "GRtYVnbMo5mo",
        "colab_type": "code",
        "colab": {}
      },
      "cell_type": "code",
      "source": [
        "df_model.describe()"
      ],
      "execution_count": 0,
      "outputs": []
    },
    {
      "metadata": {
        "id": "I5A-cFrlo5m6",
        "colab_type": "text"
      },
      "cell_type": "markdown",
      "source": [
        "# PRE-PROCESSING"
      ]
    },
    {
      "metadata": {
        "id": "5jMk537t72e2",
        "colab_type": "text"
      },
      "cell_type": "markdown",
      "source": [
        " https://scikit-learn.org/stable/modules/preprocessing.html"
      ]
    },
    {
      "metadata": {
        "id": "Ab3uNEuKo5mr",
        "colab_type": "text"
      },
      "cell_type": "markdown",
      "source": [
        "#### Crear un subconjunto donde no existen las categorías redundantes"
      ]
    },
    {
      "metadata": {
        "id": "g_RZyIYho5mt",
        "colab_type": "code",
        "colab": {}
      },
      "cell_type": "code",
      "source": [
        "noDesired_columns= [\"HY_id\",\"HY_provincia\",\"HY_descripcion\",\"HY_distribucion\"]\n",
        "\n",
        "def no_desired_columns(df,noDesired_columns ):\n",
        "  total_columns= df.columns.values.tolist()\n",
        "\n",
        "  sublist= [i for i in total_columns  if i not in noDesired_columns] # selecciona las columnas que no son las indicadas en noDesired_columns\n",
        "  res_model = df[sublist]\n",
        "  return res_model\n",
        "\n",
        "s_df_model=no_desired_columns(df_model,noDesired_columns)"
      ],
      "execution_count": 0,
      "outputs": []
    },
    {
      "metadata": {
        "id": "98ahmMUuCUvg",
        "colab_type": "code",
        "colab": {}
      },
      "cell_type": "code",
      "source": [
        "def desired_columns(df,desired_columns):\n",
        "  total_columns= df.columns.values.tolist()\n",
        "\n",
        "  sublist= [i for i in total_columns  if i in desired_columns] # selecciona las columnas que son las indicadas en Desired_columns\n",
        "  res_model = df[sublist]\n",
        "  return res_model"
      ],
      "execution_count": 0,
      "outputs": []
    },
    {
      "metadata": {
        "id": "ywSnJCqsKZFR",
        "colab_type": "text"
      },
      "cell_type": "markdown",
      "source": [
        "#### Comprobar si hay duplicados"
      ]
    },
    {
      "metadata": {
        "id": "2dP8UdlRK9rl",
        "colab_type": "code",
        "colab": {}
      },
      "cell_type": "code",
      "source": [
        "# df_duplicated= no_desired_columns(s_df_model,[\"TARGET\"])\n",
        "# df_duplicated.loc[df_duplicated.duplicated,:]"
      ],
      "execution_count": 0,
      "outputs": []
    },
    {
      "metadata": {
        "id": "3y9ehgqKN-8m",
        "colab_type": "code",
        "colab": {}
      },
      "cell_type": "code",
      "source": [
        "# df_duplicated.duplicated().sum()"
      ],
      "execution_count": 0,
      "outputs": []
    },
    {
      "metadata": {
        "id": "ItHCbwDSOXwc",
        "colab_type": "code",
        "colab": {}
      },
      "cell_type": "code",
      "source": [
        "# s_df_model=df_duplicated.drop_duplicates(keep=False)"
      ],
      "execution_count": 0,
      "outputs": []
    },
    {
      "metadata": {
        "id": "EYxhtAbE3bJd",
        "colab_type": "text"
      },
      "cell_type": "markdown",
      "source": [
        "#### Transformamos las categorias nominales a númericas"
      ]
    },
    {
      "metadata": {
        "id": "yhMDc_7u3la6",
        "colab_type": "text"
      },
      "cell_type": "markdown",
      "source": [
        "De esta forma se podra utilizar a posteriori los arboles de decisión en la clasificación (https://pbpython.com/categorical-encoding.html)"
      ]
    },
    {
      "metadata": {
        "id": "intOMzfa7G2b",
        "colab_type": "text"
      },
      "cell_type": "markdown",
      "source": [
        "Obervamos las categorias de tipo nominal o object"
      ]
    },
    {
      "metadata": {
        "id": "Wnw_u95q3ta7",
        "colab_type": "code",
        "colab": {}
      },
      "cell_type": "code",
      "source": [
        "obj_df= s_df_model.select_dtypes(include=['object']).columns.tolist()\n",
        "obj_df\n",
        "#En el siguiente paso de missins eliminamos HY_cert_energ debido a la gran cantidad de nulls"
      ],
      "execution_count": 0,
      "outputs": []
    },
    {
      "metadata": {
        "id": "epfeGFYWN7hL",
        "colab_type": "text"
      },
      "cell_type": "markdown",
      "source": [
        "##### Tipo"
      ]
    },
    {
      "metadata": {
        "id": "iHwZ7ibg3tg3",
        "colab_type": "code",
        "colab": {}
      },
      "cell_type": "code",
      "source": [
        "s_df_model[\"HY_tipo\"].value_counts()"
      ],
      "execution_count": 0,
      "outputs": []
    },
    {
      "metadata": {
        "id": "HHXihsJBGRl0",
        "colab_type": "text"
      },
      "cell_type": "markdown",
      "source": [
        "Label Encoding\n",
        "\n",
        "\n",
        "\n",
        "*   Pasamos a categoria los valores nominales(HY_tipo y HY_cert_energ)\n",
        "\n",
        "\n",
        "\n",
        "\n"
      ]
    },
    {
      "metadata": {
        "id": "OZyORZb1PL4q",
        "colab_type": "code",
        "colab": {}
      },
      "cell_type": "code",
      "source": [
        "lb_make=preprocessing.LabelEncoder()\n",
        "s_df_model['HY_tipo']=lb_make.fit_transform(s_df_model[\"HY_tipo\"])"
      ],
      "execution_count": 0,
      "outputs": []
    },
    {
      "metadata": {
        "id": "_SNLb9BhH5UL",
        "colab_type": "code",
        "colab": {}
      },
      "cell_type": "code",
      "source": [
        "s_df_model[\"HY_tipo\"].value_counts()"
      ],
      "execution_count": 0,
      "outputs": []
    },
    {
      "metadata": {
        "id": "CE6nTWt2KO_-",
        "colab_type": "text"
      },
      "cell_type": "markdown",
      "source": [
        "##### Scaling with outlayers"
      ]
    },
    {
      "metadata": {
        "id": "IGEWpUMfB3wq",
        "colab_type": "code",
        "colab": {}
      },
      "cell_type": "code",
      "source": [
        "# robust_scaler= RobustScaler()\n",
        "# robust_scaled_df = robust_scaler.fit_transform(s_df_model['HY_metros_utiles'])\n",
        "# s_df_model['HY_metros_utiles_scale'] = pd.DataFrame(robust_scaled_df, columns=s_df_model['HY_metros_utiles'])"
      ],
      "execution_count": 0,
      "outputs": []
    },
    {
      "metadata": {
        "id": "S4WE0v0So5m0",
        "colab_type": "text"
      },
      "cell_type": "markdown",
      "source": [
        "### Missing values \n"
      ]
    },
    {
      "metadata": {
        "id": "fh2RNoeJS3SZ",
        "colab_type": "text"
      },
      "cell_type": "markdown",
      "source": [
        "https://towardsdatascience.com/the-tale-of-missing-values-in-python-c96beb0e8a9d\n",
        "https://scikit-learn.org/stable/modules/impute.html\n",
        "https://scikit-learn.org/stable/modules/impute.html\n"
      ]
    },
    {
      "metadata": {
        "id": "2_5Ppj1o01X5",
        "colab_type": "text"
      },
      "cell_type": "markdown",
      "source": [
        "##### Cantidad de null y eliminación de columns"
      ]
    },
    {
      "metadata": {
        "id": "51Nx7YL2ONu-",
        "colab_type": "code",
        "colab": {}
      },
      "cell_type": "code",
      "source": [
        "s_df_model.isna().sum()"
      ],
      "execution_count": 0,
      "outputs": []
    },
    {
      "metadata": {
        "id": "QyhfRXNhvscg",
        "colab_type": "text"
      },
      "cell_type": "markdown",
      "source": [
        "Eliminamos el certificado de energia debido a la gran cantidad de nulls"
      ]
    },
    {
      "metadata": {
        "id": "p9556oKxvpXw",
        "colab_type": "code",
        "colab": {}
      },
      "cell_type": "code",
      "source": [
        "s_df_model=s_df_model.drop(['HY_cert_energ'],axis=1)"
      ],
      "execution_count": 0,
      "outputs": []
    },
    {
      "metadata": {
        "id": "B_yBuyjvoJ-j",
        "colab_type": "text"
      },
      "cell_type": "markdown",
      "source": [
        "#### Predición y relleno de nulls (https://stackoverflow.com/questions/40996051/predict-na-missing-values-with-machine-learning)"
      ]
    },
    {
      "metadata": {
        "id": "mQqeuw92xs5J",
        "colab_type": "text"
      },
      "cell_type": "markdown",
      "source": [
        "Nos quedamos con el dataframe sin nulls"
      ]
    },
    {
      "metadata": {
        "colab_type": "code",
        "id": "S8qM57-pgL1G",
        "colab": {}
      },
      "cell_type": "code",
      "source": [
        "\n",
        "nulls_columns=s_df_model.columns[s_df_model.isna().any()]\n",
        "\n",
        "for i in nulls_columns: \n",
        "  target_column=i\n",
        "  index_of_target = s_df_model.columns.get_loc(target_column)\n",
        "  #Separamos en notNans y nans\n",
        "  notnans= s_df_model.notnull().all(axis=1)\n",
        "  df_notnans= s_df_model[notnans]\n",
        "  df_nans= s_df_model.loc[~notnans]\n",
        "  df_nans=no_desired_columns(df_nans,target_column)\n",
        "\n",
        "  #Rellenamos los nans con la media\n",
        "  df_nans=df_nans.fillna(0)\n",
        "\n",
        "  #Objetivo y predcitores para el clasificador\n",
        "  predictors=no_desired_columns(df_notnans,target_column)\n",
        "  target=df_notnans[target_column]\n",
        "\n",
        "  #Clasificador\n",
        "  reg= DecisionTreeRegressor(min_samples_split=10,min_samples_leaf=1,random_state=None)\n",
        "#   reg= RandomForestRegressor(n_jobs=2,n_estimators=500)\n",
        "#   reg= GradientBoostingRegressor(n_estimators=500, max_depth=4,min_samples_split=2,learning_rate=0.01)\n",
        "  reg.fit(predictors,target)\n",
        "\n",
        "\n",
        "  #Predicción\n",
        "  to_predict= df_nans\n",
        "  name_pred_column=target_column\n",
        "  to_predict[name_pred_column]= reg.predict(to_predict)\n",
        "  \n"
      ],
      "execution_count": 0,
      "outputs": []
    },
    {
      "metadata": {
        "id": "xMw_CZSv0A1h",
        "colab_type": "code",
        "colab": {}
      },
      "cell_type": "code",
      "source": [
        "#Concatenamos el df predecido y el original sin nans\n",
        "s_df_model=pd.concat([df_notnans, to_predict],axis=0) "
      ],
      "execution_count": 0,
      "outputs": []
    },
    {
      "metadata": {
        "id": "sDsGsazfceqf",
        "colab_type": "code",
        "colab": {}
      },
      "cell_type": "code",
      "source": [
        "#s_df_model['TARGET']=s_df_model['TARGET'].fillna(-1)#en ele caso de que cojamos la parte de estimación también"
      ],
      "execution_count": 0,
      "outputs": []
    },
    {
      "metadata": {
        "id": "TICJEKZw0rTf",
        "colab_type": "text"
      },
      "cell_type": "markdown",
      "source": [
        "##### Comprobación"
      ]
    },
    {
      "metadata": {
        "id": "pJbB04xoSKRn",
        "colab_type": "code",
        "colab": {}
      },
      "cell_type": "code",
      "source": [
        "np.isnan(s_df_model.any()).sum() "
      ],
      "execution_count": 0,
      "outputs": []
    },
    {
      "metadata": {
        "id": "SftAPYx6eAbm",
        "colab_type": "code",
        "colab": {}
      },
      "cell_type": "code",
      "source": [
        "np.isinf(s_df_model.all()).sum()"
      ],
      "execution_count": 0,
      "outputs": []
    },
    {
      "metadata": {
        "id": "fCf_uOYPJtW5",
        "colab_type": "text"
      },
      "cell_type": "markdown",
      "source": [
        "https://scikit-learn.org/stable/auto_examples/compose/plot_transformed_target.html#sphx-glr-auto-examples-compose-plot-transformed-target-py"
      ]
    },
    {
      "metadata": {
        "id": "Qy2UlkPM_BXC",
        "colab_type": "code",
        "colab": {}
      },
      "cell_type": "code",
      "source": [
        "# rng = np.random.RandomState(0)\n",
        "# s_df_model[\"\"]= np.sort(rng.normal(loc=0.5, scale=0.25, size=(25, 1)), axis=0)\n",
        "# qt = QuantileTransformer(n_quantiles=10, random_state=0,output_distribution='normal')\n",
        "# qt.fit_transform(s_df_model) "
      ],
      "execution_count": 0,
      "outputs": []
    },
    {
      "metadata": {
        "id": "aadWqrczkVjz",
        "colab_type": "text"
      },
      "cell_type": "markdown",
      "source": [
        "### Normalización"
      ]
    },
    {
      "metadata": {
        "id": "7mwQ3xsify7G",
        "colab_type": "text"
      },
      "cell_type": "markdown",
      "source": [
        "https://scikit-learn.org/stable/auto_examples/preprocessing/plot_all_scaling.html#sphx-glr-auto-examples-preprocessing-plot-all-scaling-py"
      ]
    },
    {
      "metadata": {
        "id": "66lJjA90eTTC",
        "colab_type": "text"
      },
      "cell_type": "markdown",
      "source": [
        "##### Outlayers"
      ]
    },
    {
      "metadata": {
        "id": "nGgiK2XpkgLY",
        "colab_type": "code",
        "colab": {}
      },
      "cell_type": "code",
      "source": [
        "s_df_model.columns"
      ],
      "execution_count": 0,
      "outputs": []
    },
    {
      "metadata": {
        "id": "AU3K2URHf8g5",
        "colab_type": "code",
        "colab": {}
      },
      "cell_type": "code",
      "source": [
        "columns=['HY_metros_utiles','HY_metros_totales','GA_page_views','GA_quincena_ult','HY_precio','HY_precio_anterior',\n",
        "          'IDEA_area','IDEA_densidad','IDEA_price_sale_residential','IDEA_price_rent_residential']\n",
        "# columns=['HY_metros_utiles','HY_metros_totales','GA_page_views']"
      ],
      "execution_count": 0,
      "outputs": []
    },
    {
      "metadata": {
        "id": "384tWzKZR4pB",
        "colab_type": "code",
        "colab": {}
      },
      "cell_type": "code",
      "source": [
        "scaler = preprocessing.RobustScaler()\n",
        "# scaler = preprocessing.MinMaxScaler()\n",
        "\n",
        "s_df_model[columns] = scaler.fit_transform(s_df_model[columns])"
      ],
      "execution_count": 0,
      "outputs": []
    },
    {
      "metadata": {
        "id": "llE92FhQcnKo",
        "colab_type": "code",
        "colab": {}
      },
      "cell_type": "code",
      "source": [
        "uniform_distr = preprocessing.QuantileTransformer(output_distribution='normal', random_state=0)\n",
        "s_df_model[columns] = uniform_distr.fit_transform(s_df_model[columns])"
      ],
      "execution_count": 0,
      "outputs": []
    },
    {
      "metadata": {
        "id": "Z9NVAIgbb_wH",
        "colab_type": "code",
        "colab": {}
      },
      "cell_type": "code",
      "source": [
        "scalerNorm = preprocessing.Normalizer()\n",
        "s_df_model[columns] = scalerNorm.fit_transform(s_df_model[columns])"
      ],
      "execution_count": 0,
      "outputs": []
    },
    {
      "metadata": {
        "id": "X_hZH3a4d_Dr",
        "colab_type": "code",
        "colab": {}
      },
      "cell_type": "code",
      "source": [
        "# histogramas(s_df_model[columns])"
      ],
      "execution_count": 0,
      "outputs": []
    },
    {
      "metadata": {
        "id": "yDmu1I4MPyYL",
        "colab_type": "text"
      },
      "cell_type": "markdown",
      "source": [
        "##### To normal"
      ]
    },
    {
      "metadata": {
        "colab_type": "code",
        "id": "MYME9q2tIndL",
        "colab": {}
      },
      "cell_type": "code",
      "source": [
        "s_df_model.columns"
      ],
      "execution_count": 0,
      "outputs": []
    },
    {
      "metadata": {
        "colab_type": "code",
        "id": "4wxkRsK1IndN",
        "colab": {}
      },
      "cell_type": "code",
      "source": [
        "columns=['HY_metros_utiles','HY_metros_totales','GA_page_views','GA_quincena_ult','HY_precio','HY_precio_anterior',\n",
        "          'IDEA_area','IDEA_densidad','IDEA_price_sale_residential','IDEA_price_rent_residential']\n",
        "# columns=['HY_metros_utiles','HY_metros_totales','GA_page_views']"
      ],
      "execution_count": 0,
      "outputs": []
    },
    {
      "metadata": {
        "colab_type": "code",
        "id": "1RH0Ix3zIndO",
        "colab": {}
      },
      "cell_type": "code",
      "source": [
        "# scaler = preprocessing.RobustScaler()\n",
        "# scaler = preprocessing.MinMaxScaler()\n",
        "\n",
        "# s_df_model[columns] = scaler.fit_transform(s_df_model[columns])"
      ],
      "execution_count": 0,
      "outputs": []
    },
    {
      "metadata": {
        "colab_type": "code",
        "id": "Z-INKVx1IndP",
        "colab": {}
      },
      "cell_type": "code",
      "source": [
        "uniform_distr = preprocessing.QuantileTransformer(output_distribution='normal', random_state=0)\n",
        "s_df_model[columns] = uniform_distr.fit_transform(s_df_model[columns])"
      ],
      "execution_count": 0,
      "outputs": []
    },
    {
      "metadata": {
        "colab_type": "code",
        "id": "dtcgr1vIIndQ",
        "colab": {}
      },
      "cell_type": "code",
      "source": [
        "scalerNorm = preprocessing.Normalizer()\n",
        "s_df_model[columns] = scalerNorm.fit_transform(s_df_model[columns])"
      ],
      "execution_count": 0,
      "outputs": []
    },
    {
      "metadata": {
        "colab_type": "code",
        "id": "-5fhoYO0IndQ",
        "colab": {}
      },
      "cell_type": "code",
      "source": [
        "# histogramas(s_df_model[columns])"
      ],
      "execution_count": 0,
      "outputs": []
    },
    {
      "metadata": {
        "colab_type": "text",
        "id": "G7uzDiUzKjMh"
      },
      "cell_type": "markdown",
      "source": [
        "##### Uniform Distribution"
      ]
    },
    {
      "metadata": {
        "id": "AgNp02cPK2H_",
        "colab_type": "code",
        "colab": {}
      },
      "cell_type": "code",
      "source": [
        "desired_columns= no_desired_columns(s_df_model,columns)"
      ],
      "execution_count": 0,
      "outputs": []
    },
    {
      "metadata": {
        "colab_type": "code",
        "id": "BIvz_6HhKjMi",
        "colab": {}
      },
      "cell_type": "code",
      "source": [
        "desired_columns.columns"
      ],
      "execution_count": 0,
      "outputs": []
    },
    {
      "metadata": {
        "id": "u0eSldONLD15",
        "colab_type": "code",
        "colab": {}
      },
      "cell_type": "code",
      "source": [
        "uni_columns=['GA_exit_rate','GA_mean_bounce','GA_quincena_ini','HY_cod_postal','IDEA_demand_sale_residential',\n",
        "             'IDEA_ind_alimentacion', 'IDEA_ind_elasticidad', 'IDEA_ind_liquidez',\n",
        "             'IDEA_ind_riqueza', 'IDEA_ind_tienda', 'IDEA_ind_turismo',\n",
        "             'IDEA_pc_1960', 'IDEA_pc_1960_69', 'IDEA_pc_1970_79', 'IDEA_pc_1980_89',\n",
        "             'IDEA_pc_1990_99', 'IDEA_pc_2000_10', 'IDEA_pc_comercio',\n",
        "             'IDEA_pc_industria', 'IDEA_pc_oficina', 'IDEA_pc_otros','IDEA_poblacion',\n",
        "             'IDEA_rent_alquiler', 'IDEA_stock_rent_residential',\n",
        "             'IDEA_stock_sale_residential', 'IDEA_unitprice_rent_residential',\n",
        "             'IDEA_unitprice_sale_residential']"
      ],
      "execution_count": 0,
      "outputs": []
    },
    {
      "metadata": {
        "colab_type": "code",
        "id": "Jak9gPxLRHA5",
        "colab": {}
      },
      "cell_type": "code",
      "source": [
        "uniform_distr = preprocessing.QuantileTransformer(output_distribution='normal', random_state=0)\n",
        "s_df_model[uni_columns] = uniform_distr.fit_transform(s_df_model[uni_columns])"
      ],
      "execution_count": 0,
      "outputs": []
    },
    {
      "metadata": {
        "colab_type": "code",
        "id": "u_SIeDTJKjMt",
        "colab": {}
      },
      "cell_type": "code",
      "source": [
        "scalerNorm = preprocessing.Normalizer()\n",
        "s_df_model[uni_columns] = scalerNorm.fit_transform(s_df_model[uni_columns])"
      ],
      "execution_count": 0,
      "outputs": []
    },
    {
      "metadata": {
        "id": "f_8RsxDFYkgu",
        "colab_type": "text"
      },
      "cell_type": "markdown",
      "source": [
        "##### Target"
      ]
    },
    {
      "metadata": {
        "id": "Pv0Q4e2QZBTl",
        "colab_type": "text"
      },
      "cell_type": "markdown",
      "source": [
        "Realizamos el ln del Target para acercarnos a  la distribución normal\n"
      ]
    },
    {
      "metadata": {
        "id": "k00YPqJpX2aq",
        "colab_type": "code",
        "colab": {}
      },
      "cell_type": "code",
      "source": [
        "s_df_model['TARGET']=np.log1p(s_df_model['TARGET'])"
      ],
      "execution_count": 0,
      "outputs": []
    },
    {
      "metadata": {
        "id": "NsnNc2qwS-61",
        "colab_type": "text"
      },
      "cell_type": "markdown",
      "source": [
        "##### Category Encoding (http://contrib.scikit-learn.org/categorical-encoding/helmert.html, https://scikit-learn.org/stable/modules/classes.html#module-sklearn.preprocessing)"
      ]
    },
    {
      "metadata": {
        "id": "_9CpNLuuTgxU",
        "colab_type": "code",
        "colab": {}
      },
      "cell_type": "code",
      "source": [
        "no_desired=['HY_metros_utiles','HY_metros_totales','GA_page_views','GA_quincena_ult','HY_precio','HY_precio_anterior',\n",
        "          'IDEA_area','IDEA_densidad','IDEA_price_sale_residential','IDEA_price_rent_residential',\n",
        "            'GA_exit_rate','GA_mean_bounce','GA_quincena_ini','HY_cod_postal','IDEA_demand_sale_residential',\n",
        "             'IDEA_ind_alimentacion', 'IDEA_ind_elasticidad', 'IDEA_ind_liquidez',\n",
        "             'IDEA_ind_riqueza', 'IDEA_ind_tienda', 'IDEA_ind_turismo',\n",
        "             'IDEA_pc_1960', 'IDEA_pc_1960_69', 'IDEA_pc_1970_79', 'IDEA_pc_1980_89',\n",
        "             'IDEA_pc_1990_99', 'IDEA_pc_2000_10', 'IDEA_pc_comercio',\n",
        "             'IDEA_pc_industria', 'IDEA_pc_oficina', 'IDEA_pc_otros','IDEA_poblacion',\n",
        "             'IDEA_rent_alquiler', 'IDEA_stock_rent_residential',\n",
        "             'IDEA_stock_sale_residential', 'IDEA_unitprice_rent_residential',\n",
        "             'IDEA_unitprice_sale_residential']\n",
        "category_features=no_desired_columns(s_df_model,no_desired)"
      ],
      "execution_count": 0,
      "outputs": []
    },
    {
      "metadata": {
        "id": "aR9Cjp-3T_AY",
        "colab_type": "code",
        "colab": {}
      },
      "cell_type": "code",
      "source": [
        "category_features.columns"
      ],
      "execution_count": 0,
      "outputs": []
    },
    {
      "metadata": {
        "id": "hKkkqz3IW9oP",
        "colab_type": "code",
        "colab": {}
      },
      "cell_type": "code",
      "source": [
        "category_features=['HY_antiguedad', 'HY_ascensor', 'HY_num_banos', 'HY_num_garajes','HY_num_terrazas', 'HY_tipo', 'HY_trastero','IDEA_demand_rent_residential', 'IDEA_pc_residencial','IDEA_pc_trast_parking']"
      ],
      "execution_count": 0,
      "outputs": []
    },
    {
      "metadata": {
        "id": "5RU2lwhAh0pH",
        "colab_type": "code",
        "colab": {}
      },
      "cell_type": "code",
      "source": [
        "#df_model[\"HY_ascensor\"].value_counts()"
      ],
      "execution_count": 0,
      "outputs": []
    },
    {
      "metadata": {
        "id": "1rHZkvmgU_6A",
        "colab_type": "code",
        "colab": {}
      },
      "cell_type": "code",
      "source": [
        "# s_df_model[category_features]=preprocessing.add_dummy_feature(s_df_model[category_features])\n",
        "# enc = preprocessing.OrdinalEncoder()\n",
        "# enc=preprocessing.OneHotEncoder(handle_unknown='ignore')\n",
        "# enc.fit(s_df_model[category_features])\n",
        "# s_df_model[category_features]=enc.transform(s_df_model[category_features])"
      ],
      "execution_count": 0,
      "outputs": []
    },
    {
      "metadata": {
        "id": "-osjQtdxX5C3",
        "colab_type": "code",
        "colab": {}
      },
      "cell_type": "code",
      "source": [
        "# le=preprocessing.LabelEncoder()\n",
        "# le.fit(s_df_model['HY_ascensor'])\n",
        "# s_df_model['HY_ascensor']=le.transform(s_df_model['HY_ascensor'])"
      ],
      "execution_count": 0,
      "outputs": []
    },
    {
      "metadata": {
        "id": "pHz0geFWakjb",
        "colab_type": "code",
        "colab": {}
      },
      "cell_type": "code",
      "source": [
        "s_df_model[['HY_si_ascensor','HY_no_ascensor']]=pd.get_dummies(s_df_model['HY_ascensor'])\n"
      ],
      "execution_count": 0,
      "outputs": []
    },
    {
      "metadata": {
        "id": "V1Ve3QlxIil1",
        "colab_type": "code",
        "colab": {}
      },
      "cell_type": "code",
      "source": [
        "s_df_model=s_df_model.drop(['HY_ascensor'], axis=1)\n",
        "s_df_model.columns"
      ],
      "execution_count": 0,
      "outputs": []
    },
    {
      "metadata": {
        "id": "xRe5Jegu-kon",
        "colab_type": "text"
      },
      "cell_type": "markdown",
      "source": [
        "##### OneHotEncoder"
      ]
    },
    {
      "metadata": {
        "id": "dyp1JVTA-fi7",
        "colab_type": "code",
        "colab": {}
      },
      "cell_type": "code",
      "source": [
        "# enc=OneHotEncoder(handle_unknown='ignore')\n",
        "# enc.fit_transform(s_df_model)"
      ],
      "execution_count": 0,
      "outputs": []
    },
    {
      "metadata": {
        "id": "NZKSzv1SMqhF",
        "colab_type": "text"
      },
      "cell_type": "markdown",
      "source": [
        "##### Norm"
      ]
    },
    {
      "metadata": {
        "id": "kh1ZdNVmMhjj",
        "colab_type": "code",
        "colab": {}
      },
      "cell_type": "code",
      "source": [
        "# scalerNorm = preprocessing.Normalizer()\n",
        "# s_df_model = scalerNorm.fit_transform(s_df_model)"
      ],
      "execution_count": 0,
      "outputs": []
    },
    {
      "metadata": {
        "id": "UQXvx26sGo8q",
        "colab_type": "text"
      },
      "cell_type": "markdown",
      "source": [
        "#EXTRACCIÓN DE CARACTERÍSTICAS\n"
      ]
    },
    {
      "metadata": {
        "id": "zyP6T_UEHBGQ",
        "colab_type": "text"
      },
      "cell_type": "markdown",
      "source": [
        "Número de Fotografías"
      ]
    },
    {
      "metadata": {
        "id": "HgGXnpE3G56-",
        "colab_type": "text"
      },
      "cell_type": "markdown",
      "source": [
        "### Descripción "
      ]
    },
    {
      "metadata": {
        "id": "96npAlsyHnY_",
        "colab_type": "text"
      },
      "cell_type": "markdown",
      "source": [
        "# PRE-ANALISIS"
      ]
    },
    {
      "metadata": {
        "id": "3M8gBXOuz8ZU",
        "colab_type": "text"
      },
      "cell_type": "markdown",
      "source": [
        "https://www.machinelearningplus.com/plots/top-50-matplotlib-visualizations-the-master-plots-python/"
      ]
    },
    {
      "metadata": {
        "id": "B-aJjzhsaQyM",
        "colab_type": "code",
        "colab": {}
      },
      "cell_type": "code",
      "source": [
        "s_df_model.head()"
      ],
      "execution_count": 0,
      "outputs": []
    },
    {
      "metadata": {
        "colab_type": "text",
        "id": "LZRYysl_Z22-"
      },
      "cell_type": "markdown",
      "source": [
        "### Distribución"
      ]
    },
    {
      "metadata": {
        "scrolled": false,
        "colab_type": "code",
        "id": "NrBVgJqZZ22_",
        "colab": {}
      },
      "cell_type": "code",
      "source": [
        "s_df_model.describe()"
      ],
      "execution_count": 0,
      "outputs": []
    },
    {
      "metadata": {
        "id": "zFR7iKu6VR_x",
        "colab_type": "text"
      },
      "cell_type": "markdown",
      "source": [
        "### Correlación"
      ]
    },
    {
      "metadata": {
        "id": "sPM_1SjJVRLw",
        "colab_type": "code",
        "colab": {}
      },
      "cell_type": "code",
      "source": [
        "def plot_corr(df,size=10):\n",
        "\n",
        "  corr = df.corr()\n",
        "  fig, ax = plt.subplots(figsize=(size, size))\n",
        "  cax = ax.matshow(corr,cmap='coolwarm', vmin=-1, vmax=1)\n",
        "  fig.colorbar(cax)\n",
        "  ticks = np.arange(0,len(df.columns),1)\n",
        "  ax.set_xticks(ticks)\n",
        "  plt.xticks(rotation=90)\n",
        "  ax.set_yticks(ticks)\n",
        "  ax.set_xticklabels(df.columns)\n",
        "  ax.set_yticklabels(df.columns)\n",
        "  plt.show()"
      ],
      "execution_count": 0,
      "outputs": []
    },
    {
      "metadata": {
        "id": "h1BZhmBAXCP-",
        "colab_type": "code",
        "colab": {}
      },
      "cell_type": "code",
      "source": [
        " plot_corr(s_df_model,18)"
      ],
      "execution_count": 0,
      "outputs": []
    },
    {
      "metadata": {
        "id": "xki2584gchvF",
        "colab_type": "text"
      },
      "cell_type": "markdown",
      "source": [
        "### Histogramas"
      ]
    },
    {
      "metadata": {
        "id": "Uf4lBhX9t9Tb",
        "colab_type": "code",
        "colab": {}
      },
      "cell_type": "code",
      "source": [
        "#  histogramas(s_df_model)"
      ],
      "execution_count": 0,
      "outputs": []
    },
    {
      "metadata": {
        "id": "J4QFO25zdRea",
        "colab_type": "text"
      },
      "cell_type": "markdown",
      "source": [
        "### Boxplot"
      ]
    },
    {
      "metadata": {
        "id": "0eiL4zIndUUU",
        "colab_type": "code",
        "colab": {}
      },
      "cell_type": "code",
      "source": [
        "def boxplots(train):  \n",
        "  for col in train:\n",
        "    plt.boxplot(train[col], dict(markerfacecolor='g', marker='D'),showfliers=True)\n",
        "    plt.title(col)\n",
        "    plt.xlabel(\"Valores\")\n",
        "    plt.ylabel(\"Frecuencia\")\n",
        "    plt.show()"
      ],
      "execution_count": 0,
      "outputs": []
    },
    {
      "metadata": {
        "id": "PTwbBeif6Azb",
        "colab_type": "code",
        "colab": {}
      },
      "cell_type": "code",
      "source": [
        "#boxplots(s_df_model)"
      ],
      "execution_count": 0,
      "outputs": []
    },
    {
      "metadata": {
        "id": "yOv605ZBo5nB",
        "colab_type": "text"
      },
      "cell_type": "markdown",
      "source": [
        "# CLASIFICACIÓN"
      ]
    },
    {
      "metadata": {
        "id": "nv73ORVZran3",
        "colab_type": "text"
      },
      "cell_type": "markdown",
      "source": [
        "#### Obtenemos las categorias predictoras por un lado  y el target por otro"
      ]
    },
    {
      "metadata": {
        "id": "b6l9SzmftrFf",
        "colab_type": "text"
      },
      "cell_type": "markdown",
      "source": [
        "#### Separamos el conjunto en un conjunto de Training y un conjunto de Test"
      ]
    },
    {
      "metadata": {
        "id": "9tZDz3sUt0mS",
        "colab_type": "code",
        "colab": {}
      },
      "cell_type": "code",
      "source": [
        "s_df_model[\"is_train\"]= np.random.uniform(0,1,len(s_df_model))<=0.75"
      ],
      "execution_count": 0,
      "outputs": []
    },
    {
      "metadata": {
        "id": "qauc9d60uwzk",
        "colab_type": "text"
      },
      "cell_type": "markdown",
      "source": [
        "Partimos el conjunto en dos subconjuntos en función del valor -1 indicando cual era el training y el estimador"
      ]
    },
    {
      "metadata": {
        "id": "o8TYYskYvGKT",
        "colab_type": "code",
        "colab": {}
      },
      "cell_type": "code",
      "source": [
        "#s_df_model[\"is_train\"]= s_df_model['TARGET'].values!=-1"
      ],
      "execution_count": 0,
      "outputs": []
    },
    {
      "metadata": {
        "id": "YK-8_In9ytls",
        "colab_type": "text"
      },
      "cell_type": "markdown",
      "source": [
        "Vemos en el histograma como se reparte los datos entre Train y test"
      ]
    },
    {
      "metadata": {
        "id": "k1yDhkZYud3R",
        "colab_type": "code",
        "colab": {}
      },
      "cell_type": "code",
      "source": [
        "plt.hist(s_df_model.is_train)"
      ],
      "execution_count": 0,
      "outputs": []
    },
    {
      "metadata": {
        "id": "ovwbloaUy6id",
        "colab_type": "text"
      },
      "cell_type": "markdown",
      "source": [
        "Partimos en test y train"
      ]
    },
    {
      "metadata": {
        "id": "ftEbAFuIypZG",
        "colab_type": "code",
        "colab": {}
      },
      "cell_type": "code",
      "source": [
        "train, test = s_df_model[s_df_model[\"is_train\"]==True],s_df_model[s_df_model[\"is_train\"]==False]\n",
        "train.drop(\"is_train\",axis=1,inplace=True)\n",
        "test.drop(\"is_train\",axis=1,inplace=True)"
      ],
      "execution_count": 0,
      "outputs": []
    },
    {
      "metadata": {
        "id": "IC47Xsymo5m-",
        "colab_type": "code",
        "colab": {}
      },
      "cell_type": "code",
      "source": [
        "predictors_train= no_desired_columns(train,'TARGET') \n",
        "predictors_test= no_desired_columns(test,'TARGET') \n",
        "\n",
        "target= train['TARGET']# hay que tener en cuenta que se empieza en el cero"
      ],
      "execution_count": 0,
      "outputs": []
    },
    {
      "metadata": {
        "id": "okW2IaPGqG75",
        "colab_type": "text"
      },
      "cell_type": "markdown",
      "source": [
        "### Regression Tree "
      ]
    },
    {
      "metadata": {
        "id": "qvHNUS110_s3",
        "colab_type": "text"
      },
      "cell_type": "markdown",
      "source": [
        "Creamos el módelo"
      ]
    },
    {
      "metadata": {
        "id": "Er_3BJ8S0zvs",
        "colab_type": "code",
        "colab": {}
      },
      "cell_type": "code",
      "source": [
        "# regtree= DecisionTreeRegressor(min_samples_split=5,min_samples_leaf=1,random_state=None)\n",
        "# regtree.fit(predictors,target)"
      ],
      "execution_count": 0,
      "outputs": []
    },
    {
      "metadata": {
        "id": "ZvQHc1kkkGvg",
        "colab_type": "text"
      },
      "cell_type": "markdown",
      "source": [
        "#### Prediction"
      ]
    },
    {
      "metadata": {
        "id": "yqd7z0TYjPe0",
        "colab_type": "code",
        "colab": {}
      },
      "cell_type": "code",
      "source": [
        "#res=test\n",
        "# res[\"regtree_preds\"]= regtree.predict(predictors_test)\n",
        "\n",
        "#train[[\"regtree_preds\",\"TARGET\"]]"
      ],
      "execution_count": 0,
      "outputs": []
    },
    {
      "metadata": {
        "id": "wis_uArUpTib",
        "colab_type": "text"
      },
      "cell_type": "markdown",
      "source": [
        "Median absolute error"
      ]
    },
    {
      "metadata": {
        "id": "eBYwn8Eblh--",
        "colab_type": "code",
        "colab": {}
      },
      "cell_type": "code",
      "source": [
        "\n",
        "# mae_regtree=mean_absolute_error(np.expm1(test[\"TARGET\"]),np.expm1(res[\"regtree_preds\"]))    \n",
        "# mae_regtree=mean_absolute_error(to_predict[\"TARGET\"],to_predict[\"regtree_preds\"])                    "
      ],
      "execution_count": 0,
      "outputs": []
    },
    {
      "metadata": {
        "id": "5XAyTdTrNSaE",
        "colab_type": "text"
      },
      "cell_type": "markdown",
      "source": [
        "### Regression Random Forest\n",
        "    \n",
        "\n",
        "*   n_jobs-> número de tareas en paralelo\n",
        "*   obb_score-> true(aleatorio)\n",
        "*   n_estimators.-> núm. de estimadores que se va a tener\n",
        "\n"
      ]
    },
    {
      "metadata": {
        "id": "OM-W0Jifo5nC",
        "colab_type": "code",
        "colab": {}
      },
      "cell_type": "code",
      "source": [
        "# forest= RandomForestRegressor(n_jobs=2,n_estimators=500)\n",
        "# forest.fit(predictors,target)"
      ],
      "execution_count": 0,
      "outputs": []
    },
    {
      "metadata": {
        "id": "QEDRTj8TxD4k",
        "colab_type": "text"
      },
      "cell_type": "markdown",
      "source": [
        "#### prediction"
      ]
    },
    {
      "metadata": {
        "id": "E56_gy2MvXQH",
        "colab_type": "code",
        "colab": {}
      },
      "cell_type": "code",
      "source": [
        "#res=test\n",
        "# res[\"rforest_preds\"]=forest.predict(predictors_test)"
      ],
      "execution_count": 0,
      "outputs": []
    },
    {
      "metadata": {
        "id": "Gig-hfm0wB9I",
        "colab_type": "code",
        "colab": {}
      },
      "cell_type": "code",
      "source": [
        "# mae_rforest=mean_absolute_error(np.expm1(test[\"TARGET\"]),np.expm1(res[\"rforest_preds\"]))"
      ],
      "execution_count": 0,
      "outputs": []
    },
    {
      "metadata": {
        "id": "Etrwr5zQIIcG",
        "colab_type": "text"
      },
      "cell_type": "markdown",
      "source": [
        "### Gradient Boosting Regressor"
      ]
    },
    {
      "metadata": {
        "id": "SzS16q2PIPtM",
        "colab_type": "code",
        "colab": {}
      },
      "cell_type": "code",
      "source": [
        "gradient= GradientBoostingRegressor(n_estimators=500, max_depth=5,min_samples_split=2,learning_rate=0.01)\n",
        "gradient.fit(predictors_train,target)"
      ],
      "execution_count": 0,
      "outputs": []
    },
    {
      "metadata": {
        "id": "fH8OZm7PKTOf",
        "colab_type": "text"
      },
      "cell_type": "markdown",
      "source": [
        "#### Prediction"
      ]
    },
    {
      "metadata": {
        "id": "ABVnrlGaKQp0",
        "colab_type": "code",
        "colab": {}
      },
      "cell_type": "code",
      "source": [
        "res=test\n",
        "res[\"gboost_preds\"]=gradient.predict(predictors_test)"
      ],
      "execution_count": 0,
      "outputs": []
    },
    {
      "metadata": {
        "id": "Mg4-_lqcKgOH",
        "colab_type": "code",
        "colab": {}
      },
      "cell_type": "code",
      "source": [
        "mae_gboost=mean_absolute_error(np.expm1(test[\"TARGET\"]),np.expm1(res[\"gboost_preds\"]))\n",
        "# mae_gboost=mean_absolute_error(to_predict[\"TARGET\"],to_predict[\"gboost_preds\"])"
      ],
      "execution_count": 0,
      "outputs": []
    },
    {
      "metadata": {
        "id": "dGREzPruo5nE",
        "colab_type": "text"
      },
      "cell_type": "markdown",
      "source": [
        "# RESULTADO (SCORE)"
      ]
    },
    {
      "metadata": {
        "id": "Jle6k3hr9KqP",
        "colab_type": "text"
      },
      "cell_type": "markdown",
      "source": [
        "#### MAE de los clasificadores"
      ]
    },
    {
      "metadata": {
        "id": "aTabtTdx9HhO",
        "colab_type": "code",
        "colab": {}
      },
      "cell_type": "code",
      "source": [
        "# df_res_classifiers = pd.DataFrame({'mae_rforest': [mae_rforest], 'mae_regtree': [mae_regtree],'mae_gboost':[mae_gboost]})\n",
        "# df_res_classifiers = pd.DataFrame({'mae_regtree': [mae_regtree],'mae_gboost':[mae_gboost]})\n",
        "mae_gboost\n",
        "# df_res_classifiers"
      ],
      "execution_count": 0,
      "outputs": []
    },
    {
      "metadata": {
        "id": "ez-CVUburF01",
        "colab_type": "text"
      },
      "cell_type": "markdown",
      "source": [
        "#### Fichero final"
      ]
    },
    {
      "metadata": {
        "id": "1n62Y2jJsoxd",
        "colab_type": "code",
        "colab": {}
      },
      "cell_type": "code",
      "source": [
        "# test[\"HY_id\"]=df_model[\"HY_id\"]\n",
        "# test= test[[\"HY_id\",\"regtree_preds\"]]\n",
        "# test= test.rename(columns={\"regtree_preds\":\"TM_Est\"})\n",
        "# test.to_csv(r'Minsait_UJI_Math.random()_1.txt', header=True, index=None, sep='|', mode='w')\n",
        "# df=pd.read_csv('Minsait_UJI_Math.random()_1.txt', sep=\"|\")"
      ],
      "execution_count": 0,
      "outputs": []
    },
    {
      "metadata": {
        "id": "lW8gAql82BtJ",
        "colab_type": "code",
        "colab": {}
      },
      "cell_type": "code",
      "source": [
        "# df.head()\n",
        "\n",
        "# df.shape"
      ],
      "execution_count": 0,
      "outputs": []
    }
  ]
}