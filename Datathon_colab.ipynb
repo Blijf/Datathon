{
  "nbformat": 4,
  "nbformat_minor": 0,
  "metadata": {
    "colab": {
      "name": "Datathon_colab.ipynb",
      "version": "0.3.2",
      "provenance": [],
      "collapsed_sections": [
        "C_UD03_xo5mg",
        "Pmb7IAtKo5ml",
        "hJbpr7Fx0koD",
        "ywSnJCqsKZFR",
        "EYxhtAbE3bJd",
        "CE6nTWt2KO_-",
        "2_5Ppj1o01X5",
        "66lJjA90eTTC",
        "G7uzDiUzKjMh",
        "f_8RsxDFYkgu",
        "xRe5Jegu-kon",
        "hRCH_4l__uTr",
        "adofHwB52Zrx",
        "jqjyay1W6zBY",
        "oa3Rr20HASV9",
        "kxH_t0avE-dr",
        "whjGq9--E5i5",
        "LZRYysl_Z22-",
        "xki2584gchvF",
        "J4QFO25zdRea",
        "yOv605ZBo5nB",
        "okW2IaPGqG75",
        "ez-CVUburF01"
      ],
      "toc_visible": true,
      "include_colab_link": true
    },
    "kernelspec": {
      "display_name": "Python 3",
      "language": "python",
      "name": "python3"
    }
  },
  "cells": [
    {
      "cell_type": "markdown",
      "metadata": {
        "id": "view-in-github",
        "colab_type": "text"
      },
      "source": [
        "<a href=\"https://colab.research.google.com/github/Blijf/Datathon/blob/master/Datathon_colab.ipynb\" target=\"_parent\"><img src=\"https://colab.research.google.com/assets/colab-badge.svg\" alt=\"Open In Colab\"/></a>"
      ]
    },
    {
      "metadata": {
        "id": "N7Y6kdQjo5mL",
        "colab_type": "text"
      },
      "cell_type": "markdown",
      "source": [
        "# CARGA DE DATOS"
      ]
    },
    {
      "metadata": {
        "id": "o5AvrqGao5mN",
        "colab_type": "text"
      },
      "cell_type": "markdown",
      "source": [
        "#### Imports"
      ]
    },
    {
      "metadata": {
        "id": "k2pfIohmo5mO",
        "colab_type": "code",
        "colab": {}
      },
      "cell_type": "code",
      "source": [
        "# from google.colab import drive\n",
        "# drive.mount('/content/drive')\n",
        "#INTALL PACKAGES\n",
        "#!pip install category_encoders\n",
        "#IMPORTS\n",
        "import pandas as pd\n",
        "pd.set_option('display.max_columns', 500)\n",
        "pd.set_option('display.max_rows', 500)\n",
        "import matplotlib as mpl\n",
        "import matplotlib.pyplot as plt\n",
        "import seaborn as sns\n",
        "import numpy as np\n",
        "import random\n",
        "from sklearn.ensemble import RandomForestClassifier\n",
        "from sklearn.tree import DecisionTreeClassifier\n",
        "from sklearn.datasets import make_classification\n",
        "from sklearn.tree import DecisionTreeRegressor\n",
        "from sklearn.metrics import mean_absolute_error\n",
        "from sklearn.ensemble import RandomForestRegressor\n",
        "from sklearn.ensemble import GradientBoostingRegressor\n",
        "from pandas.plotting import scatter_matrix\n",
        "from sklearn.impute import SimpleImputer, MissingIndicator\n",
        "from sklearn.model_selection import train_test_split\n",
        "from sklearn.pipeline import FeatureUnion, make_pipeline\n",
        "from sklearn.tree import DecisionTreeClassifier\n",
        "from sklearn.multioutput import MultiOutputRegressor\n",
        "from sklearn.tree import export_graphviz\n",
        "from sklearn import preprocessing\n",
        "from sklearn import decomposition\n",
        "\n",
        "import os\n",
        "from graphviz import Source\n",
        "import plotly.plotly as py\n",
        "import cufflinks as cf\n"
      ],
      "execution_count": 0,
      "outputs": []
    },
    {
      "metadata": {
        "id": "H0YTH52sb0ji",
        "colab_type": "code",
        "colab": {}
      },
      "cell_type": "code",
      "source": [
        "# !ls \"/content/drive/My Drive\""
      ],
      "execution_count": 0,
      "outputs": []
    },
    {
      "metadata": {
        "id": "AQ6S_KO7CnlG",
        "colab_type": "code",
        "colab": {}
      },
      "cell_type": "code",
      "source": [
        "def histogramas(train):  \n",
        "  for col in train:\n",
        "\n",
        "    #regla de sturges \n",
        "    k=int(np.ceil(1+np.log2(len(train))))\n",
        "    plt.hist(train[col], bins= k)\n",
        "    plt.title(col)\n",
        "    plt.xlabel(\"Valores\")\n",
        "    plt.ylabel(\"Frecuencia\")\n",
        "    plt.show()\n",
        "    "
      ],
      "execution_count": 0,
      "outputs": []
    },
    {
      "metadata": {
        "id": "p6xluzPdo5mS",
        "colab_type": "text"
      },
      "cell_type": "markdown",
      "source": [
        "#### Lectura del dataset"
      ]
    },
    {
      "metadata": {
        "id": "jLm4dSEAo5mT",
        "colab_type": "code",
        "colab": {}
      },
      "cell_type": "code",
      "source": [
        "df_model=pd.read_csv('Modelar_UH2019.txt', sep=\"|\" )\n",
        "df_esti=pd.read_csv('Estimar_UH2019.txt', sep=\"|\")"
      ],
      "execution_count": 0,
      "outputs": []
    },
    {
      "metadata": {
        "id": "C_UD03_xo5mg",
        "colab_type": "text"
      },
      "cell_type": "markdown",
      "source": [
        "#### Combinación de ambos datasets en uno único"
      ]
    },
    {
      "metadata": {
        "id": "j1_2ib7Qo5mh",
        "colab_type": "text"
      },
      "cell_type": "markdown",
      "source": [
        "    Concatenamos ambos datasets, es decir, el de modelar y el de estimar en un conjunto único. De esta forma, tenemos un mayor número de datos a los que manejar."
      ]
    },
    {
      "metadata": {
        "id": "UkiPHUaUo5mi",
        "colab_type": "code",
        "colab": {}
      },
      "cell_type": "code",
      "source": [
        "#axis=0 (eje horizontal) y #axis=1 (eje vertical)\n",
        "#df_total= pd.concat([df_model, df_esti],axis=0) \n",
        "#df_total.shape\n",
        "#df_total.tail()"
      ],
      "execution_count": 0,
      "outputs": []
    },
    {
      "metadata": {
        "id": "Pmb7IAtKo5ml",
        "colab_type": "text"
      },
      "cell_type": "markdown",
      "source": [
        "# PRE-ANÁLISIS "
      ]
    },
    {
      "metadata": {
        "id": "8MBjZEAGo5mn",
        "colab_type": "text"
      },
      "cell_type": "markdown",
      "source": [
        "#### Observar la distribución que siguen los datos"
      ]
    },
    {
      "metadata": {
        "scrolled": false,
        "id": "GRtYVnbMo5mo",
        "colab_type": "code",
        "colab": {}
      },
      "cell_type": "code",
      "source": [
        "# df_model.describe()"
      ],
      "execution_count": 0,
      "outputs": []
    },
    {
      "metadata": {
        "id": "UQXvx26sGo8q",
        "colab_type": "text"
      },
      "cell_type": "markdown",
      "source": [
        "#EXTRACCIÓN DE CARACTERÍSTICAS\n"
      ]
    },
    {
      "metadata": {
        "id": "zyP6T_UEHBGQ",
        "colab_type": "text"
      },
      "cell_type": "markdown",
      "source": [
        "### Número de Fotografías"
      ]
    },
    {
      "metadata": {
        "id": "0MhtD7Y5t0CV",
        "colab_type": "text"
      },
      "cell_type": "markdown",
      "source": [
        "https://stackoverflow.com/questions/3678842/using-python-getting-the-name-of-files-in-a-zip-archive"
      ]
    },
    {
      "metadata": {
        "id": "_9ZlGiPrVifC",
        "colab_type": "code",
        "colab": {}
      },
      "cell_type": "code",
      "source": [
        "df_ims= pd.read_csv('imagenes.csv', sep=\"|\")"
      ],
      "execution_count": 0,
      "outputs": []
    },
    {
      "metadata": {
        "id": "PqikHkfwWu_d",
        "colab_type": "code",
        "colab": {}
      },
      "cell_type": "code",
      "source": [
        "# pd.value_counts(df_ims['HY_id'].values,sort=False)\n",
        "# index, counts = np.unique(df_ims['HY_id'].values,return_counts=True)"
      ],
      "execution_count": 0,
      "outputs": []
    },
    {
      "metadata": {
        "id": "VG80FifygBfL",
        "colab_type": "code",
        "colab": {}
      },
      "cell_type": "code",
      "source": [
        "# df=pd.DataFrame({'HY_id':index,'counts':counts})"
      ],
      "execution_count": 0,
      "outputs": []
    },
    {
      "metadata": {
        "id": "FBE4CelOrP6x",
        "colab_type": "code",
        "colab": {}
      },
      "cell_type": "code",
      "source": [
        "def countImg(row):\n",
        "  row['Num_imgs'] =df_ims[df_ims['HY_id'] == row['HY_id'] ]['HY_id'].count()\n",
        "  return row"
      ],
      "execution_count": 0,
      "outputs": []
    },
    {
      "metadata": {
        "id": "cOCvrU7IgmYF",
        "colab_type": "code",
        "colab": {}
      },
      "cell_type": "code",
      "source": [
        "df_model=df_model.apply(countImg,axis=1)"
      ],
      "execution_count": 0,
      "outputs": []
    },
    {
      "metadata": {
        "id": "HgGXnpE3G56-",
        "colab_type": "text"
      },
      "cell_type": "markdown",
      "source": [
        "### Descripción "
      ]
    },
    {
      "metadata": {
        "id": "hJbpr7Fx0koD",
        "colab_type": "text"
      },
      "cell_type": "markdown",
      "source": [
        "### Rebaja"
      ]
    },
    {
      "metadata": {
        "id": "x65tY0z5NOGR",
        "colab_type": "code",
        "colab": {}
      },
      "cell_type": "code",
      "source": [
        "df_model['Rebaja'] = abs(df_model['HY_precio_anterior']-df_model['HY_precio'])"
      ],
      "execution_count": 0,
      "outputs": []
    },
    {
      "metadata": {
        "id": "I5A-cFrlo5m6",
        "colab_type": "text"
      },
      "cell_type": "markdown",
      "source": [
        "# PRE-PROCESSING"
      ]
    },
    {
      "metadata": {
        "id": "5jMk537t72e2",
        "colab_type": "text"
      },
      "cell_type": "markdown",
      "source": [
        " https://scikit-learn.org/stable/modules/preprocessing.html"
      ]
    },
    {
      "metadata": {
        "id": "Ab3uNEuKo5mr",
        "colab_type": "text"
      },
      "cell_type": "markdown",
      "source": [
        "#### Crear un subconjunto donde no existen las categorías redundantes"
      ]
    },
    {
      "metadata": {
        "id": "g_RZyIYho5mt",
        "colab_type": "code",
        "colab": {}
      },
      "cell_type": "code",
      "source": [
        "noDesired_columns= [\"HY_id\",\"HY_provincia\",\"HY_descripcion\",\"HY_distribucion\"]\n",
        "\n",
        "def no_desired_columns(df,noDesired_columns ):\n",
        "  total_columns= df.columns.values.tolist()\n",
        "\n",
        "  sublist= [i for i in total_columns  if i not in noDesired_columns] # selecciona las columnas que no son las indicadas en noDesired_columns\n",
        "  res_model = df[sublist]\n",
        "  return res_model\n",
        "\n",
        "s_df_model=no_desired_columns(df_model,noDesired_columns)"
      ],
      "execution_count": 0,
      "outputs": []
    },
    {
      "metadata": {
        "id": "ywSnJCqsKZFR",
        "colab_type": "text"
      },
      "cell_type": "markdown",
      "source": [
        "#### Comprobar si hay duplicados"
      ]
    },
    {
      "metadata": {
        "id": "2dP8UdlRK9rl",
        "colab_type": "code",
        "colab": {}
      },
      "cell_type": "code",
      "source": [
        "# df_duplicated= no_desired_columns(s_df_model,[\"TARGET\"])\n",
        "# df_duplicated.loc[df_duplicated.duplicated,:]"
      ],
      "execution_count": 0,
      "outputs": []
    },
    {
      "metadata": {
        "id": "3y9ehgqKN-8m",
        "colab_type": "code",
        "colab": {}
      },
      "cell_type": "code",
      "source": [
        "# df_duplicated.duplicated().sum()"
      ],
      "execution_count": 0,
      "outputs": []
    },
    {
      "metadata": {
        "id": "ItHCbwDSOXwc",
        "colab_type": "code",
        "colab": {}
      },
      "cell_type": "code",
      "source": [
        "# s_df_model=df_duplicated.drop_duplicates(keep=False)"
      ],
      "execution_count": 0,
      "outputs": []
    },
    {
      "metadata": {
        "id": "EYxhtAbE3bJd",
        "colab_type": "text"
      },
      "cell_type": "markdown",
      "source": [
        "#### Transformamos las categorias nominales a númericas"
      ]
    },
    {
      "metadata": {
        "id": "yhMDc_7u3la6",
        "colab_type": "text"
      },
      "cell_type": "markdown",
      "source": [
        "De esta forma se podra utilizar a posteriori los arboles de decisión en la clasificación (https://pbpython.com/categorical-encoding.html)"
      ]
    },
    {
      "metadata": {
        "id": "intOMzfa7G2b",
        "colab_type": "text"
      },
      "cell_type": "markdown",
      "source": [
        "Obervamos las categorias de tipo nominal o object"
      ]
    },
    {
      "metadata": {
        "id": "Wnw_u95q3ta7",
        "colab_type": "code",
        "outputId": "e85246fa-b48a-426d-c4d0-231d04f5b1dc",
        "colab": {
          "base_uri": "https://localhost:8080/",
          "height": 55
        }
      },
      "cell_type": "code",
      "source": [
        "obj_df= s_df_model.select_dtypes(include=['object']).columns.tolist()\n",
        "obj_df\n",
        "#En el siguiente paso de missins eliminamos HY_cert_energ debido a la gran cantidad de nulls"
      ],
      "execution_count": 0,
      "outputs": [
        {
          "output_type": "execute_result",
          "data": {
            "text/plain": [
              "['HY_tipo', 'HY_cert_energ']"
            ]
          },
          "metadata": {
            "tags": []
          },
          "execution_count": 499
        }
      ]
    },
    {
      "metadata": {
        "id": "epfeGFYWN7hL",
        "colab_type": "text"
      },
      "cell_type": "markdown",
      "source": [
        "##### Tipo"
      ]
    },
    {
      "metadata": {
        "id": "iHwZ7ibg3tg3",
        "colab_type": "code",
        "outputId": "7b7e6bd1-8396-4900-dcae-acd6a115b065",
        "colab": {
          "base_uri": "https://localhost:8080/",
          "height": 419
        }
      },
      "cell_type": "code",
      "source": [
        "s_df_model[\"HY_tipo\"].value_counts()"
      ],
      "execution_count": 0,
      "outputs": [
        {
          "output_type": "execute_result",
          "data": {
            "text/plain": [
              "Piso                            4182\n",
              "Garaje                          2761\n",
              "Local                            827\n",
              "Casa de pueblo                   557\n",
              "Chalet adosado                   433\n",
              "Trastero                         282\n",
              "Chalet independiente             209\n",
              "Solar                            198\n",
              "Dúplex                           184\n",
              "Nave adosada                     130\n",
              "Oficina                          103\n",
              "Nave aislada                      38\n",
              "Edificio turístico                17\n",
              "Otro                              12\n",
              "Chalet pareado                     9\n",
              "Ático                              8\n",
              "Almacén                            3\n",
              "Suelo rústico no urbanizable       2\n",
              "Edificio comercial                 2\n",
              "Aparcamiento                       1\n",
              "Name: HY_tipo, dtype: int64"
            ]
          },
          "metadata": {
            "tags": []
          },
          "execution_count": 500
        }
      ]
    },
    {
      "metadata": {
        "id": "HHXihsJBGRl0",
        "colab_type": "text"
      },
      "cell_type": "markdown",
      "source": [
        "Label Encoding\n",
        "\n",
        "\n",
        "\n",
        "*   Pasamos a categoria los valores nominales(HY_tipo y HY_cert_energ)\n",
        "\n",
        "\n",
        "\n",
        "\n"
      ]
    },
    {
      "metadata": {
        "id": "OZyORZb1PL4q",
        "colab_type": "code",
        "colab": {}
      },
      "cell_type": "code",
      "source": [
        "lb_make=preprocessing.LabelEncoder()\n",
        "s_df_model['HY_tipo']=lb_make.fit_transform(s_df_model[\"HY_tipo\"])"
      ],
      "execution_count": 0,
      "outputs": []
    },
    {
      "metadata": {
        "id": "_SNLb9BhH5UL",
        "colab_type": "code",
        "outputId": "d0c77c86-7107-474f-d8d7-67f1b982b898",
        "colab": {
          "base_uri": "https://localhost:8080/",
          "height": 419
        }
      },
      "cell_type": "code",
      "source": [
        "s_df_model[\"HY_tipo\"].value_counts()"
      ],
      "execution_count": 0,
      "outputs": [
        {
          "output_type": "execute_result",
          "data": {
            "text/plain": [
              "15    4182\n",
              "9     2761\n",
              "10     827\n",
              "2      557\n",
              "3      433\n",
              "18     282\n",
              "4      209\n",
              "16     198\n",
              "6      184\n",
              "11     130\n",
              "13     103\n",
              "12      38\n",
              "8       17\n",
              "14      12\n",
              "5        9\n",
              "19       8\n",
              "0        3\n",
              "7        2\n",
              "17       2\n",
              "1        1\n",
              "Name: HY_tipo, dtype: int64"
            ]
          },
          "metadata": {
            "tags": []
          },
          "execution_count": 502
        }
      ]
    },
    {
      "metadata": {
        "id": "CE6nTWt2KO_-",
        "colab_type": "text"
      },
      "cell_type": "markdown",
      "source": [
        "##### Scaling with outlayers"
      ]
    },
    {
      "metadata": {
        "id": "IGEWpUMfB3wq",
        "colab_type": "code",
        "colab": {}
      },
      "cell_type": "code",
      "source": [
        "# robust_scaler= RobustScaler()\n",
        "# robust_scaled_df = robust_scaler.fit_transform(s_df_model['HY_metros_utiles'])\n",
        "# s_df_model['HY_metros_utiles_scale'] = pd.DataFrame(robust_scaled_df, columns=s_df_model['HY_metros_utiles'])"
      ],
      "execution_count": 0,
      "outputs": []
    },
    {
      "metadata": {
        "id": "S4WE0v0So5m0",
        "colab_type": "text"
      },
      "cell_type": "markdown",
      "source": [
        "### Missing values \n"
      ]
    },
    {
      "metadata": {
        "id": "fh2RNoeJS3SZ",
        "colab_type": "text"
      },
      "cell_type": "markdown",
      "source": [
        "https://towardsdatascience.com/the-tale-of-missing-values-in-python-c96beb0e8a9d\n",
        "https://scikit-learn.org/stable/modules/impute.html\n",
        "https://scikit-learn.org/stable/modules/impute.html\n"
      ]
    },
    {
      "metadata": {
        "id": "2_5Ppj1o01X5",
        "colab_type": "text"
      },
      "cell_type": "markdown",
      "source": [
        "##### Cantidad de null y eliminación de columns"
      ]
    },
    {
      "metadata": {
        "id": "51Nx7YL2ONu-",
        "colab_type": "code",
        "outputId": "6604768e-5292-45a4-bb40-9e8fb2eff5c4",
        "colab": {
          "base_uri": "https://localhost:8080/",
          "height": 983
        }
      },
      "cell_type": "code",
      "source": [
        "s_df_model.isna().sum()"
      ],
      "execution_count": 0,
      "outputs": [
        {
          "output_type": "execute_result",
          "data": {
            "text/plain": [
              "HY_cod_postal                         0\n",
              "HY_tipo                               0\n",
              "HY_antiguedad                      5484\n",
              "HY_metros_utiles                   2886\n",
              "HY_metros_totales                    34\n",
              "HY_num_banos                          0\n",
              "HY_cert_energ                      8300\n",
              "HY_num_terrazas                       0\n",
              "HY_ascensor                           0\n",
              "HY_trastero                           0\n",
              "HY_num_garajes                        0\n",
              "HY_precio                             0\n",
              "HY_precio_anterior                 3158\n",
              "IDEA_area                          2631\n",
              "IDEA_poblacion                     2635\n",
              "IDEA_densidad                      2635\n",
              "IDEA_pc_1960                       2710\n",
              "IDEA_pc_1960_69                    2710\n",
              "IDEA_pc_1970_79                    2710\n",
              "IDEA_pc_1980_89                    2710\n",
              "IDEA_pc_1990_99                    2710\n",
              "IDEA_pc_2000_10                    2710\n",
              "IDEA_pc_comercio                   2710\n",
              "IDEA_pc_industria                  2710\n",
              "IDEA_pc_oficina                    2710\n",
              "IDEA_pc_otros                      2710\n",
              "IDEA_pc_residencial                2710\n",
              "IDEA_pc_trast_parking              2710\n",
              "IDEA_ind_tienda                    2717\n",
              "IDEA_ind_turismo                   2717\n",
              "IDEA_ind_alimentacion              2717\n",
              "IDEA_ind_riqueza                   2631\n",
              "IDEA_rent_alquiler                 3062\n",
              "IDEA_ind_elasticidad               5106\n",
              "IDEA_ind_liquidez                  5106\n",
              "IDEA_unitprice_sale_residential    2635\n",
              "IDEA_price_sale_residential        2635\n",
              "IDEA_stock_sale_residential        2635\n",
              "IDEA_demand_sale_residential       2635\n",
              "IDEA_unitprice_rent_residential    2998\n",
              "IDEA_price_rent_residential        2998\n",
              "IDEA_stock_rent_residential        2998\n",
              "IDEA_demand_rent_residential       2635\n",
              "GA_page_views                         0\n",
              "GA_mean_bounce                        0\n",
              "GA_exit_rate                          0\n",
              "GA_quincena_ini                       0\n",
              "GA_quincena_ult                       0\n",
              "TARGET                                0\n",
              "Num_imgs                              0\n",
              "Rebaja                             3158\n",
              "dtype: int64"
            ]
          },
          "metadata": {
            "tags": []
          },
          "execution_count": 504
        }
      ]
    },
    {
      "metadata": {
        "id": "QyhfRXNhvscg",
        "colab_type": "text"
      },
      "cell_type": "markdown",
      "source": [
        "Eliminamos el certificado de energia debido a la gran cantidad de nulls"
      ]
    },
    {
      "metadata": {
        "id": "p9556oKxvpXw",
        "colab_type": "code",
        "colab": {}
      },
      "cell_type": "code",
      "source": [
        "s_df_model=s_df_model.drop(['HY_cert_energ'],axis=1)"
      ],
      "execution_count": 0,
      "outputs": []
    },
    {
      "metadata": {
        "id": "B_yBuyjvoJ-j",
        "colab_type": "text"
      },
      "cell_type": "markdown",
      "source": [
        "#### Predición y relleno de nulls (https://stackoverflow.com/questions/40996051/predict-na-missing-values-with-machine-learning)"
      ]
    },
    {
      "metadata": {
        "id": "mQqeuw92xs5J",
        "colab_type": "text"
      },
      "cell_type": "markdown",
      "source": [
        "Nos quedamos con el dataframe sin nulls"
      ]
    },
    {
      "metadata": {
        "colab_type": "code",
        "id": "S8qM57-pgL1G",
        "colab": {}
      },
      "cell_type": "code",
      "source": [
        "\n",
        "nulls_columns=s_df_model.columns[s_df_model.isna().any()]\n",
        "\n",
        "for i in nulls_columns: \n",
        "  target_column=i\n",
        "  index_of_target = s_df_model.columns.get_loc(target_column)\n",
        "  #Separamos en notNans y nans\n",
        "  notnans= s_df_model.notnull().all(axis=1)\n",
        "  df_notnans= s_df_model[notnans]\n",
        "  df_nans= s_df_model.loc[~notnans]\n",
        "  df_nans=no_desired_columns(df_nans,target_column)\n",
        "\n",
        "  #Rellenamos los nans con la media\n",
        "  df_nans=df_nans.fillna(0)\n",
        "\n",
        "  #Objetivo y predcitores para el clasificador\n",
        "  predictors=no_desired_columns(df_notnans,target_column)\n",
        "  target=df_notnans[target_column]\n",
        "\n",
        "  #Clasificador\n",
        "  reg= DecisionTreeRegressor(min_samples_split=10,min_samples_leaf=1,random_state=None)\n",
        "#   reg= RandomForestRegressor(n_jobs=2,n_estimators=500)\n",
        "#   reg= GradientBoostingRegressor(n_estimators=100, max_depth=4,min_samples_split=2,learning_rate=0.01)\n",
        "  reg.fit(predictors,target)\n",
        "\n",
        "\n",
        "  #Predicción\n",
        "  to_predict= df_nans\n",
        "  name_pred_column=target_column\n",
        "  to_predict[name_pred_column]= reg.predict(to_predict)\n",
        "  \n"
      ],
      "execution_count": 0,
      "outputs": []
    },
    {
      "metadata": {
        "id": "xMw_CZSv0A1h",
        "colab_type": "code",
        "colab": {}
      },
      "cell_type": "code",
      "source": [
        "#Concatenamos el df predecido y el original sin nans\n",
        "s_df_model=pd.concat([df_notnans, to_predict],axis=0) "
      ],
      "execution_count": 0,
      "outputs": []
    },
    {
      "metadata": {
        "id": "sDsGsazfceqf",
        "colab_type": "code",
        "colab": {}
      },
      "cell_type": "code",
      "source": [
        "#s_df_model['TARGET']=s_df_model['TARGET'].fillna(-1)#en ele caso de que cojamos la parte de estimación también"
      ],
      "execution_count": 0,
      "outputs": []
    },
    {
      "metadata": {
        "id": "TICJEKZw0rTf",
        "colab_type": "text"
      },
      "cell_type": "markdown",
      "source": [
        "##### Comprobación"
      ]
    },
    {
      "metadata": {
        "id": "pJbB04xoSKRn",
        "colab_type": "code",
        "outputId": "5f8e26cd-a41b-4d5f-f392-d4f596a0ebac",
        "colab": {
          "base_uri": "https://localhost:8080/",
          "height": 35
        }
      },
      "cell_type": "code",
      "source": [
        "np.isnan(s_df_model.any()).sum() "
      ],
      "execution_count": 0,
      "outputs": [
        {
          "output_type": "execute_result",
          "data": {
            "text/plain": [
              "0"
            ]
          },
          "metadata": {
            "tags": []
          },
          "execution_count": 509
        }
      ]
    },
    {
      "metadata": {
        "id": "SftAPYx6eAbm",
        "colab_type": "code",
        "outputId": "362a9fa9-c794-4a18-9ba6-f94f58bcbebe",
        "colab": {
          "base_uri": "https://localhost:8080/",
          "height": 35
        }
      },
      "cell_type": "code",
      "source": [
        "np.isinf(s_df_model.all()).sum()"
      ],
      "execution_count": 0,
      "outputs": [
        {
          "output_type": "execute_result",
          "data": {
            "text/plain": [
              "0"
            ]
          },
          "metadata": {
            "tags": []
          },
          "execution_count": 510
        }
      ]
    },
    {
      "metadata": {
        "id": "fCf_uOYPJtW5",
        "colab_type": "text"
      },
      "cell_type": "markdown",
      "source": [
        "https://scikit-learn.org/stable/auto_examples/compose/plot_transformed_target.html#sphx-glr-auto-examples-compose-plot-transformed-target-py"
      ]
    },
    {
      "metadata": {
        "id": "Qy2UlkPM_BXC",
        "colab_type": "code",
        "colab": {}
      },
      "cell_type": "code",
      "source": [
        "# rng = np.random.RandomState(0)\n",
        "# s_df_model[\"\"]= np.sort(rng.normal(loc=0.5, scale=0.25, size=(25, 1)), axis=0)\n",
        "# qt = QuantileTransformer(n_quantiles=10, random_state=0,output_distribution='normal')\n",
        "# qt.fit_transform(s_df_model) "
      ],
      "execution_count": 0,
      "outputs": []
    },
    {
      "metadata": {
        "id": "aadWqrczkVjz",
        "colab_type": "text"
      },
      "cell_type": "markdown",
      "source": [
        "### Normalización"
      ]
    },
    {
      "metadata": {
        "id": "7mwQ3xsify7G",
        "colab_type": "text"
      },
      "cell_type": "markdown",
      "source": [
        "https://scikit-learn.org/stable/auto_examples/preprocessing/plot_all_scaling.html#sphx-glr-auto-examples-preprocessing-plot-all-scaling-py"
      ]
    },
    {
      "metadata": {
        "id": "66lJjA90eTTC",
        "colab_type": "text"
      },
      "cell_type": "markdown",
      "source": [
        "##### Outlayers"
      ]
    },
    {
      "metadata": {
        "id": "AU3K2URHf8g5",
        "colab_type": "code",
        "colab": {}
      },
      "cell_type": "code",
      "source": [
        "columns=['HY_metros_utiles','HY_metros_totales','GA_page_views','GA_quincena_ult','HY_precio','HY_precio_anterior',\n",
        "          'IDEA_area','IDEA_densidad','IDEA_price_sale_residential','IDEA_price_rent_residential','Rebaja']\n",
        "# columns=['HY_metros_utiles','HY_metros_totales','GA_page_views']"
      ],
      "execution_count": 0,
      "outputs": []
    },
    {
      "metadata": {
        "id": "384tWzKZR4pB",
        "colab_type": "code",
        "colab": {}
      },
      "cell_type": "code",
      "source": [
        "scaler = preprocessing.RobustScaler()\n",
        "# scaler = preprocessing.MinMaxScaler()\n",
        "\n",
        "s_df_model[columns] = scaler.fit_transform(s_df_model[columns])"
      ],
      "execution_count": 0,
      "outputs": []
    },
    {
      "metadata": {
        "id": "llE92FhQcnKo",
        "colab_type": "code",
        "colab": {}
      },
      "cell_type": "code",
      "source": [
        "uniform_distr = preprocessing.QuantileTransformer(output_distribution='normal', random_state=0)\n",
        "s_df_model[columns] = uniform_distr.fit_transform(s_df_model[columns])"
      ],
      "execution_count": 0,
      "outputs": []
    },
    {
      "metadata": {
        "id": "Z9NVAIgbb_wH",
        "colab_type": "code",
        "colab": {}
      },
      "cell_type": "code",
      "source": [
        "scalerNorm = preprocessing.Normalizer()\n",
        "s_df_model[columns] = scalerNorm.fit_transform(s_df_model[columns])"
      ],
      "execution_count": 0,
      "outputs": []
    },
    {
      "metadata": {
        "id": "X_hZH3a4d_Dr",
        "colab_type": "code",
        "colab": {}
      },
      "cell_type": "code",
      "source": [
        "# histogramas(s_df_model[columns])"
      ],
      "execution_count": 0,
      "outputs": []
    },
    {
      "metadata": {
        "colab_type": "text",
        "id": "G7uzDiUzKjMh"
      },
      "cell_type": "markdown",
      "source": [
        "##### Uniform Distribution"
      ]
    },
    {
      "metadata": {
        "id": "AgNp02cPK2H_",
        "colab_type": "code",
        "colab": {}
      },
      "cell_type": "code",
      "source": [
        "desired_columns= no_desired_columns(s_df_model,columns)"
      ],
      "execution_count": 0,
      "outputs": []
    },
    {
      "metadata": {
        "id": "u0eSldONLD15",
        "colab_type": "code",
        "colab": {}
      },
      "cell_type": "code",
      "source": [
        "uni_columns=['GA_exit_rate','GA_mean_bounce','GA_quincena_ini','HY_cod_postal','IDEA_demand_sale_residential',\n",
        "             'IDEA_ind_alimentacion', 'IDEA_ind_elasticidad', 'IDEA_ind_liquidez',\n",
        "             'IDEA_ind_riqueza', 'IDEA_ind_tienda', 'IDEA_ind_turismo',\n",
        "             'IDEA_pc_1960', 'IDEA_pc_1960_69', 'IDEA_pc_1970_79', 'IDEA_pc_1980_89',\n",
        "             'IDEA_pc_1990_99', 'IDEA_pc_2000_10', 'IDEA_pc_comercio',\n",
        "             'IDEA_pc_industria', 'IDEA_pc_oficina', 'IDEA_pc_otros','IDEA_poblacion',\n",
        "             'IDEA_rent_alquiler', 'IDEA_stock_rent_residential',\n",
        "             'IDEA_stock_sale_residential', 'IDEA_unitprice_rent_residential',\n",
        "             'IDEA_unitprice_sale_residential']"
      ],
      "execution_count": 0,
      "outputs": []
    },
    {
      "metadata": {
        "colab_type": "code",
        "id": "Jak9gPxLRHA5",
        "colab": {}
      },
      "cell_type": "code",
      "source": [
        "uniform_distr = preprocessing.QuantileTransformer(output_distribution='normal', random_state=0)\n",
        "s_df_model[uni_columns] = uniform_distr.fit_transform(s_df_model[uni_columns])"
      ],
      "execution_count": 0,
      "outputs": []
    },
    {
      "metadata": {
        "colab_type": "code",
        "id": "u_SIeDTJKjMt",
        "colab": {}
      },
      "cell_type": "code",
      "source": [
        "scalerNorm = preprocessing.Normalizer()\n",
        "s_df_model[uni_columns] = scalerNorm.fit_transform(s_df_model[uni_columns])"
      ],
      "execution_count": 0,
      "outputs": []
    },
    {
      "metadata": {
        "id": "f_8RsxDFYkgu",
        "colab_type": "text"
      },
      "cell_type": "markdown",
      "source": [
        "##### Target"
      ]
    },
    {
      "metadata": {
        "id": "Pv0Q4e2QZBTl",
        "colab_type": "text"
      },
      "cell_type": "markdown",
      "source": [
        "Realizamos el ln del Target para acercarnos a  la distribución normal\n"
      ]
    },
    {
      "metadata": {
        "id": "k00YPqJpX2aq",
        "colab_type": "code",
        "colab": {}
      },
      "cell_type": "code",
      "source": [
        "s_df_model['TARGET']=np.log1p(s_df_model['TARGET'])"
      ],
      "execution_count": 0,
      "outputs": []
    },
    {
      "metadata": {
        "id": "xRe5Jegu-kon",
        "colab_type": "text"
      },
      "cell_type": "markdown",
      "source": [
        "##### OneHotEncoder"
      ]
    },
    {
      "metadata": {
        "id": "dyp1JVTA-fi7",
        "colab_type": "code",
        "colab": {}
      },
      "cell_type": "code",
      "source": [
        "# enc=OneHotEncoder(handle_unknown='ignore')\n",
        "# enc.fit_transform(s_df_model)"
      ],
      "execution_count": 0,
      "outputs": []
    },
    {
      "metadata": {
        "id": "NZKSzv1SMqhF",
        "colab_type": "text"
      },
      "cell_type": "markdown",
      "source": [
        "##### Norm"
      ]
    },
    {
      "metadata": {
        "id": "P28oqiwdsh9-",
        "colab_type": "code",
        "colab": {}
      },
      "cell_type": "code",
      "source": [
        "norm_columns= ['HY_antiguedad','HY_num_banos', 'HY_num_garajes','HY_num_terrazas','HY_tipo','IDEA_demand_rent_residential','Num_imgs'\t ]"
      ],
      "execution_count": 0,
      "outputs": []
    },
    {
      "metadata": {
        "id": "kh1ZdNVmMhjj",
        "colab_type": "code",
        "colab": {}
      },
      "cell_type": "code",
      "source": [
        "scalerNorm = preprocessing.Normalizer()\n",
        "s_df_model[norm_columns] = scalerNorm.fit_transform(s_df_model[norm_columns])"
      ],
      "execution_count": 0,
      "outputs": []
    },
    {
      "metadata": {
        "id": "hRCH_4l__uTr",
        "colab_type": "text"
      },
      "cell_type": "markdown",
      "source": [
        "### PCA"
      ]
    },
    {
      "metadata": {
        "id": "adofHwB52Zrx",
        "colab_type": "text"
      },
      "cell_type": "markdown",
      "source": [
        "#### Atento"
      ]
    },
    {
      "metadata": {
        "id": "YGO0L2q-1-m4",
        "colab_type": "code",
        "colab": {}
      },
      "cell_type": "code",
      "source": [
        "# columns_atento=['GA_exit_rate','GA_mean_bounce','GA_page_views']\n",
        "columns_atento=['GA_exit_rate','GA_mean_bounce']\n",
        "\n",
        "pca= decomposition.PCA(n_components=1)\n",
        "s_df_model['Atento']= pca.fit_transform(s_df_model[columns_atento])\n",
        "s_df_model=s_df_model.drop(columns_atento,axis=1)"
      ],
      "execution_count": 0,
      "outputs": []
    },
    {
      "metadata": {
        "id": "jqjyay1W6zBY",
        "colab_type": "text"
      },
      "cell_type": "markdown",
      "source": [
        "#### Urbanizado"
      ]
    },
    {
      "metadata": {
        "id": "2Bm2D-1S6yD8",
        "colab_type": "code",
        "colab": {}
      },
      "cell_type": "code",
      "source": [
        "columns_urb=['IDEA_pc_otros','IDEA_pc_residencial','IDEA_pc_trast_parking','IDEA_poblacion','IDEA_price_rent_residential','IDEA_price_sale_residential',\n",
        "              'IDEA_unitprice_rent_residential','IDEA_unitprice_sale_residential']\n",
        "pca= decomposition.PCA(n_components=1)\n",
        "s_df_model['Urbanizado']= pca.fit_transform(s_df_model[columns_urb])\n",
        "s_df_model=s_df_model.drop(columns_urb,axis=1)"
      ],
      "execution_count": 0,
      "outputs": []
    },
    {
      "metadata": {
        "id": "oa3Rr20HASV9",
        "colab_type": "text"
      },
      "cell_type": "markdown",
      "source": [
        "#### Viejo"
      ]
    },
    {
      "metadata": {
        "colab_type": "code",
        "id": "GuJ89Y4GAWE0",
        "colab": {}
      },
      "cell_type": "code",
      "source": [
        "# columns_viejo=['IDEA_pc_1960','IDEA_pc_1960_69','IDEA_pc_1970_79','IDEA_pc_1980_89','IDEA_pc_1990_99','IDEA_pc_2000_10']\n",
        "# pca= decomposition.PCA(n_components=1)\n",
        "# s_df_model['Viejo']= pca.fit_transform(s_df_model[columns_viejo])\n",
        "# s_df_model=s_df_model.drop(columns_viejo,axis=1)"
      ],
      "execution_count": 0,
      "outputs": []
    },
    {
      "metadata": {
        "id": "NsnNc2qwS-61",
        "colab_type": "text"
      },
      "cell_type": "markdown",
      "source": [
        "### Category Encoding (http://contrib.scikit-learn.org/categorical-encoding/helmert.html, https://scikit-learn.org/stable/modules/classes.html#module-sklearn.preprocessing)"
      ]
    },
    {
      "metadata": {
        "id": "kxH_t0avE-dr",
        "colab_type": "text"
      },
      "cell_type": "markdown",
      "source": [
        "#### General"
      ]
    },
    {
      "metadata": {
        "id": "_9CpNLuuTgxU",
        "colab_type": "code",
        "colab": {}
      },
      "cell_type": "code",
      "source": [
        "no_desired=['HY_metros_utiles','HY_metros_totales','GA_page_views','GA_quincena_ult','HY_precio','HY_precio_anterior',\n",
        "          'IDEA_area','IDEA_densidad','IDEA_price_sale_residential','IDEA_price_rent_residential',\n",
        "            'GA_exit_rate','GA_mean_bounce','GA_quincena_ini','HY_cod_postal','IDEA_demand_sale_residential',\n",
        "             'IDEA_ind_alimentacion', 'IDEA_ind_elasticidad', 'IDEA_ind_liquidez',\n",
        "             'IDEA_ind_riqueza', 'IDEA_ind_tienda', 'IDEA_ind_turismo',\n",
        "             'IDEA_pc_1960', 'IDEA_pc_1960_69', 'IDEA_pc_1970_79', 'IDEA_pc_1980_89',\n",
        "             'IDEA_pc_1990_99', 'IDEA_pc_2000_10', 'IDEA_pc_comercio',\n",
        "             'IDEA_pc_industria', 'IDEA_pc_oficina', 'IDEA_pc_otros','IDEA_poblacion',\n",
        "             'IDEA_rent_alquiler', 'IDEA_stock_rent_residential',\n",
        "             'IDEA_stock_sale_residential', 'IDEA_unitprice_rent_residential',\n",
        "             'IDEA_unitprice_sale_residential']\n",
        "category_features=no_desired_columns(s_df_model,no_desired)"
      ],
      "execution_count": 0,
      "outputs": []
    },
    {
      "metadata": {
        "id": "aR9Cjp-3T_AY",
        "colab_type": "code",
        "outputId": "11c784df-12f3-4549-9ddf-914fda1025dc",
        "colab": {
          "base_uri": "https://localhost:8080/",
          "height": 128
        }
      },
      "cell_type": "code",
      "source": [
        "category_features.columns"
      ],
      "execution_count": 0,
      "outputs": [
        {
          "output_type": "execute_result",
          "data": {
            "text/plain": [
              "Index(['HY_tipo', 'HY_antiguedad', 'HY_num_banos', 'HY_num_terrazas',\n",
              "       'HY_ascensor', 'HY_trastero', 'HY_num_garajes',\n",
              "       'IDEA_demand_rent_residential', 'TARGET', 'Num_imgs', 'Rebaja',\n",
              "       'Atento', 'Urbanizado'],\n",
              "      dtype='object')"
            ]
          },
          "metadata": {
            "tags": []
          },
          "execution_count": 529
        }
      ]
    },
    {
      "metadata": {
        "id": "hKkkqz3IW9oP",
        "colab_type": "code",
        "colab": {}
      },
      "cell_type": "code",
      "source": [
        "category_features=['HY_antiguedad', 'HY_ascensor', 'HY_num_banos', 'HY_num_garajes','HY_num_terrazas', 'HY_tipo', 'HY_trastero','IDEA_demand_rent_residential', 'IDEA_pc_residencial','IDEA_pc_trast_parking']"
      ],
      "execution_count": 0,
      "outputs": []
    },
    {
      "metadata": {
        "id": "5RU2lwhAh0pH",
        "colab_type": "code",
        "colab": {}
      },
      "cell_type": "code",
      "source": [
        "#df_model[\"HY_ascensor\"].value_counts()"
      ],
      "execution_count": 0,
      "outputs": []
    },
    {
      "metadata": {
        "id": "1rHZkvmgU_6A",
        "colab_type": "code",
        "colab": {}
      },
      "cell_type": "code",
      "source": [
        "# s_df_model[category_features]=preprocessing.add_dummy_feature(s_df_model[category_features])\n",
        "# enc = preprocessing.OrdinalEncoder()\n",
        "# enc=preprocessing.OneHotEncoder(handle_unknown='ignore')\n",
        "# enc.fit(s_df_model[category_features])\n",
        "# s_df_model[category_features]=enc.transform(s_df_model[category_features])"
      ],
      "execution_count": 0,
      "outputs": []
    },
    {
      "metadata": {
        "id": "-osjQtdxX5C3",
        "colab_type": "code",
        "colab": {}
      },
      "cell_type": "code",
      "source": [
        "# le=preprocessing.LabelEncoder()\n",
        "# le.fit(s_df_model['HY_ascensor'])\n",
        "# s_df_model['HY_ascensor']=le.transform(s_df_model['HY_ascensor'])"
      ],
      "execution_count": 0,
      "outputs": []
    },
    {
      "metadata": {
        "id": "whjGq9--E5i5",
        "colab_type": "text"
      },
      "cell_type": "markdown",
      "source": [
        "#### ascensor"
      ]
    },
    {
      "metadata": {
        "id": "pHz0geFWakjb",
        "colab_type": "code",
        "colab": {}
      },
      "cell_type": "code",
      "source": [
        "s_df_model[['HY_si_ascensor','HY_no_ascensor']]=pd.get_dummies(s_df_model['HY_ascensor'])\n"
      ],
      "execution_count": 0,
      "outputs": []
    },
    {
      "metadata": {
        "id": "V1Ve3QlxIil1",
        "colab_type": "code",
        "colab": {}
      },
      "cell_type": "code",
      "source": [
        "s_df_model=s_df_model.drop(['HY_ascensor'], axis=1)"
      ],
      "execution_count": 0,
      "outputs": []
    },
    {
      "metadata": {
        "id": "2hs87pZmFBAX",
        "colab_type": "text"
      },
      "cell_type": "markdown",
      "source": [
        "#### Atento"
      ]
    },
    {
      "metadata": {
        "id": "_FY5bzTJFTB0",
        "colab_type": "code",
        "colab": {}
      },
      "cell_type": "code",
      "source": [
        "# lb= preprocessing.LabelBinarizer()\n",
        "# lb.fit(s_df_model['Atento'])\n",
        "# s_df_model[['Atento_si','Atento_no']]=lb.Transform(s_df_model['Atento'])"
      ],
      "execution_count": 0,
      "outputs": []
    },
    {
      "metadata": {
        "id": "96npAlsyHnY_",
        "colab_type": "text"
      },
      "cell_type": "markdown",
      "source": [
        "# POST-ANALISIS"
      ]
    },
    {
      "metadata": {
        "id": "3M8gBXOuz8ZU",
        "colab_type": "text"
      },
      "cell_type": "markdown",
      "source": [
        "https://www.machinelearningplus.com/plots/top-50-matplotlib-visualizations-the-master-plots-python/"
      ]
    },
    {
      "metadata": {
        "id": "B-aJjzhsaQyM",
        "colab_type": "code",
        "outputId": "41b30efb-5c03-4818-c29e-9c4099787feb",
        "colab": {
          "base_uri": "https://localhost:8080/",
          "height": 218
        }
      },
      "cell_type": "code",
      "source": [
        "s_df_model.head()"
      ],
      "execution_count": 0,
      "outputs": [
        {
          "output_type": "execute_result",
          "data": {
            "text/html": [
              "<div>\n",
              "<style scoped>\n",
              "    .dataframe tbody tr th:only-of-type {\n",
              "        vertical-align: middle;\n",
              "    }\n",
              "\n",
              "    .dataframe tbody tr th {\n",
              "        vertical-align: top;\n",
              "    }\n",
              "\n",
              "    .dataframe thead th {\n",
              "        text-align: right;\n",
              "    }\n",
              "</style>\n",
              "<table border=\"1\" class=\"dataframe\">\n",
              "  <thead>\n",
              "    <tr style=\"text-align: right;\">\n",
              "      <th></th>\n",
              "      <th>HY_cod_postal</th>\n",
              "      <th>HY_tipo</th>\n",
              "      <th>HY_antiguedad</th>\n",
              "      <th>HY_metros_utiles</th>\n",
              "      <th>HY_metros_totales</th>\n",
              "      <th>HY_num_banos</th>\n",
              "      <th>HY_num_terrazas</th>\n",
              "      <th>HY_trastero</th>\n",
              "      <th>HY_num_garajes</th>\n",
              "      <th>HY_precio</th>\n",
              "      <th>HY_precio_anterior</th>\n",
              "      <th>IDEA_area</th>\n",
              "      <th>IDEA_densidad</th>\n",
              "      <th>IDEA_pc_1960</th>\n",
              "      <th>IDEA_pc_1960_69</th>\n",
              "      <th>IDEA_pc_1970_79</th>\n",
              "      <th>IDEA_pc_1980_89</th>\n",
              "      <th>IDEA_pc_1990_99</th>\n",
              "      <th>IDEA_pc_2000_10</th>\n",
              "      <th>IDEA_pc_comercio</th>\n",
              "      <th>IDEA_pc_industria</th>\n",
              "      <th>IDEA_pc_oficina</th>\n",
              "      <th>IDEA_ind_tienda</th>\n",
              "      <th>IDEA_ind_turismo</th>\n",
              "      <th>IDEA_ind_alimentacion</th>\n",
              "      <th>IDEA_ind_riqueza</th>\n",
              "      <th>IDEA_rent_alquiler</th>\n",
              "      <th>IDEA_ind_elasticidad</th>\n",
              "      <th>IDEA_ind_liquidez</th>\n",
              "      <th>IDEA_stock_sale_residential</th>\n",
              "      <th>IDEA_demand_sale_residential</th>\n",
              "      <th>IDEA_stock_rent_residential</th>\n",
              "      <th>IDEA_demand_rent_residential</th>\n",
              "      <th>GA_page_views</th>\n",
              "      <th>GA_quincena_ini</th>\n",
              "      <th>GA_quincena_ult</th>\n",
              "      <th>TARGET</th>\n",
              "      <th>Num_imgs</th>\n",
              "      <th>Rebaja</th>\n",
              "      <th>Atento</th>\n",
              "      <th>Urbanizado</th>\n",
              "      <th>HY_si_ascensor</th>\n",
              "      <th>HY_no_ascensor</th>\n",
              "    </tr>\n",
              "  </thead>\n",
              "  <tbody>\n",
              "    <tr>\n",
              "      <th>7</th>\n",
              "      <td>-0.124837</td>\n",
              "      <td>0.004976</td>\n",
              "      <td>0.999659</td>\n",
              "      <td>0.383943</td>\n",
              "      <td>0.302641</td>\n",
              "      <td>0.000000</td>\n",
              "      <td>0.0</td>\n",
              "      <td>0</td>\n",
              "      <td>0.000000</td>\n",
              "      <td>0.450124</td>\n",
              "      <td>0.464650</td>\n",
              "      <td>0.094648</td>\n",
              "      <td>0.060033</td>\n",
              "      <td>-0.016530</td>\n",
              "      <td>-0.016530</td>\n",
              "      <td>0.007980</td>\n",
              "      <td>0.045704</td>\n",
              "      <td>0.166579</td>\n",
              "      <td>0.088125</td>\n",
              "      <td>-0.013800</td>\n",
              "      <td>-0.532896</td>\n",
              "      <td>-0.532896</td>\n",
              "      <td>0.007593</td>\n",
              "      <td>0.070998</td>\n",
              "      <td>0.108385</td>\n",
              "      <td>0.062415</td>\n",
              "      <td>0.082045</td>\n",
              "      <td>0.155946</td>\n",
              "      <td>-0.001414</td>\n",
              "      <td>0.052776</td>\n",
              "      <td>0.086370</td>\n",
              "      <td>0.073471</td>\n",
              "      <td>0.025407</td>\n",
              "      <td>0.110354</td>\n",
              "      <td>-0.532896</td>\n",
              "      <td>-0.004705</td>\n",
              "      <td>4.399375</td>\n",
              "      <td>0.003483</td>\n",
              "      <td>0.532291</td>\n",
              "      <td>-0.007193</td>\n",
              "      <td>0.362656</td>\n",
              "      <td>1</td>\n",
              "      <td>0</td>\n",
              "    </tr>\n",
              "    <tr>\n",
              "      <th>15</th>\n",
              "      <td>0.168395</td>\n",
              "      <td>0.001001</td>\n",
              "      <td>0.999660</td>\n",
              "      <td>0.292155</td>\n",
              "      <td>0.241422</td>\n",
              "      <td>0.001001</td>\n",
              "      <td>0.0</td>\n",
              "      <td>0</td>\n",
              "      <td>0.000501</td>\n",
              "      <td>0.269228</td>\n",
              "      <td>0.289622</td>\n",
              "      <td>0.099327</td>\n",
              "      <td>0.004119</td>\n",
              "      <td>0.131163</td>\n",
              "      <td>0.131163</td>\n",
              "      <td>0.153406</td>\n",
              "      <td>0.103127</td>\n",
              "      <td>-0.010709</td>\n",
              "      <td>0.011646</td>\n",
              "      <td>-0.022302</td>\n",
              "      <td>0.130595</td>\n",
              "      <td>0.121980</td>\n",
              "      <td>0.190839</td>\n",
              "      <td>0.047177</td>\n",
              "      <td>0.041362</td>\n",
              "      <td>0.100867</td>\n",
              "      <td>0.047394</td>\n",
              "      <td>0.013939</td>\n",
              "      <td>-0.002286</td>\n",
              "      <td>0.150243</td>\n",
              "      <td>0.039863</td>\n",
              "      <td>0.058328</td>\n",
              "      <td>0.025555</td>\n",
              "      <td>0.233920</td>\n",
              "      <td>-0.861187</td>\n",
              "      <td>0.742103</td>\n",
              "      <td>4.280132</td>\n",
              "      <td>0.005006</td>\n",
              "      <td>0.255362</td>\n",
              "      <td>0.164715</td>\n",
              "      <td>0.344879</td>\n",
              "      <td>1</td>\n",
              "      <td>0</td>\n",
              "    </tr>\n",
              "    <tr>\n",
              "      <th>29</th>\n",
              "      <td>-0.058074</td>\n",
              "      <td>0.007467</td>\n",
              "      <td>0.999628</td>\n",
              "      <td>0.458269</td>\n",
              "      <td>0.376168</td>\n",
              "      <td>0.000996</td>\n",
              "      <td>0.0</td>\n",
              "      <td>0</td>\n",
              "      <td>0.000000</td>\n",
              "      <td>0.175980</td>\n",
              "      <td>0.344363</td>\n",
              "      <td>0.088972</td>\n",
              "      <td>0.297755</td>\n",
              "      <td>-0.426994</td>\n",
              "      <td>-0.426994</td>\n",
              "      <td>0.015442</td>\n",
              "      <td>0.036621</td>\n",
              "      <td>0.107828</td>\n",
              "      <td>0.098530</td>\n",
              "      <td>0.081954</td>\n",
              "      <td>-0.426994</td>\n",
              "      <td>-0.426994</td>\n",
              "      <td>0.010123</td>\n",
              "      <td>0.086486</td>\n",
              "      <td>0.020508</td>\n",
              "      <td>0.084712</td>\n",
              "      <td>0.114252</td>\n",
              "      <td>0.055586</td>\n",
              "      <td>-0.426994</td>\n",
              "      <td>0.058471</td>\n",
              "      <td>0.102676</td>\n",
              "      <td>0.000412</td>\n",
              "      <td>0.025723</td>\n",
              "      <td>0.519332</td>\n",
              "      <td>-0.051885</td>\n",
              "      <td>-0.013120</td>\n",
              "      <td>4.008787</td>\n",
              "      <td>0.004978</td>\n",
              "      <td>0.286536</td>\n",
              "      <td>0.066940</td>\n",
              "      <td>0.125854</td>\n",
              "      <td>0</td>\n",
              "      <td>1</td>\n",
              "    </tr>\n",
              "    <tr>\n",
              "      <th>30</th>\n",
              "      <td>-0.058148</td>\n",
              "      <td>0.007467</td>\n",
              "      <td>0.999629</td>\n",
              "      <td>0.065885</td>\n",
              "      <td>-0.001893</td>\n",
              "      <td>0.000498</td>\n",
              "      <td>0.0</td>\n",
              "      <td>0</td>\n",
              "      <td>0.000000</td>\n",
              "      <td>-0.038549</td>\n",
              "      <td>0.050913</td>\n",
              "      <td>0.036837</td>\n",
              "      <td>0.123277</td>\n",
              "      <td>-0.427543</td>\n",
              "      <td>-0.427543</td>\n",
              "      <td>0.015462</td>\n",
              "      <td>0.036668</td>\n",
              "      <td>0.107967</td>\n",
              "      <td>0.098657</td>\n",
              "      <td>0.082059</td>\n",
              "      <td>-0.427543</td>\n",
              "      <td>-0.427543</td>\n",
              "      <td>0.010136</td>\n",
              "      <td>0.086597</td>\n",
              "      <td>0.020535</td>\n",
              "      <td>0.084821</td>\n",
              "      <td>0.114399</td>\n",
              "      <td>0.055658</td>\n",
              "      <td>-0.427543</td>\n",
              "      <td>0.058546</td>\n",
              "      <td>0.102808</td>\n",
              "      <td>0.000413</td>\n",
              "      <td>0.025723</td>\n",
              "      <td>0.072096</td>\n",
              "      <td>-0.019154</td>\n",
              "      <td>0.978668</td>\n",
              "      <td>4.202601</td>\n",
              "      <td>0.004978</td>\n",
              "      <td>0.058303</td>\n",
              "      <td>0.023333</td>\n",
              "      <td>0.173433</td>\n",
              "      <td>0</td>\n",
              "      <td>1</td>\n",
              "    </tr>\n",
              "    <tr>\n",
              "      <th>33</th>\n",
              "      <td>-0.058141</td>\n",
              "      <td>0.007467</td>\n",
              "      <td>0.999629</td>\n",
              "      <td>0.316645</td>\n",
              "      <td>-0.028646</td>\n",
              "      <td>0.000498</td>\n",
              "      <td>0.0</td>\n",
              "      <td>0</td>\n",
              "      <td>0.000000</td>\n",
              "      <td>-0.181849</td>\n",
              "      <td>0.234771</td>\n",
              "      <td>0.170682</td>\n",
              "      <td>0.571203</td>\n",
              "      <td>-0.427486</td>\n",
              "      <td>-0.427486</td>\n",
              "      <td>0.015460</td>\n",
              "      <td>0.036663</td>\n",
              "      <td>0.107952</td>\n",
              "      <td>0.098644</td>\n",
              "      <td>0.082048</td>\n",
              "      <td>-0.427486</td>\n",
              "      <td>-0.427486</td>\n",
              "      <td>0.010134</td>\n",
              "      <td>0.086586</td>\n",
              "      <td>0.020532</td>\n",
              "      <td>0.084810</td>\n",
              "      <td>0.114384</td>\n",
              "      <td>0.055651</td>\n",
              "      <td>-0.427486</td>\n",
              "      <td>0.058539</td>\n",
              "      <td>0.102794</td>\n",
              "      <td>0.000413</td>\n",
              "      <td>0.025723</td>\n",
              "      <td>-0.195290</td>\n",
              "      <td>0.024279</td>\n",
              "      <td>-0.393752</td>\n",
              "      <td>3.255015</td>\n",
              "      <td>0.004978</td>\n",
              "      <td>0.277041</td>\n",
              "      <td>0.089411</td>\n",
              "      <td>0.051330</td>\n",
              "      <td>0</td>\n",
              "      <td>1</td>\n",
              "    </tr>\n",
              "  </tbody>\n",
              "</table>\n",
              "</div>"
            ],
            "text/plain": [
              "    HY_cod_postal   HY_tipo  HY_antiguedad  HY_metros_utiles  \\\n",
              "7       -0.124837  0.004976       0.999659          0.383943   \n",
              "15       0.168395  0.001001       0.999660          0.292155   \n",
              "29      -0.058074  0.007467       0.999628          0.458269   \n",
              "30      -0.058148  0.007467       0.999629          0.065885   \n",
              "33      -0.058141  0.007467       0.999629          0.316645   \n",
              "\n",
              "    HY_metros_totales  HY_num_banos  HY_num_terrazas  HY_trastero  \\\n",
              "7            0.302641      0.000000              0.0            0   \n",
              "15           0.241422      0.001001              0.0            0   \n",
              "29           0.376168      0.000996              0.0            0   \n",
              "30          -0.001893      0.000498              0.0            0   \n",
              "33          -0.028646      0.000498              0.0            0   \n",
              "\n",
              "    HY_num_garajes  HY_precio  HY_precio_anterior  IDEA_area  IDEA_densidad  \\\n",
              "7         0.000000   0.450124            0.464650   0.094648       0.060033   \n",
              "15        0.000501   0.269228            0.289622   0.099327       0.004119   \n",
              "29        0.000000   0.175980            0.344363   0.088972       0.297755   \n",
              "30        0.000000  -0.038549            0.050913   0.036837       0.123277   \n",
              "33        0.000000  -0.181849            0.234771   0.170682       0.571203   \n",
              "\n",
              "    IDEA_pc_1960  IDEA_pc_1960_69  IDEA_pc_1970_79  IDEA_pc_1980_89  \\\n",
              "7      -0.016530        -0.016530         0.007980         0.045704   \n",
              "15      0.131163         0.131163         0.153406         0.103127   \n",
              "29     -0.426994        -0.426994         0.015442         0.036621   \n",
              "30     -0.427543        -0.427543         0.015462         0.036668   \n",
              "33     -0.427486        -0.427486         0.015460         0.036663   \n",
              "\n",
              "    IDEA_pc_1990_99  IDEA_pc_2000_10  IDEA_pc_comercio  IDEA_pc_industria  \\\n",
              "7          0.166579         0.088125         -0.013800          -0.532896   \n",
              "15        -0.010709         0.011646         -0.022302           0.130595   \n",
              "29         0.107828         0.098530          0.081954          -0.426994   \n",
              "30         0.107967         0.098657          0.082059          -0.427543   \n",
              "33         0.107952         0.098644          0.082048          -0.427486   \n",
              "\n",
              "    IDEA_pc_oficina  IDEA_ind_tienda  IDEA_ind_turismo  IDEA_ind_alimentacion  \\\n",
              "7         -0.532896         0.007593          0.070998               0.108385   \n",
              "15         0.121980         0.190839          0.047177               0.041362   \n",
              "29        -0.426994         0.010123          0.086486               0.020508   \n",
              "30        -0.427543         0.010136          0.086597               0.020535   \n",
              "33        -0.427486         0.010134          0.086586               0.020532   \n",
              "\n",
              "    IDEA_ind_riqueza  IDEA_rent_alquiler  IDEA_ind_elasticidad  \\\n",
              "7           0.062415            0.082045              0.155946   \n",
              "15          0.100867            0.047394              0.013939   \n",
              "29          0.084712            0.114252              0.055586   \n",
              "30          0.084821            0.114399              0.055658   \n",
              "33          0.084810            0.114384              0.055651   \n",
              "\n",
              "    IDEA_ind_liquidez  IDEA_stock_sale_residential  \\\n",
              "7           -0.001414                     0.052776   \n",
              "15          -0.002286                     0.150243   \n",
              "29          -0.426994                     0.058471   \n",
              "30          -0.427543                     0.058546   \n",
              "33          -0.427486                     0.058539   \n",
              "\n",
              "    IDEA_demand_sale_residential  IDEA_stock_rent_residential  \\\n",
              "7                       0.086370                     0.073471   \n",
              "15                      0.039863                     0.058328   \n",
              "29                      0.102676                     0.000412   \n",
              "30                      0.102808                     0.000413   \n",
              "33                      0.102794                     0.000413   \n",
              "\n",
              "    IDEA_demand_rent_residential  GA_page_views  GA_quincena_ini  \\\n",
              "7                       0.025407       0.110354        -0.532896   \n",
              "15                      0.025555       0.233920        -0.861187   \n",
              "29                      0.025723       0.519332        -0.051885   \n",
              "30                      0.025723       0.072096        -0.019154   \n",
              "33                      0.025723      -0.195290         0.024279   \n",
              "\n",
              "    GA_quincena_ult    TARGET  Num_imgs    Rebaja    Atento  Urbanizado  \\\n",
              "7         -0.004705  4.399375  0.003483  0.532291 -0.007193    0.362656   \n",
              "15         0.742103  4.280132  0.005006  0.255362  0.164715    0.344879   \n",
              "29        -0.013120  4.008787  0.004978  0.286536  0.066940    0.125854   \n",
              "30         0.978668  4.202601  0.004978  0.058303  0.023333    0.173433   \n",
              "33        -0.393752  3.255015  0.004978  0.277041  0.089411    0.051330   \n",
              "\n",
              "    HY_si_ascensor  HY_no_ascensor  \n",
              "7                1               0  \n",
              "15               1               0  \n",
              "29               0               1  \n",
              "30               0               1  \n",
              "33               0               1  "
            ]
          },
          "metadata": {
            "tags": []
          },
          "execution_count": 537
        }
      ]
    },
    {
      "metadata": {
        "colab_type": "text",
        "id": "LZRYysl_Z22-"
      },
      "cell_type": "markdown",
      "source": [
        "### Distribución"
      ]
    },
    {
      "metadata": {
        "scrolled": false,
        "colab_type": "code",
        "id": "NrBVgJqZZ22_",
        "outputId": "9c3b0bc6-66ac-4445-d113-9e1159fc5734",
        "colab": {
          "base_uri": "https://localhost:8080/",
          "height": 360
        }
      },
      "cell_type": "code",
      "source": [
        "s_df_model.describe()"
      ],
      "execution_count": 0,
      "outputs": [
        {
          "output_type": "execute_result",
          "data": {
            "text/html": [
              "<div>\n",
              "<style scoped>\n",
              "    .dataframe tbody tr th:only-of-type {\n",
              "        vertical-align: middle;\n",
              "    }\n",
              "\n",
              "    .dataframe tbody tr th {\n",
              "        vertical-align: top;\n",
              "    }\n",
              "\n",
              "    .dataframe thead th {\n",
              "        text-align: right;\n",
              "    }\n",
              "</style>\n",
              "<table border=\"1\" class=\"dataframe\">\n",
              "  <thead>\n",
              "    <tr style=\"text-align: right;\">\n",
              "      <th></th>\n",
              "      <th>HY_cod_postal</th>\n",
              "      <th>HY_tipo</th>\n",
              "      <th>HY_antiguedad</th>\n",
              "      <th>HY_metros_utiles</th>\n",
              "      <th>HY_metros_totales</th>\n",
              "      <th>HY_num_banos</th>\n",
              "      <th>HY_num_terrazas</th>\n",
              "      <th>HY_trastero</th>\n",
              "      <th>HY_num_garajes</th>\n",
              "      <th>HY_precio</th>\n",
              "      <th>HY_precio_anterior</th>\n",
              "      <th>IDEA_area</th>\n",
              "      <th>IDEA_densidad</th>\n",
              "      <th>IDEA_pc_1960</th>\n",
              "      <th>IDEA_pc_1960_69</th>\n",
              "      <th>IDEA_pc_1970_79</th>\n",
              "      <th>IDEA_pc_1980_89</th>\n",
              "      <th>IDEA_pc_1990_99</th>\n",
              "      <th>IDEA_pc_2000_10</th>\n",
              "      <th>IDEA_pc_comercio</th>\n",
              "      <th>IDEA_pc_industria</th>\n",
              "      <th>IDEA_pc_oficina</th>\n",
              "      <th>IDEA_ind_tienda</th>\n",
              "      <th>IDEA_ind_turismo</th>\n",
              "      <th>IDEA_ind_alimentacion</th>\n",
              "      <th>IDEA_ind_riqueza</th>\n",
              "      <th>IDEA_rent_alquiler</th>\n",
              "      <th>IDEA_ind_elasticidad</th>\n",
              "      <th>IDEA_ind_liquidez</th>\n",
              "      <th>IDEA_stock_sale_residential</th>\n",
              "      <th>IDEA_demand_sale_residential</th>\n",
              "      <th>IDEA_stock_rent_residential</th>\n",
              "      <th>IDEA_demand_rent_residential</th>\n",
              "      <th>GA_page_views</th>\n",
              "      <th>GA_quincena_ini</th>\n",
              "      <th>GA_quincena_ult</th>\n",
              "      <th>TARGET</th>\n",
              "      <th>Num_imgs</th>\n",
              "      <th>Rebaja</th>\n",
              "      <th>Atento</th>\n",
              "      <th>Urbanizado</th>\n",
              "      <th>HY_si_ascensor</th>\n",
              "      <th>HY_no_ascensor</th>\n",
              "    </tr>\n",
              "  </thead>\n",
              "  <tbody>\n",
              "    <tr>\n",
              "      <th>count</th>\n",
              "      <td>9958.000000</td>\n",
              "      <td>9958.000000</td>\n",
              "      <td>9958.000000</td>\n",
              "      <td>9958.000000</td>\n",
              "      <td>9958.000000</td>\n",
              "      <td>9958.000000</td>\n",
              "      <td>9958.000000</td>\n",
              "      <td>9958.000000</td>\n",
              "      <td>9958.000000</td>\n",
              "      <td>9958.000000</td>\n",
              "      <td>9958.000000</td>\n",
              "      <td>9958.000000</td>\n",
              "      <td>9958.000000</td>\n",
              "      <td>9958.000000</td>\n",
              "      <td>9958.000000</td>\n",
              "      <td>9958.000000</td>\n",
              "      <td>9958.000000</td>\n",
              "      <td>9958.000000</td>\n",
              "      <td>9958.000000</td>\n",
              "      <td>9958.000000</td>\n",
              "      <td>9958.000000</td>\n",
              "      <td>9958.000000</td>\n",
              "      <td>9958.000000</td>\n",
              "      <td>9958.000000</td>\n",
              "      <td>9958.000000</td>\n",
              "      <td>9958.000000</td>\n",
              "      <td>9958.000000</td>\n",
              "      <td>9958.000000</td>\n",
              "      <td>9958.000000</td>\n",
              "      <td>9958.000000</td>\n",
              "      <td>9958.000000</td>\n",
              "      <td>9958.000000</td>\n",
              "      <td>9958.000000</td>\n",
              "      <td>9958.000000</td>\n",
              "      <td>9958.000000</td>\n",
              "      <td>9958.000000</td>\n",
              "      <td>9958.000000</td>\n",
              "      <td>9958.000000</td>\n",
              "      <td>9958.000000</td>\n",
              "      <td>9.958000e+03</td>\n",
              "      <td>9.958000e+03</td>\n",
              "      <td>9958.000000</td>\n",
              "      <td>9958.000000</td>\n",
              "    </tr>\n",
              "    <tr>\n",
              "      <th>mean</th>\n",
              "      <td>0.001464</td>\n",
              "      <td>0.266332</td>\n",
              "      <td>0.449164</td>\n",
              "      <td>-0.136366</td>\n",
              "      <td>-0.015241</td>\n",
              "      <td>0.024355</td>\n",
              "      <td>0.000188</td>\n",
              "      <td>0.062161</td>\n",
              "      <td>0.002238</td>\n",
              "      <td>-0.014491</td>\n",
              "      <td>-0.142080</td>\n",
              "      <td>-0.052993</td>\n",
              "      <td>-0.050239</td>\n",
              "      <td>-0.049636</td>\n",
              "      <td>-0.049636</td>\n",
              "      <td>-0.021218</td>\n",
              "      <td>-0.023575</td>\n",
              "      <td>-0.022741</td>\n",
              "      <td>-0.023054</td>\n",
              "      <td>-0.033066</td>\n",
              "      <td>-0.193880</td>\n",
              "      <td>-0.170855</td>\n",
              "      <td>-0.089155</td>\n",
              "      <td>-0.067051</td>\n",
              "      <td>-0.096778</td>\n",
              "      <td>-0.023508</td>\n",
              "      <td>-0.031237</td>\n",
              "      <td>-0.104874</td>\n",
              "      <td>0.003384</td>\n",
              "      <td>-0.012674</td>\n",
              "      <td>-0.022552</td>\n",
              "      <td>-0.028168</td>\n",
              "      <td>0.337809</td>\n",
              "      <td>0.005335</td>\n",
              "      <td>-0.096226</td>\n",
              "      <td>0.244407</td>\n",
              "      <td>3.838718</td>\n",
              "      <td>0.067819</td>\n",
              "      <td>0.014150</td>\n",
              "      <td>2.692358e-17</td>\n",
              "      <td>-3.856459e-17</td>\n",
              "      <td>0.729564</td>\n",
              "      <td>0.270436</td>\n",
              "    </tr>\n",
              "    <tr>\n",
              "      <th>std</th>\n",
              "      <td>0.100507</td>\n",
              "      <td>0.356244</td>\n",
              "      <td>0.497310</td>\n",
              "      <td>0.361254</td>\n",
              "      <td>0.178896</td>\n",
              "      <td>0.079938</td>\n",
              "      <td>0.004981</td>\n",
              "      <td>0.241460</td>\n",
              "      <td>0.012797</td>\n",
              "      <td>0.178008</td>\n",
              "      <td>0.368394</td>\n",
              "      <td>0.268356</td>\n",
              "      <td>0.271590</td>\n",
              "      <td>0.166437</td>\n",
              "      <td>0.166437</td>\n",
              "      <td>0.138879</td>\n",
              "      <td>0.137718</td>\n",
              "      <td>0.135705</td>\n",
              "      <td>0.132486</td>\n",
              "      <td>0.159219</td>\n",
              "      <td>0.271607</td>\n",
              "      <td>0.259433</td>\n",
              "      <td>0.227581</td>\n",
              "      <td>0.234836</td>\n",
              "      <td>0.225636</td>\n",
              "      <td>0.128364</td>\n",
              "      <td>0.150431</td>\n",
              "      <td>0.276903</td>\n",
              "      <td>0.167834</td>\n",
              "      <td>0.141526</td>\n",
              "      <td>0.133203</td>\n",
              "      <td>0.147022</td>\n",
              "      <td>0.452807</td>\n",
              "      <td>0.171904</td>\n",
              "      <td>0.236941</td>\n",
              "      <td>0.444423</td>\n",
              "      <td>1.119385</td>\n",
              "      <td>0.149087</td>\n",
              "      <td>0.159762</td>\n",
              "      <td>2.429760e-01</td>\n",
              "      <td>5.102638e-01</td>\n",
              "      <td>0.444207</td>\n",
              "      <td>0.444207</td>\n",
              "    </tr>\n",
              "    <tr>\n",
              "      <th>min</th>\n",
              "      <td>-0.565695</td>\n",
              "      <td>0.000000</td>\n",
              "      <td>0.000000</td>\n",
              "      <td>-0.986779</td>\n",
              "      <td>-0.906056</td>\n",
              "      <td>0.000000</td>\n",
              "      <td>0.000000</td>\n",
              "      <td>0.000000</td>\n",
              "      <td>0.000000</td>\n",
              "      <td>-0.837624</td>\n",
              "      <td>-0.971671</td>\n",
              "      <td>-0.499176</td>\n",
              "      <td>-0.649815</td>\n",
              "      <td>-0.603996</td>\n",
              "      <td>-0.603996</td>\n",
              "      <td>-0.434237</td>\n",
              "      <td>-0.449895</td>\n",
              "      <td>-0.497195</td>\n",
              "      <td>-0.377521</td>\n",
              "      <td>-0.608056</td>\n",
              "      <td>-0.885208</td>\n",
              "      <td>-0.886930</td>\n",
              "      <td>-0.830442</td>\n",
              "      <td>-0.803348</td>\n",
              "      <td>-0.847891</td>\n",
              "      <td>-0.213175</td>\n",
              "      <td>-0.515893</td>\n",
              "      <td>-0.893845</td>\n",
              "      <td>-0.804690</td>\n",
              "      <td>-0.289794</td>\n",
              "      <td>-0.388820</td>\n",
              "      <td>-0.479445</td>\n",
              "      <td>0.000000</td>\n",
              "      <td>-0.816547</td>\n",
              "      <td>-0.892133</td>\n",
              "      <td>-0.893651</td>\n",
              "      <td>0.000000</td>\n",
              "      <td>0.000000</td>\n",
              "      <td>-0.984426</td>\n",
              "      <td>-8.404157e-01</td>\n",
              "      <td>-8.926723e-01</td>\n",
              "      <td>0.000000</td>\n",
              "      <td>0.000000</td>\n",
              "    </tr>\n",
              "    <tr>\n",
              "      <th>25%</th>\n",
              "      <td>-0.048943</td>\n",
              "      <td>0.005090</td>\n",
              "      <td>0.000000</td>\n",
              "      <td>-0.434308</td>\n",
              "      <td>-0.096812</td>\n",
              "      <td>0.000000</td>\n",
              "      <td>0.000000</td>\n",
              "      <td>0.000000</td>\n",
              "      <td>0.000000</td>\n",
              "      <td>-0.093485</td>\n",
              "      <td>-0.435251</td>\n",
              "      <td>-0.396219</td>\n",
              "      <td>-0.396513</td>\n",
              "      <td>-0.207751</td>\n",
              "      <td>-0.207751</td>\n",
              "      <td>-0.203651</td>\n",
              "      <td>-0.203665</td>\n",
              "      <td>-0.203589</td>\n",
              "      <td>-0.203508</td>\n",
              "      <td>-0.203994</td>\n",
              "      <td>-0.401005</td>\n",
              "      <td>-0.387061</td>\n",
              "      <td>-0.212895</td>\n",
              "      <td>-0.212579</td>\n",
              "      <td>-0.212950</td>\n",
              "      <td>-0.203219</td>\n",
              "      <td>-0.203878</td>\n",
              "      <td>-0.213136</td>\n",
              "      <td>-0.001645</td>\n",
              "      <td>-0.203234</td>\n",
              "      <td>-0.203449</td>\n",
              "      <td>-0.203847</td>\n",
              "      <td>0.000000</td>\n",
              "      <td>-0.090787</td>\n",
              "      <td>-0.076907</td>\n",
              "      <td>-0.101272</td>\n",
              "      <td>3.389631</td>\n",
              "      <td>0.000995</td>\n",
              "      <td>-0.088553</td>\n",
              "      <td>-1.975916e-01</td>\n",
              "      <td>-7.476132e-01</td>\n",
              "      <td>0.000000</td>\n",
              "      <td>0.000000</td>\n",
              "    </tr>\n",
              "    <tr>\n",
              "      <th>50%</th>\n",
              "      <td>0.000003</td>\n",
              "      <td>0.114172</td>\n",
              "      <td>0.000000</td>\n",
              "      <td>-0.000011</td>\n",
              "      <td>0.000052</td>\n",
              "      <td>0.000497</td>\n",
              "      <td>0.000000</td>\n",
              "      <td>0.000000</td>\n",
              "      <td>0.000000</td>\n",
              "      <td>0.000000</td>\n",
              "      <td>-0.000059</td>\n",
              "      <td>0.000000</td>\n",
              "      <td>0.000075</td>\n",
              "      <td>-0.001846</td>\n",
              "      <td>-0.001846</td>\n",
              "      <td>-0.002182</td>\n",
              "      <td>0.000000</td>\n",
              "      <td>-0.000349</td>\n",
              "      <td>-0.000566</td>\n",
              "      <td>-0.010239</td>\n",
              "      <td>-0.212129</td>\n",
              "      <td>-0.208145</td>\n",
              "      <td>-0.000406</td>\n",
              "      <td>-0.000566</td>\n",
              "      <td>-0.000101</td>\n",
              "      <td>-0.004131</td>\n",
              "      <td>0.000293</td>\n",
              "      <td>-0.203154</td>\n",
              "      <td>-0.001110</td>\n",
              "      <td>0.000000</td>\n",
              "      <td>-0.000179</td>\n",
              "      <td>0.000412</td>\n",
              "      <td>0.025743</td>\n",
              "      <td>0.000430</td>\n",
              "      <td>0.000000</td>\n",
              "      <td>-0.004659</td>\n",
              "      <td>4.047864</td>\n",
              "      <td>0.003488</td>\n",
              "      <td>0.000186</td>\n",
              "      <td>7.761378e-02</td>\n",
              "      <td>2.214179e-01</td>\n",
              "      <td>1.000000</td>\n",
              "      <td>0.000000</td>\n",
              "    </tr>\n",
              "    <tr>\n",
              "      <th>75%</th>\n",
              "      <td>0.055784</td>\n",
              "      <td>0.281157</td>\n",
              "      <td>0.999651</td>\n",
              "      <td>0.106302</td>\n",
              "      <td>0.091494</td>\n",
              "      <td>0.018454</td>\n",
              "      <td>0.000000</td>\n",
              "      <td>0.000000</td>\n",
              "      <td>0.000000</td>\n",
              "      <td>0.090624</td>\n",
              "      <td>0.105317</td>\n",
              "      <td>0.118559</td>\n",
              "      <td>0.121356</td>\n",
              "      <td>0.070557</td>\n",
              "      <td>0.070557</td>\n",
              "      <td>0.075045</td>\n",
              "      <td>0.069764</td>\n",
              "      <td>0.067829</td>\n",
              "      <td>0.068735</td>\n",
              "      <td>0.071920</td>\n",
              "      <td>0.080848</td>\n",
              "      <td>0.076289</td>\n",
              "      <td>0.074023</td>\n",
              "      <td>0.074734</td>\n",
              "      <td>0.077725</td>\n",
              "      <td>0.065693</td>\n",
              "      <td>0.068858</td>\n",
              "      <td>0.076079</td>\n",
              "      <td>-0.000564</td>\n",
              "      <td>0.073615</td>\n",
              "      <td>0.068547</td>\n",
              "      <td>0.074873</td>\n",
              "      <td>0.957056</td>\n",
              "      <td>0.099202</td>\n",
              "      <td>0.031621</td>\n",
              "      <td>0.672867</td>\n",
              "      <td>4.516421</td>\n",
              "      <td>0.073586</td>\n",
              "      <td>0.103059</td>\n",
              "      <td>1.440548e-01</td>\n",
              "      <td>3.492873e-01</td>\n",
              "      <td>1.000000</td>\n",
              "      <td>1.000000</td>\n",
              "    </tr>\n",
              "    <tr>\n",
              "      <th>max</th>\n",
              "      <td>0.483146</td>\n",
              "      <td>1.000000</td>\n",
              "      <td>1.000000</td>\n",
              "      <td>0.700877</td>\n",
              "      <td>0.606199</td>\n",
              "      <td>0.996751</td>\n",
              "      <td>0.405220</td>\n",
              "      <td>1.000000</td>\n",
              "      <td>0.301511</td>\n",
              "      <td>0.545871</td>\n",
              "      <td>0.657881</td>\n",
              "      <td>0.880411</td>\n",
              "      <td>0.903695</td>\n",
              "      <td>0.438121</td>\n",
              "      <td>0.438121</td>\n",
              "      <td>0.473109</td>\n",
              "      <td>0.503634</td>\n",
              "      <td>0.542745</td>\n",
              "      <td>0.459280</td>\n",
              "      <td>0.457106</td>\n",
              "      <td>0.513626</td>\n",
              "      <td>0.583039</td>\n",
              "      <td>0.549750</td>\n",
              "      <td>0.546278</td>\n",
              "      <td>0.554629</td>\n",
              "      <td>0.509285</td>\n",
              "      <td>0.511932</td>\n",
              "      <td>0.874578</td>\n",
              "      <td>0.809425</td>\n",
              "      <td>0.494215</td>\n",
              "      <td>0.580205</td>\n",
              "      <td>0.376711</td>\n",
              "      <td>0.999314</td>\n",
              "      <td>0.908319</td>\n",
              "      <td>0.663050</td>\n",
              "      <td>0.990406</td>\n",
              "      <td>7.479300</td>\n",
              "      <td>0.980581</td>\n",
              "      <td>0.829013</td>\n",
              "      <td>9.702523e-01</td>\n",
              "      <td>1.078799e+00</td>\n",
              "      <td>1.000000</td>\n",
              "      <td>1.000000</td>\n",
              "    </tr>\n",
              "  </tbody>\n",
              "</table>\n",
              "</div>"
            ],
            "text/plain": [
              "       HY_cod_postal      HY_tipo  HY_antiguedad  HY_metros_utiles  \\\n",
              "count    9958.000000  9958.000000    9958.000000       9958.000000   \n",
              "mean        0.001464     0.266332       0.449164         -0.136366   \n",
              "std         0.100507     0.356244       0.497310          0.361254   \n",
              "min        -0.565695     0.000000       0.000000         -0.986779   \n",
              "25%        -0.048943     0.005090       0.000000         -0.434308   \n",
              "50%         0.000003     0.114172       0.000000         -0.000011   \n",
              "75%         0.055784     0.281157       0.999651          0.106302   \n",
              "max         0.483146     1.000000       1.000000          0.700877   \n",
              "\n",
              "       HY_metros_totales  HY_num_banos  HY_num_terrazas  HY_trastero  \\\n",
              "count        9958.000000   9958.000000      9958.000000  9958.000000   \n",
              "mean           -0.015241      0.024355         0.000188     0.062161   \n",
              "std             0.178896      0.079938         0.004981     0.241460   \n",
              "min            -0.906056      0.000000         0.000000     0.000000   \n",
              "25%            -0.096812      0.000000         0.000000     0.000000   \n",
              "50%             0.000052      0.000497         0.000000     0.000000   \n",
              "75%             0.091494      0.018454         0.000000     0.000000   \n",
              "max             0.606199      0.996751         0.405220     1.000000   \n",
              "\n",
              "       HY_num_garajes    HY_precio  HY_precio_anterior    IDEA_area  \\\n",
              "count     9958.000000  9958.000000         9958.000000  9958.000000   \n",
              "mean         0.002238    -0.014491           -0.142080    -0.052993   \n",
              "std          0.012797     0.178008            0.368394     0.268356   \n",
              "min          0.000000    -0.837624           -0.971671    -0.499176   \n",
              "25%          0.000000    -0.093485           -0.435251    -0.396219   \n",
              "50%          0.000000     0.000000           -0.000059     0.000000   \n",
              "75%          0.000000     0.090624            0.105317     0.118559   \n",
              "max          0.301511     0.545871            0.657881     0.880411   \n",
              "\n",
              "       IDEA_densidad  IDEA_pc_1960  IDEA_pc_1960_69  IDEA_pc_1970_79  \\\n",
              "count    9958.000000   9958.000000      9958.000000      9958.000000   \n",
              "mean       -0.050239     -0.049636        -0.049636        -0.021218   \n",
              "std         0.271590      0.166437         0.166437         0.138879   \n",
              "min        -0.649815     -0.603996        -0.603996        -0.434237   \n",
              "25%        -0.396513     -0.207751        -0.207751        -0.203651   \n",
              "50%         0.000075     -0.001846        -0.001846        -0.002182   \n",
              "75%         0.121356      0.070557         0.070557         0.075045   \n",
              "max         0.903695      0.438121         0.438121         0.473109   \n",
              "\n",
              "       IDEA_pc_1980_89  IDEA_pc_1990_99  IDEA_pc_2000_10  IDEA_pc_comercio  \\\n",
              "count      9958.000000      9958.000000      9958.000000       9958.000000   \n",
              "mean         -0.023575        -0.022741        -0.023054         -0.033066   \n",
              "std           0.137718         0.135705         0.132486          0.159219   \n",
              "min          -0.449895        -0.497195        -0.377521         -0.608056   \n",
              "25%          -0.203665        -0.203589        -0.203508         -0.203994   \n",
              "50%           0.000000        -0.000349        -0.000566         -0.010239   \n",
              "75%           0.069764         0.067829         0.068735          0.071920   \n",
              "max           0.503634         0.542745         0.459280          0.457106   \n",
              "\n",
              "       IDEA_pc_industria  IDEA_pc_oficina  IDEA_ind_tienda  IDEA_ind_turismo  \\\n",
              "count        9958.000000      9958.000000      9958.000000       9958.000000   \n",
              "mean           -0.193880        -0.170855        -0.089155         -0.067051   \n",
              "std             0.271607         0.259433         0.227581          0.234836   \n",
              "min            -0.885208        -0.886930        -0.830442         -0.803348   \n",
              "25%            -0.401005        -0.387061        -0.212895         -0.212579   \n",
              "50%            -0.212129        -0.208145        -0.000406         -0.000566   \n",
              "75%             0.080848         0.076289         0.074023          0.074734   \n",
              "max             0.513626         0.583039         0.549750          0.546278   \n",
              "\n",
              "       IDEA_ind_alimentacion  IDEA_ind_riqueza  IDEA_rent_alquiler  \\\n",
              "count            9958.000000       9958.000000         9958.000000   \n",
              "mean               -0.096778         -0.023508           -0.031237   \n",
              "std                 0.225636          0.128364            0.150431   \n",
              "min                -0.847891         -0.213175           -0.515893   \n",
              "25%                -0.212950         -0.203219           -0.203878   \n",
              "50%                -0.000101         -0.004131            0.000293   \n",
              "75%                 0.077725          0.065693            0.068858   \n",
              "max                 0.554629          0.509285            0.511932   \n",
              "\n",
              "       IDEA_ind_elasticidad  IDEA_ind_liquidez  IDEA_stock_sale_residential  \\\n",
              "count           9958.000000        9958.000000                  9958.000000   \n",
              "mean              -0.104874           0.003384                    -0.012674   \n",
              "std                0.276903           0.167834                     0.141526   \n",
              "min               -0.893845          -0.804690                    -0.289794   \n",
              "25%               -0.213136          -0.001645                    -0.203234   \n",
              "50%               -0.203154          -0.001110                     0.000000   \n",
              "75%                0.076079          -0.000564                     0.073615   \n",
              "max                0.874578           0.809425                     0.494215   \n",
              "\n",
              "       IDEA_demand_sale_residential  IDEA_stock_rent_residential  \\\n",
              "count                   9958.000000                  9958.000000   \n",
              "mean                      -0.022552                    -0.028168   \n",
              "std                        0.133203                     0.147022   \n",
              "min                       -0.388820                    -0.479445   \n",
              "25%                       -0.203449                    -0.203847   \n",
              "50%                       -0.000179                     0.000412   \n",
              "75%                        0.068547                     0.074873   \n",
              "max                        0.580205                     0.376711   \n",
              "\n",
              "       IDEA_demand_rent_residential  GA_page_views  GA_quincena_ini  \\\n",
              "count                   9958.000000    9958.000000      9958.000000   \n",
              "mean                       0.337809       0.005335        -0.096226   \n",
              "std                        0.452807       0.171904         0.236941   \n",
              "min                        0.000000      -0.816547        -0.892133   \n",
              "25%                        0.000000      -0.090787        -0.076907   \n",
              "50%                        0.025743       0.000430         0.000000   \n",
              "75%                        0.957056       0.099202         0.031621   \n",
              "max                        0.999314       0.908319         0.663050   \n",
              "\n",
              "       GA_quincena_ult       TARGET     Num_imgs       Rebaja        Atento  \\\n",
              "count      9958.000000  9958.000000  9958.000000  9958.000000  9.958000e+03   \n",
              "mean          0.244407     3.838718     0.067819     0.014150  2.692358e-17   \n",
              "std           0.444423     1.119385     0.149087     0.159762  2.429760e-01   \n",
              "min          -0.893651     0.000000     0.000000    -0.984426 -8.404157e-01   \n",
              "25%          -0.101272     3.389631     0.000995    -0.088553 -1.975916e-01   \n",
              "50%          -0.004659     4.047864     0.003488     0.000186  7.761378e-02   \n",
              "75%           0.672867     4.516421     0.073586     0.103059  1.440548e-01   \n",
              "max           0.990406     7.479300     0.980581     0.829013  9.702523e-01   \n",
              "\n",
              "         Urbanizado  HY_si_ascensor  HY_no_ascensor  \n",
              "count  9.958000e+03     9958.000000     9958.000000  \n",
              "mean  -3.856459e-17        0.729564        0.270436  \n",
              "std    5.102638e-01        0.444207        0.444207  \n",
              "min   -8.926723e-01        0.000000        0.000000  \n",
              "25%   -7.476132e-01        0.000000        0.000000  \n",
              "50%    2.214179e-01        1.000000        0.000000  \n",
              "75%    3.492873e-01        1.000000        1.000000  \n",
              "max    1.078799e+00        1.000000        1.000000  "
            ]
          },
          "metadata": {
            "tags": []
          },
          "execution_count": 538
        }
      ]
    },
    {
      "metadata": {
        "id": "zFR7iKu6VR_x",
        "colab_type": "text"
      },
      "cell_type": "markdown",
      "source": [
        "### Correlación"
      ]
    },
    {
      "metadata": {
        "id": "sPM_1SjJVRLw",
        "colab_type": "code",
        "colab": {}
      },
      "cell_type": "code",
      "source": [
        "def plot_corr(df,size=10):\n",
        "\n",
        "  corr = df.corr()\n",
        "  fig, ax = plt.subplots(figsize=(size, size))\n",
        "  cax = ax.matshow(corr,cmap='coolwarm', vmin=-1, vmax=1)\n",
        "  fig.colorbar(cax)\n",
        "  ticks = np.arange(0,len(df.columns),1)\n",
        "  ax.set_xticks(ticks)\n",
        "  plt.xticks(rotation=90)\n",
        "  ax.set_yticks(ticks)\n",
        "  ax.set_xticklabels(df.columns)\n",
        "  ax.set_yticklabels(df.columns)\n",
        "  plt.show()"
      ],
      "execution_count": 0,
      "outputs": []
    },
    {
      "metadata": {
        "id": "h1BZhmBAXCP-",
        "colab_type": "code",
        "outputId": "85caea60-9aef-42ec-a5a0-73a80ebfc8be",
        "colab": {
          "base_uri": "https://localhost:8080/",
          "height": 1075
        }
      },
      "cell_type": "code",
      "source": [
        " plot_corr(s_df_model,18)"
      ],
      "execution_count": 0,
      "outputs": [
        {
          "output_type": "display_data",
          "data": {
            "image/png": "[encoded data removed]",
            "text/plain": [
              "<Figure size 1296x1296 with 2 Axes>"
            ]
          },
          "metadata": {
            "tags": []
          }
        }
      ]
    },
    {
      "metadata": {
        "id": "xki2584gchvF",
        "colab_type": "text"
      },
      "cell_type": "markdown",
      "source": [
        "### Histogramas"
      ]
    },
    {
      "metadata": {
        "id": "Uf4lBhX9t9Tb",
        "colab_type": "code",
        "colab": {}
      },
      "cell_type": "code",
      "source": [
        "#  histogramas(s_df_model)"
      ],
      "execution_count": 0,
      "outputs": []
    },
    {
      "metadata": {
        "id": "J4QFO25zdRea",
        "colab_type": "text"
      },
      "cell_type": "markdown",
      "source": [
        "### Boxplot"
      ]
    },
    {
      "metadata": {
        "id": "0eiL4zIndUUU",
        "colab_type": "code",
        "colab": {}
      },
      "cell_type": "code",
      "source": [
        "def boxplots(train):  \n",
        "  for col in train:\n",
        "    plt.boxplot(train[col], dict(markerfacecolor='g', marker='D'),showfliers=True)\n",
        "    plt.title(col)\n",
        "    plt.xlabel(\"Valores\")\n",
        "    plt.ylabel(\"Frecuencia\")\n",
        "    plt.show()"
      ],
      "execution_count": 0,
      "outputs": []
    },
    {
      "metadata": {
        "id": "PTwbBeif6Azb",
        "colab_type": "code",
        "colab": {}
      },
      "cell_type": "code",
      "source": [
        "#boxplots(s_df_model)"
      ],
      "execution_count": 0,
      "outputs": []
    },
    {
      "metadata": {
        "id": "yOv605ZBo5nB",
        "colab_type": "text"
      },
      "cell_type": "markdown",
      "source": [
        "# CLASIFICACIÓN"
      ]
    },
    {
      "metadata": {
        "id": "nv73ORVZran3",
        "colab_type": "text"
      },
      "cell_type": "markdown",
      "source": [
        "#### Obtenemos las categorias predictoras por un lado  y el target por otro"
      ]
    },
    {
      "metadata": {
        "id": "b6l9SzmftrFf",
        "colab_type": "text"
      },
      "cell_type": "markdown",
      "source": [
        "#### Separamos el conjunto en un conjunto de Training y un conjunto de Test"
      ]
    },
    {
      "metadata": {
        "id": "9tZDz3sUt0mS",
        "colab_type": "code",
        "colab": {}
      },
      "cell_type": "code",
      "source": [
        "s_df_model[\"is_train\"]= np.random.uniform(0,1,len(s_df_model))<=0.75"
      ],
      "execution_count": 0,
      "outputs": []
    },
    {
      "metadata": {
        "id": "qauc9d60uwzk",
        "colab_type": "text"
      },
      "cell_type": "markdown",
      "source": [
        "Partimos el conjunto en dos subconjuntos en función del valor -1 indicando cual era el training y el estimador"
      ]
    },
    {
      "metadata": {
        "id": "o8TYYskYvGKT",
        "colab_type": "code",
        "colab": {}
      },
      "cell_type": "code",
      "source": [
        "#s_df_model[\"is_train\"]= s_df_model['TARGET'].values!=-1"
      ],
      "execution_count": 0,
      "outputs": []
    },
    {
      "metadata": {
        "id": "YK-8_In9ytls",
        "colab_type": "text"
      },
      "cell_type": "markdown",
      "source": [
        "Vemos en el histograma como se reparte los datos entre Train y test"
      ]
    },
    {
      "metadata": {
        "id": "k1yDhkZYud3R",
        "colab_type": "code",
        "colab": {}
      },
      "cell_type": "code",
      "source": [
        "# plt.hist(s_df_model.is_train)"
      ],
      "execution_count": 0,
      "outputs": []
    },
    {
      "metadata": {
        "id": "ovwbloaUy6id",
        "colab_type": "text"
      },
      "cell_type": "markdown",
      "source": [
        "Partimos en test y train"
      ]
    },
    {
      "metadata": {
        "id": "ftEbAFuIypZG",
        "colab_type": "code",
        "colab": {}
      },
      "cell_type": "code",
      "source": [
        "train, test = s_df_model[s_df_model[\"is_train\"]==True],s_df_model[s_df_model[\"is_train\"]==False]\n",
        "train.drop(\"is_train\",axis=1,inplace=True)\n",
        "test.drop(\"is_train\",axis=1,inplace=True)"
      ],
      "execution_count": 0,
      "outputs": []
    },
    {
      "metadata": {
        "id": "IC47Xsymo5m-",
        "colab_type": "code",
        "colab": {}
      },
      "cell_type": "code",
      "source": [
        "predictors_train= no_desired_columns(train,'TARGET') \n",
        "predictors_test= no_desired_columns(test,'TARGET') \n",
        "\n",
        "target= train['TARGET']# hay que tener en cuenta que se empieza en el cero"
      ],
      "execution_count": 0,
      "outputs": []
    },
    {
      "metadata": {
        "id": "okW2IaPGqG75",
        "colab_type": "text"
      },
      "cell_type": "markdown",
      "source": [
        "### Regression Tree "
      ]
    },
    {
      "metadata": {
        "id": "qvHNUS110_s3",
        "colab_type": "text"
      },
      "cell_type": "markdown",
      "source": [
        "Creamos el módelo"
      ]
    },
    {
      "metadata": {
        "id": "Er_3BJ8S0zvs",
        "colab_type": "code",
        "colab": {}
      },
      "cell_type": "code",
      "source": [
        "# regtree= DecisionTreeRegressor(min_samples_split=5,min_samples_leaf=1,random_state=None)\n",
        "# regtree.fit(predictors,target)"
      ],
      "execution_count": 0,
      "outputs": []
    },
    {
      "metadata": {
        "id": "ZvQHc1kkkGvg",
        "colab_type": "text"
      },
      "cell_type": "markdown",
      "source": [
        "#### Prediction"
      ]
    },
    {
      "metadata": {
        "id": "yqd7z0TYjPe0",
        "colab_type": "code",
        "colab": {}
      },
      "cell_type": "code",
      "source": [
        "#res=test\n",
        "# res[\"regtree_preds\"]= regtree.predict(predictors_test)\n",
        "\n",
        "#train[[\"regtree_preds\",\"TARGET\"]]"
      ],
      "execution_count": 0,
      "outputs": []
    },
    {
      "metadata": {
        "id": "wis_uArUpTib",
        "colab_type": "text"
      },
      "cell_type": "markdown",
      "source": [
        "Median absolute error"
      ]
    },
    {
      "metadata": {
        "id": "eBYwn8Eblh--",
        "colab_type": "code",
        "colab": {}
      },
      "cell_type": "code",
      "source": [
        "\n",
        "# mae_regtree=mean_absolute_error(np.expm1(test[\"TARGET\"]),np.expm1(res[\"regtree_preds\"]))    \n",
        "# mae_regtree=mean_absolute_error(to_predict[\"TARGET\"],to_predict[\"regtree_preds\"])                    "
      ],
      "execution_count": 0,
      "outputs": []
    },
    {
      "metadata": {
        "id": "5XAyTdTrNSaE",
        "colab_type": "text"
      },
      "cell_type": "markdown",
      "source": [
        "### Regression Random Forest\n",
        "    \n",
        "\n",
        "*   n_jobs-> número de tareas en paralelo\n",
        "*   obb_score-> true(aleatorio)\n",
        "*   n_estimators.-> núm. de estimadores que se va a tener\n",
        "\n"
      ]
    },
    {
      "metadata": {
        "id": "OM-W0Jifo5nC",
        "colab_type": "code",
        "colab": {}
      },
      "cell_type": "code",
      "source": [
        "# forest= RandomForestRegressor(n_jobs=2,n_estimators=500,)\n",
        "# forest.fit(predictors_train,target)"
      ],
      "execution_count": 0,
      "outputs": []
    },
    {
      "metadata": {
        "id": "QEDRTj8TxD4k",
        "colab_type": "text"
      },
      "cell_type": "markdown",
      "source": [
        "#### prediction"
      ]
    },
    {
      "metadata": {
        "id": "E56_gy2MvXQH",
        "colab_type": "code",
        "colab": {}
      },
      "cell_type": "code",
      "source": [
        "# res=test\n",
        "# res[\"rforest_preds\"]=forest.predict(predictors_test)"
      ],
      "execution_count": 0,
      "outputs": []
    },
    {
      "metadata": {
        "id": "Gig-hfm0wB9I",
        "colab_type": "code",
        "colab": {}
      },
      "cell_type": "code",
      "source": [
        "# mae_rforest=mean_absolute_error(np.expm1(test[\"TARGET\"]),np.expm1(res[\"rforest_preds\"]))"
      ],
      "execution_count": 0,
      "outputs": []
    },
    {
      "metadata": {
        "id": "Etrwr5zQIIcG",
        "colab_type": "text"
      },
      "cell_type": "markdown",
      "source": [
        "### Gradient Boosting Regressor"
      ]
    },
    {
      "metadata": {
        "id": "SzS16q2PIPtM",
        "colab_type": "code",
        "outputId": "4b392593-5159-485d-a1c1-8fa4416ead5c",
        "colab": {
          "base_uri": "https://localhost:8080/",
          "height": 183
        }
      },
      "cell_type": "code",
      "source": [
        "gradient= GradientBoostingRegressor(n_estimators=500, max_depth=5,min_samples_split=2,learning_rate=0.01)\n",
        "gradient.fit(predictors_train,target)"
      ],
      "execution_count": 0,
      "outputs": [
        {
          "output_type": "execute_result",
          "data": {
            "text/plain": [
              "GradientBoostingRegressor(alpha=0.9, criterion='friedman_mse', init=None,\n",
              "             learning_rate=0.01, loss='ls', max_depth=5, max_features=None,\n",
              "             max_leaf_nodes=None, min_impurity_decrease=0.0,\n",
              "             min_impurity_split=None, min_samples_leaf=1,\n",
              "             min_samples_split=2, min_weight_fraction_leaf=0.0,\n",
              "             n_estimators=500, n_iter_no_change=None, presort='auto',\n",
              "             random_state=None, subsample=1.0, tol=0.0001,\n",
              "             validation_fraction=0.1, verbose=0, warm_start=False)"
            ]
          },
          "metadata": {
            "tags": []
          },
          "execution_count": 555
        }
      ]
    },
    {
      "metadata": {
        "id": "fH8OZm7PKTOf",
        "colab_type": "text"
      },
      "cell_type": "markdown",
      "source": [
        "#### Prediction"
      ]
    },
    {
      "metadata": {
        "id": "ABVnrlGaKQp0",
        "colab_type": "code",
        "colab": {}
      },
      "cell_type": "code",
      "source": [
        "res=test\n",
        "res[\"gboost_preds\"]=gradient.predict(predictors_test)"
      ],
      "execution_count": 0,
      "outputs": []
    },
    {
      "metadata": {
        "id": "Mg4-_lqcKgOH",
        "colab_type": "code",
        "colab": {}
      },
      "cell_type": "code",
      "source": [
        "mae_gboost=mean_absolute_error(np.expm1(test[\"TARGET\"]),np.expm1(res[\"gboost_preds\"]))\n",
        "# mae_gboost=mean_absolute_error(to_predict[\"TARGET\"],to_predict[\"gboost_preds\"])"
      ],
      "execution_count": 0,
      "outputs": []
    },
    {
      "metadata": {
        "id": "dGREzPruo5nE",
        "colab_type": "text"
      },
      "cell_type": "markdown",
      "source": [
        "# RESULTADO (SCORE)"
      ]
    },
    {
      "metadata": {
        "id": "Jle6k3hr9KqP",
        "colab_type": "text"
      },
      "cell_type": "markdown",
      "source": [
        "#### MAE de los clasificadores"
      ]
    },
    {
      "metadata": {
        "id": "aTabtTdx9HhO",
        "colab_type": "code",
        "outputId": "854348e5-51c7-433e-8623-a3e4b5d4843a",
        "colab": {
          "base_uri": "https://localhost:8080/",
          "height": 35
        }
      },
      "cell_type": "code",
      "source": [
        "# df_res_classifiers = pd.DataFrame({'mae_rforest': [mae_rforest], 'mae_regtree': [mae_regtree],'mae_gboost':[mae_gboost]})\n",
        "# df_res_classifiers = pd.DataFrame({'mae_rforest': [mae_rforest],'mae_gboost':[mae_gboost]})\n",
        "mae_gboost\n",
        "# df_res_classifiers\n",
        "# mae_rforest"
      ],
      "execution_count": 0,
      "outputs": [
        {
          "output_type": "execute_result",
          "data": {
            "text/plain": [
              "41.20504184280683"
            ]
          },
          "metadata": {
            "tags": []
          },
          "execution_count": 558
        }
      ]
    },
    {
      "metadata": {
        "id": "ez-CVUburF01",
        "colab_type": "text"
      },
      "cell_type": "markdown",
      "source": [
        "#### Fichero final"
      ]
    },
    {
      "metadata": {
        "id": "1n62Y2jJsoxd",
        "colab_type": "code",
        "colab": {}
      },
      "cell_type": "code",
      "source": [
        "# test[\"HY_id\"]=df_model[\"HY_id\"]\n",
        "# test= test[[\"HY_id\",\"regtree_preds\"]]\n",
        "# test= test.rename(columns={\"regtree_preds\":\"TM_Est\"})\n",
        "# test.to_csv(r'Minsait_UJI_Math.random()_1.txt', header=True, index=None, sep='|', mode='w')\n",
        "# df=pd.read_csv('Minsait_UJI_Math.random()_1.txt', sep=\"|\")"
      ],
      "execution_count": 0,
      "outputs": []
    },
    {
      "metadata": {
        "id": "lW8gAql82BtJ",
        "colab_type": "code",
        "colab": {}
      },
      "cell_type": "code",
      "source": [
        "# df.head()\n",
        "\n",
        "# df.shape"
      ],
      "execution_count": 0,
      "outputs": []
    }
  ]
}