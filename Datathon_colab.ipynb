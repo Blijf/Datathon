{
  "nbformat": 4,
  "nbformat_minor": 0,
  "metadata": {
    "colab": {
      "name": "Datathon_colab.ipynb",
      "version": "0.3.2",
      "provenance": [],
      "collapsed_sections": [
        "C_UD03_xo5mg",
        "Pmb7IAtKo5ml",
        "8MBjZEAGo5mn",
        "EYxhtAbE3bJd",
        "TICJEKZw0rTf",
        "f_8RsxDFYkgu",
        "UQXvx26sGo8q",
        "96npAlsyHnY_",
        "J4QFO25zdRea",
        "5XAyTdTrNSaE",
        "QEDRTj8TxD4k",
        "Etrwr5zQIIcG",
        "ez-CVUburF01"
      ],
      "toc_visible": true,
      "include_colab_link": true
    },
    "kernelspec": {
      "display_name": "Python 3",
      "language": "python",
      "name": "python3"
    }
  },
  "cells": [
    {
      "cell_type": "markdown",
      "metadata": {
        "id": "view-in-github",
        "colab_type": "text"
      },
      "source": [
        "<a href=\"https://colab.research.google.com/github/Blijf/Datathon/blob/master/Datathon_colab.ipynb\" target=\"_parent\"><img src=\"https://colab.research.google.com/assets/colab-badge.svg\" alt=\"Open In Colab\"/></a>"
      ]
    },
    {
      "metadata": {
        "id": "N7Y6kdQjo5mL",
        "colab_type": "text"
      },
      "cell_type": "markdown",
      "source": [
        "# CARGA DE DATOS"
      ]
    },
    {
      "metadata": {
        "id": "o5AvrqGao5mN",
        "colab_type": "text"
      },
      "cell_type": "markdown",
      "source": [
        "#### Imports"
      ]
    },
    {
      "metadata": {
        "id": "k2pfIohmo5mO",
        "colab_type": "code",
        "outputId": "06cbeb35-96da-4c00-adc5-093cd0545cb5",
        "colab": {
          "base_uri": "https://localhost:8080/",
          "height": 205
        }
      },
      "cell_type": "code",
      "source": [
        "#INTALL PACKAGES\n",
        "!pip install category_encoders\n",
        "#IMPORTS\n",
        "import pandas as pd\n",
        "pd.set_option('display.max_columns', 500)\n",
        "pd.set_option('display.max_rows', 500)\n",
        "import matplotlib.pyplot as plt\n",
        "%matplotlib inline\n",
        "import numpy as np\n",
        "import random\n",
        "from sklearn.ensemble import RandomForestClassifier\n",
        "from sklearn.tree import DecisionTreeClassifier\n",
        "from sklearn.datasets import make_classification\n",
        "from sklearn.preprocessing import LabelEncoder\n",
        "from sklearn.tree import DecisionTreeRegressor\n",
        "from sklearn.metrics import mean_absolute_error\n",
        "from sklearn.ensemble import RandomForestRegressor\n",
        "from sklearn.ensemble import GradientBoostingRegressor\n",
        "from pandas.plotting import scatter_matrix\n",
        "from sklearn.preprocessing import OneHotEncoder\n",
        "from sklearn.impute import SimpleImputer, MissingIndicator\n",
        "from sklearn.model_selection import train_test_split\n",
        "from sklearn.pipeline import FeatureUnion, make_pipeline\n",
        "from sklearn.tree import DecisionTreeClassifier\n",
        "from sklearn.multioutput import MultiOutputRegressor\n",
        "from sklearn.tree import export_graphviz\n",
        "import os\n",
        "from graphviz import Source\n",
        "import plotly.plotly as py\n",
        "import cufflinks as cf\n",
        "import category_encoders as ce"
      ],
      "execution_count": 1,
      "outputs": [
        {
          "output_type": "stream",
          "text": [
            "Requirement already satisfied: category_encoders in /usr/local/lib/python3.6/dist-packages (1.3.0)\n",
            "Requirement already satisfied: patsy>=0.4.1 in /usr/local/lib/python3.6/dist-packages (from category_encoders) (0.5.1)\n",
            "Requirement already satisfied: scikit-learn>=0.17.1 in /usr/local/lib/python3.6/dist-packages (from category_encoders) (0.20.2)\n",
            "Requirement already satisfied: scipy>=0.17.0 in /usr/local/lib/python3.6/dist-packages (from category_encoders) (1.1.0)\n",
            "Requirement already satisfied: statsmodels>=0.6.1 in /usr/local/lib/python3.6/dist-packages (from category_encoders) (0.8.0)\n",
            "Requirement already satisfied: pandas>=0.20.1 in /usr/local/lib/python3.6/dist-packages (from category_encoders) (0.22.0)\n",
            "Requirement already satisfied: numpy>=1.11.1 in /usr/local/lib/python3.6/dist-packages (from category_encoders) (1.14.6)\n",
            "Requirement already satisfied: six in /usr/local/lib/python3.6/dist-packages (from patsy>=0.4.1->category_encoders) (1.11.0)\n",
            "Requirement already satisfied: python-dateutil>=2 in /usr/local/lib/python3.6/dist-packages (from pandas>=0.20.1->category_encoders) (2.5.3)\n",
            "Requirement already satisfied: pytz>=2011k in /usr/local/lib/python3.6/dist-packages (from pandas>=0.20.1->category_encoders) (2018.9)\n"
          ],
          "name": "stdout"
        }
      ]
    },
    {
      "metadata": {
        "id": "p6xluzPdo5mS",
        "colab_type": "text"
      },
      "cell_type": "markdown",
      "source": [
        "#### Lectura del dataset"
      ]
    },
    {
      "metadata": {
        "id": "jLm4dSEAo5mT",
        "colab_type": "code",
        "colab": {}
      },
      "cell_type": "code",
      "source": [
        "df_model=pd.read_csv('Modelar_UH2019.txt', sep=\"|\" )\n",
        "df_esti=pd.read_csv('Estimar_UH2019.txt', sep=\"|\")"
      ],
      "execution_count": 0,
      "outputs": []
    },
    {
      "metadata": {
        "id": "C_UD03_xo5mg",
        "colab_type": "text"
      },
      "cell_type": "markdown",
      "source": [
        "#### Combinación de ambos datasets en uno único"
      ]
    },
    {
      "metadata": {
        "id": "j1_2ib7Qo5mh",
        "colab_type": "text"
      },
      "cell_type": "markdown",
      "source": [
        "    Concatenamos ambos datasets, es decir, el de modelar y el de estimar en un conjunto único. De esta forma, tenemos un mayor número de datos a los que manejar."
      ]
    },
    {
      "metadata": {
        "id": "UkiPHUaUo5mi",
        "colab_type": "code",
        "colab": {}
      },
      "cell_type": "code",
      "source": [
        "#axis=0 (eje horizontal) y #axis=1 (eje vertical)\n",
        "#df_total= pd.concat([df_model, df_esti],axis=0) \n",
        "#df_total.shape\n",
        "#df_total.tail()"
      ],
      "execution_count": 0,
      "outputs": []
    },
    {
      "metadata": {
        "id": "Pmb7IAtKo5ml",
        "colab_type": "text"
      },
      "cell_type": "markdown",
      "source": [
        "# POST-ANÁLISIS "
      ]
    },
    {
      "metadata": {
        "id": "8MBjZEAGo5mn",
        "colab_type": "text"
      },
      "cell_type": "markdown",
      "source": [
        "#### Observar la distribución que siguen los datos"
      ]
    },
    {
      "metadata": {
        "scrolled": false,
        "id": "GRtYVnbMo5mo",
        "colab_type": "code",
        "outputId": "16f233d9-ee1e-449a-b807-2404c3b5e6bb",
        "colab": {
          "base_uri": "https://localhost:8080/",
          "height": 304
        }
      },
      "cell_type": "code",
      "source": [
        "df_model.describe()"
      ],
      "execution_count": 4,
      "outputs": [
        {
          "output_type": "execute_result",
          "data": {
            "text/html": [
              "<div>\n",
              "<style scoped>\n",
              "    .dataframe tbody tr th:only-of-type {\n",
              "        vertical-align: middle;\n",
              "    }\n",
              "\n",
              "    .dataframe tbody tr th {\n",
              "        vertical-align: top;\n",
              "    }\n",
              "\n",
              "    .dataframe thead th {\n",
              "        text-align: right;\n",
              "    }\n",
              "</style>\n",
              "<table border=\"1\" class=\"dataframe\">\n",
              "  <thead>\n",
              "    <tr style=\"text-align: right;\">\n",
              "      <th></th>\n",
              "      <th>HY_id</th>\n",
              "      <th>HY_cod_postal</th>\n",
              "      <th>HY_antiguedad</th>\n",
              "      <th>HY_metros_utiles</th>\n",
              "      <th>HY_metros_totales</th>\n",
              "      <th>HY_num_banos</th>\n",
              "      <th>HY_num_terrazas</th>\n",
              "      <th>HY_ascensor</th>\n",
              "      <th>HY_trastero</th>\n",
              "      <th>HY_num_garajes</th>\n",
              "      <th>HY_precio</th>\n",
              "      <th>HY_precio_anterior</th>\n",
              "      <th>IDEA_area</th>\n",
              "      <th>IDEA_poblacion</th>\n",
              "      <th>IDEA_densidad</th>\n",
              "      <th>IDEA_pc_1960</th>\n",
              "      <th>IDEA_pc_1960_69</th>\n",
              "      <th>IDEA_pc_1970_79</th>\n",
              "      <th>IDEA_pc_1980_89</th>\n",
              "      <th>IDEA_pc_1990_99</th>\n",
              "      <th>IDEA_pc_2000_10</th>\n",
              "      <th>IDEA_pc_comercio</th>\n",
              "      <th>IDEA_pc_industria</th>\n",
              "      <th>IDEA_pc_oficina</th>\n",
              "      <th>IDEA_pc_otros</th>\n",
              "      <th>IDEA_pc_residencial</th>\n",
              "      <th>IDEA_pc_trast_parking</th>\n",
              "      <th>IDEA_ind_tienda</th>\n",
              "      <th>IDEA_ind_turismo</th>\n",
              "      <th>IDEA_ind_alimentacion</th>\n",
              "      <th>IDEA_ind_riqueza</th>\n",
              "      <th>IDEA_rent_alquiler</th>\n",
              "      <th>IDEA_ind_elasticidad</th>\n",
              "      <th>IDEA_ind_liquidez</th>\n",
              "      <th>IDEA_unitprice_sale_residential</th>\n",
              "      <th>IDEA_price_sale_residential</th>\n",
              "      <th>IDEA_stock_sale_residential</th>\n",
              "      <th>IDEA_demand_sale_residential</th>\n",
              "      <th>IDEA_unitprice_rent_residential</th>\n",
              "      <th>IDEA_price_rent_residential</th>\n",
              "      <th>IDEA_stock_rent_residential</th>\n",
              "      <th>IDEA_demand_rent_residential</th>\n",
              "      <th>GA_page_views</th>\n",
              "      <th>GA_mean_bounce</th>\n",
              "      <th>GA_exit_rate</th>\n",
              "      <th>GA_quincena_ini</th>\n",
              "      <th>GA_quincena_ult</th>\n",
              "      <th>TARGET</th>\n",
              "    </tr>\n",
              "  </thead>\n",
              "  <tbody>\n",
              "    <tr>\n",
              "      <th>count</th>\n",
              "      <td>9.958000e+03</td>\n",
              "      <td>9958.000000</td>\n",
              "      <td>4474.000000</td>\n",
              "      <td>7.072000e+03</td>\n",
              "      <td>9.924000e+03</td>\n",
              "      <td>9958.000000</td>\n",
              "      <td>9958.000000</td>\n",
              "      <td>9958.000000</td>\n",
              "      <td>9958.000000</td>\n",
              "      <td>9958.000000</td>\n",
              "      <td>9.958000e+03</td>\n",
              "      <td>6.800000e+03</td>\n",
              "      <td>7327.000000</td>\n",
              "      <td>7323.000000</td>\n",
              "      <td>7323.000000</td>\n",
              "      <td>7248.000000</td>\n",
              "      <td>7248.000000</td>\n",
              "      <td>7248.000000</td>\n",
              "      <td>7248.000000</td>\n",
              "      <td>7248.000000</td>\n",
              "      <td>7248.000000</td>\n",
              "      <td>7248.000000</td>\n",
              "      <td>7248.000000</td>\n",
              "      <td>7248.000000</td>\n",
              "      <td>7248.000000</td>\n",
              "      <td>7248.000000</td>\n",
              "      <td>7248.000000</td>\n",
              "      <td>7241.000000</td>\n",
              "      <td>7241.000000</td>\n",
              "      <td>7241.000000</td>\n",
              "      <td>7327.000000</td>\n",
              "      <td>6896.000000</td>\n",
              "      <td>4852.000000</td>\n",
              "      <td>4852.000000</td>\n",
              "      <td>7323.000000</td>\n",
              "      <td>7.323000e+03</td>\n",
              "      <td>7323.000000</td>\n",
              "      <td>7323.000000</td>\n",
              "      <td>6960.000000</td>\n",
              "      <td>6960.000000</td>\n",
              "      <td>6960.000000</td>\n",
              "      <td>7323.00000</td>\n",
              "      <td>9958.000000</td>\n",
              "      <td>9958.000000</td>\n",
              "      <td>9958.000000</td>\n",
              "      <td>9958.000000</td>\n",
              "      <td>9958.000000</td>\n",
              "      <td>9958.000000</td>\n",
              "    </tr>\n",
              "    <tr>\n",
              "      <th>mean</th>\n",
              "      <td>6.272842e+06</td>\n",
              "      <td>24008.655654</td>\n",
              "      <td>1997.306214</td>\n",
              "      <td>4.714240e+02</td>\n",
              "      <td>5.433917e+02</td>\n",
              "      <td>0.819642</td>\n",
              "      <td>0.019984</td>\n",
              "      <td>0.270436</td>\n",
              "      <td>0.062161</td>\n",
              "      <td>0.097007</td>\n",
              "      <td>7.672430e+04</td>\n",
              "      <td>8.939254e+04</td>\n",
              "      <td>5128.812502</td>\n",
              "      <td>10139.938004</td>\n",
              "      <td>34.918585</td>\n",
              "      <td>0.114331</td>\n",
              "      <td>0.114331</td>\n",
              "      <td>0.159658</td>\n",
              "      <td>0.132972</td>\n",
              "      <td>0.149433</td>\n",
              "      <td>0.328667</td>\n",
              "      <td>0.021454</td>\n",
              "      <td>0.007529</td>\n",
              "      <td>0.007345</td>\n",
              "      <td>0.054572</td>\n",
              "      <td>0.499603</td>\n",
              "      <td>0.407939</td>\n",
              "      <td>0.328359</td>\n",
              "      <td>0.324650</td>\n",
              "      <td>0.258952</td>\n",
              "      <td>0.164402</td>\n",
              "      <td>5.386890</td>\n",
              "      <td>3.054740</td>\n",
              "      <td>0.014984</td>\n",
              "      <td>1016.892884</td>\n",
              "      <td>1.448905e+05</td>\n",
              "      <td>1097.745596</td>\n",
              "      <td>48.774987</td>\n",
              "      <td>5.164539</td>\n",
              "      <td>601.835398</td>\n",
              "      <td>116.106897</td>\n",
              "      <td>47.52931</td>\n",
              "      <td>190.964652</td>\n",
              "      <td>18.715863</td>\n",
              "      <td>22.209963</td>\n",
              "      <td>14.421370</td>\n",
              "      <td>42.546596</td>\n",
              "      <td>74.155855</td>\n",
              "    </tr>\n",
              "    <tr>\n",
              "      <th>std</th>\n",
              "      <td>3.421042e+05</td>\n",
              "      <td>16685.040678</td>\n",
              "      <td>21.089912</td>\n",
              "      <td>2.192031e+04</td>\n",
              "      <td>1.921910e+04</td>\n",
              "      <td>2.913022</td>\n",
              "      <td>0.185066</td>\n",
              "      <td>0.444207</td>\n",
              "      <td>0.241460</td>\n",
              "      <td>0.297337</td>\n",
              "      <td>1.634361e+05</td>\n",
              "      <td>4.314146e+05</td>\n",
              "      <td>10660.457211</td>\n",
              "      <td>8507.308312</td>\n",
              "      <td>71.559554</td>\n",
              "      <td>0.093050</td>\n",
              "      <td>0.093050</td>\n",
              "      <td>0.109443</td>\n",
              "      <td>0.072701</td>\n",
              "      <td>0.074602</td>\n",
              "      <td>0.182306</td>\n",
              "      <td>0.016444</td>\n",
              "      <td>0.013751</td>\n",
              "      <td>0.011161</td>\n",
              "      <td>0.047847</td>\n",
              "      <td>0.079948</td>\n",
              "      <td>0.086394</td>\n",
              "      <td>0.283297</td>\n",
              "      <td>0.328937</td>\n",
              "      <td>0.244020</td>\n",
              "      <td>0.075067</td>\n",
              "      <td>1.295281</td>\n",
              "      <td>1.163774</td>\n",
              "      <td>0.489711</td>\n",
              "      <td>449.799793</td>\n",
              "      <td>8.500210e+04</td>\n",
              "      <td>849.334511</td>\n",
              "      <td>4.444144</td>\n",
              "      <td>1.815746</td>\n",
              "      <td>295.329588</td>\n",
              "      <td>249.668927</td>\n",
              "      <td>13.73609</td>\n",
              "      <td>482.313088</td>\n",
              "      <td>19.983743</td>\n",
              "      <td>20.995044</td>\n",
              "      <td>14.091417</td>\n",
              "      <td>8.404279</td>\n",
              "      <td>89.738992</td>\n",
              "    </tr>\n",
              "    <tr>\n",
              "      <th>min</th>\n",
              "      <td>6.028499e+06</td>\n",
              "      <td>2001.000000</td>\n",
              "      <td>1877.000000</td>\n",
              "      <td>0.000000e+00</td>\n",
              "      <td>0.000000e+00</td>\n",
              "      <td>0.000000</td>\n",
              "      <td>0.000000</td>\n",
              "      <td>0.000000</td>\n",
              "      <td>0.000000</td>\n",
              "      <td>0.000000</td>\n",
              "      <td>0.000000e+00</td>\n",
              "      <td>1.000000e+00</td>\n",
              "      <td>6.840000</td>\n",
              "      <td>1.000000</td>\n",
              "      <td>0.010000</td>\n",
              "      <td>0.000000</td>\n",
              "      <td>0.000000</td>\n",
              "      <td>0.000000</td>\n",
              "      <td>0.000000</td>\n",
              "      <td>0.000000</td>\n",
              "      <td>0.000000</td>\n",
              "      <td>0.000000</td>\n",
              "      <td>0.000000</td>\n",
              "      <td>0.000000</td>\n",
              "      <td>0.000000</td>\n",
              "      <td>0.020000</td>\n",
              "      <td>0.020000</td>\n",
              "      <td>0.000000</td>\n",
              "      <td>0.000000</td>\n",
              "      <td>0.000000</td>\n",
              "      <td>0.030000</td>\n",
              "      <td>2.500000</td>\n",
              "      <td>1.000000</td>\n",
              "      <td>-1.000000</td>\n",
              "      <td>273.830000</td>\n",
              "      <td>2.857500e+04</td>\n",
              "      <td>3.000000</td>\n",
              "      <td>0.000000</td>\n",
              "      <td>1.000000</td>\n",
              "      <td>180.000000</td>\n",
              "      <td>3.000000</td>\n",
              "      <td>0.00000</td>\n",
              "      <td>0.000000</td>\n",
              "      <td>0.000000</td>\n",
              "      <td>0.000000</td>\n",
              "      <td>1.000000</td>\n",
              "      <td>1.000000</td>\n",
              "      <td>0.000000</td>\n",
              "    </tr>\n",
              "    <tr>\n",
              "      <th>25%</th>\n",
              "      <td>6.039048e+06</td>\n",
              "      <td>4800.000000</td>\n",
              "      <td>1992.000000</td>\n",
              "      <td>1.428500e+01</td>\n",
              "      <td>3.170000e+01</td>\n",
              "      <td>0.000000</td>\n",
              "      <td>0.000000</td>\n",
              "      <td>0.000000</td>\n",
              "      <td>0.000000</td>\n",
              "      <td>0.000000</td>\n",
              "      <td>1.050000e+04</td>\n",
              "      <td>1.230000e+04</td>\n",
              "      <td>285.700000</td>\n",
              "      <td>3430.000000</td>\n",
              "      <td>1.040000</td>\n",
              "      <td>0.040000</td>\n",
              "      <td>0.040000</td>\n",
              "      <td>0.090000</td>\n",
              "      <td>0.090000</td>\n",
              "      <td>0.100000</td>\n",
              "      <td>0.190000</td>\n",
              "      <td>0.010000</td>\n",
              "      <td>0.000000</td>\n",
              "      <td>0.000000</td>\n",
              "      <td>0.020000</td>\n",
              "      <td>0.450000</td>\n",
              "      <td>0.350000</td>\n",
              "      <td>0.000000</td>\n",
              "      <td>0.040000</td>\n",
              "      <td>0.000000</td>\n",
              "      <td>0.120000</td>\n",
              "      <td>4.540000</td>\n",
              "      <td>2.000000</td>\n",
              "      <td>0.000000</td>\n",
              "      <td>735.090000</td>\n",
              "      <td>9.996269e+04</td>\n",
              "      <td>456.000000</td>\n",
              "      <td>48.710000</td>\n",
              "      <td>3.980000</td>\n",
              "      <td>442.730000</td>\n",
              "      <td>24.000000</td>\n",
              "      <td>50.94000</td>\n",
              "      <td>6.000000</td>\n",
              "      <td>0.000000</td>\n",
              "      <td>8.612500</td>\n",
              "      <td>2.000000</td>\n",
              "      <td>42.000000</td>\n",
              "      <td>28.655000</td>\n",
              "    </tr>\n",
              "    <tr>\n",
              "      <th>50%</th>\n",
              "      <td>6.080821e+06</td>\n",
              "      <td>28980.500000</td>\n",
              "      <td>2007.000000</td>\n",
              "      <td>6.300000e+01</td>\n",
              "      <td>8.100000e+01</td>\n",
              "      <td>1.000000</td>\n",
              "      <td>0.000000</td>\n",
              "      <td>0.000000</td>\n",
              "      <td>0.000000</td>\n",
              "      <td>0.000000</td>\n",
              "      <td>5.970000e+04</td>\n",
              "      <td>6.410000e+04</td>\n",
              "      <td>1391.520000</td>\n",
              "      <td>7693.000000</td>\n",
              "      <td>4.520000</td>\n",
              "      <td>0.100000</td>\n",
              "      <td>0.100000</td>\n",
              "      <td>0.140000</td>\n",
              "      <td>0.120000</td>\n",
              "      <td>0.140000</td>\n",
              "      <td>0.300000</td>\n",
              "      <td>0.020000</td>\n",
              "      <td>0.000000</td>\n",
              "      <td>0.010000</td>\n",
              "      <td>0.040000</td>\n",
              "      <td>0.500000</td>\n",
              "      <td>0.420000</td>\n",
              "      <td>0.330000</td>\n",
              "      <td>0.230000</td>\n",
              "      <td>0.230000</td>\n",
              "      <td>0.140000</td>\n",
              "      <td>5.185000</td>\n",
              "      <td>3.000000</td>\n",
              "      <td>0.000000</td>\n",
              "      <td>910.090000</td>\n",
              "      <td>1.250455e+05</td>\n",
              "      <td>954.000000</td>\n",
              "      <td>49.160000</td>\n",
              "      <td>4.810000</td>\n",
              "      <td>524.140000</td>\n",
              "      <td>57.000000</td>\n",
              "      <td>51.39000</td>\n",
              "      <td>30.000000</td>\n",
              "      <td>14.290000</td>\n",
              "      <td>16.960000</td>\n",
              "      <td>9.000000</td>\n",
              "      <td>46.000000</td>\n",
              "      <td>56.275000</td>\n",
              "    </tr>\n",
              "    <tr>\n",
              "      <th>75%</th>\n",
              "      <td>6.528256e+06</td>\n",
              "      <td>43540.000000</td>\n",
              "      <td>2009.000000</td>\n",
              "      <td>9.000000e+01</td>\n",
              "      <td>1.149800e+02</td>\n",
              "      <td>1.000000</td>\n",
              "      <td>0.000000</td>\n",
              "      <td>1.000000</td>\n",
              "      <td>0.000000</td>\n",
              "      <td>0.000000</td>\n",
              "      <td>9.170000e+04</td>\n",
              "      <td>9.710000e+04</td>\n",
              "      <td>4725.930000</td>\n",
              "      <td>14999.000000</td>\n",
              "      <td>25.130000</td>\n",
              "      <td>0.170000</td>\n",
              "      <td>0.170000</td>\n",
              "      <td>0.210000</td>\n",
              "      <td>0.160000</td>\n",
              "      <td>0.180000</td>\n",
              "      <td>0.450000</td>\n",
              "      <td>0.030000</td>\n",
              "      <td>0.010000</td>\n",
              "      <td>0.010000</td>\n",
              "      <td>0.070000</td>\n",
              "      <td>0.550000</td>\n",
              "      <td>0.460000</td>\n",
              "      <td>0.510000</td>\n",
              "      <td>0.540000</td>\n",
              "      <td>0.410000</td>\n",
              "      <td>0.190000</td>\n",
              "      <td>5.960000</td>\n",
              "      <td>4.000000</td>\n",
              "      <td>0.000000</td>\n",
              "      <td>1141.410000</td>\n",
              "      <td>1.610110e+05</td>\n",
              "      <td>1509.000000</td>\n",
              "      <td>49.660000</td>\n",
              "      <td>5.940000</td>\n",
              "      <td>677.330000</td>\n",
              "      <td>120.000000</td>\n",
              "      <td>51.88000</td>\n",
              "      <td>168.000000</td>\n",
              "      <td>29.170000</td>\n",
              "      <td>30.000000</td>\n",
              "      <td>26.000000</td>\n",
              "      <td>47.000000</td>\n",
              "      <td>90.507500</td>\n",
              "    </tr>\n",
              "    <tr>\n",
              "      <th>max</th>\n",
              "      <td>7.017665e+06</td>\n",
              "      <td>50370.000000</td>\n",
              "      <td>2088.000000</td>\n",
              "      <td>1.820000e+06</td>\n",
              "      <td>1.820000e+06</td>\n",
              "      <td>99.000000</td>\n",
              "      <td>10.000000</td>\n",
              "      <td>1.000000</td>\n",
              "      <td>1.000000</td>\n",
              "      <td>2.000000</td>\n",
              "      <td>1.040000e+07</td>\n",
              "      <td>3.083310e+07</td>\n",
              "      <td>107512.650000</td>\n",
              "      <td>54589.000000</td>\n",
              "      <td>526.030000</td>\n",
              "      <td>0.480000</td>\n",
              "      <td>0.480000</td>\n",
              "      <td>0.990000</td>\n",
              "      <td>0.940000</td>\n",
              "      <td>0.800000</td>\n",
              "      <td>1.000000</td>\n",
              "      <td>0.170000</td>\n",
              "      <td>0.230000</td>\n",
              "      <td>0.220000</td>\n",
              "      <td>0.430000</td>\n",
              "      <td>0.910000</td>\n",
              "      <td>0.850000</td>\n",
              "      <td>1.000000</td>\n",
              "      <td>1.000000</td>\n",
              "      <td>1.000000</td>\n",
              "      <td>1.000000</td>\n",
              "      <td>12.000000</td>\n",
              "      <td>5.000000</td>\n",
              "      <td>1.000000</td>\n",
              "      <td>6363.400000</td>\n",
              "      <td>1.360886e+06</td>\n",
              "      <td>5139.000000</td>\n",
              "      <td>52.380000</td>\n",
              "      <td>18.750000</td>\n",
              "      <td>3023.800000</td>\n",
              "      <td>5685.000000</td>\n",
              "      <td>54.22000</td>\n",
              "      <td>13698.000000</td>\n",
              "      <td>100.000000</td>\n",
              "      <td>100.000000</td>\n",
              "      <td>47.000000</td>\n",
              "      <td>47.000000</td>\n",
              "      <td>1770.000000</td>\n",
              "    </tr>\n",
              "  </tbody>\n",
              "</table>\n",
              "</div>"
            ],
            "text/plain": [
              "              HY_id  HY_cod_postal  HY_antiguedad  HY_metros_utiles  \\\n",
              "count  9.958000e+03    9958.000000    4474.000000      7.072000e+03   \n",
              "mean   6.272842e+06   24008.655654    1997.306214      4.714240e+02   \n",
              "std    3.421042e+05   16685.040678      21.089912      2.192031e+04   \n",
              "min    6.028499e+06    2001.000000    1877.000000      0.000000e+00   \n",
              "25%    6.039048e+06    4800.000000    1992.000000      1.428500e+01   \n",
              "50%    6.080821e+06   28980.500000    2007.000000      6.300000e+01   \n",
              "75%    6.528256e+06   43540.000000    2009.000000      9.000000e+01   \n",
              "max    7.017665e+06   50370.000000    2088.000000      1.820000e+06   \n",
              "\n",
              "       HY_metros_totales  HY_num_banos  HY_num_terrazas  HY_ascensor  \\\n",
              "count       9.924000e+03   9958.000000      9958.000000  9958.000000   \n",
              "mean        5.433917e+02      0.819642         0.019984     0.270436   \n",
              "std         1.921910e+04      2.913022         0.185066     0.444207   \n",
              "min         0.000000e+00      0.000000         0.000000     0.000000   \n",
              "25%         3.170000e+01      0.000000         0.000000     0.000000   \n",
              "50%         8.100000e+01      1.000000         0.000000     0.000000   \n",
              "75%         1.149800e+02      1.000000         0.000000     1.000000   \n",
              "max         1.820000e+06     99.000000        10.000000     1.000000   \n",
              "\n",
              "       HY_trastero  HY_num_garajes     HY_precio  HY_precio_anterior  \\\n",
              "count  9958.000000     9958.000000  9.958000e+03        6.800000e+03   \n",
              "mean      0.062161        0.097007  7.672430e+04        8.939254e+04   \n",
              "std       0.241460        0.297337  1.634361e+05        4.314146e+05   \n",
              "min       0.000000        0.000000  0.000000e+00        1.000000e+00   \n",
              "25%       0.000000        0.000000  1.050000e+04        1.230000e+04   \n",
              "50%       0.000000        0.000000  5.970000e+04        6.410000e+04   \n",
              "75%       0.000000        0.000000  9.170000e+04        9.710000e+04   \n",
              "max       1.000000        2.000000  1.040000e+07        3.083310e+07   \n",
              "\n",
              "           IDEA_area  IDEA_poblacion  IDEA_densidad  IDEA_pc_1960  \\\n",
              "count    7327.000000     7323.000000    7323.000000   7248.000000   \n",
              "mean     5128.812502    10139.938004      34.918585      0.114331   \n",
              "std     10660.457211     8507.308312      71.559554      0.093050   \n",
              "min         6.840000        1.000000       0.010000      0.000000   \n",
              "25%       285.700000     3430.000000       1.040000      0.040000   \n",
              "50%      1391.520000     7693.000000       4.520000      0.100000   \n",
              "75%      4725.930000    14999.000000      25.130000      0.170000   \n",
              "max    107512.650000    54589.000000     526.030000      0.480000   \n",
              "\n",
              "       IDEA_pc_1960_69  IDEA_pc_1970_79  IDEA_pc_1980_89  IDEA_pc_1990_99  \\\n",
              "count      7248.000000      7248.000000      7248.000000      7248.000000   \n",
              "mean          0.114331         0.159658         0.132972         0.149433   \n",
              "std           0.093050         0.109443         0.072701         0.074602   \n",
              "min           0.000000         0.000000         0.000000         0.000000   \n",
              "25%           0.040000         0.090000         0.090000         0.100000   \n",
              "50%           0.100000         0.140000         0.120000         0.140000   \n",
              "75%           0.170000         0.210000         0.160000         0.180000   \n",
              "max           0.480000         0.990000         0.940000         0.800000   \n",
              "\n",
              "       IDEA_pc_2000_10  IDEA_pc_comercio  IDEA_pc_industria  IDEA_pc_oficina  \\\n",
              "count      7248.000000       7248.000000        7248.000000      7248.000000   \n",
              "mean          0.328667          0.021454           0.007529         0.007345   \n",
              "std           0.182306          0.016444           0.013751         0.011161   \n",
              "min           0.000000          0.000000           0.000000         0.000000   \n",
              "25%           0.190000          0.010000           0.000000         0.000000   \n",
              "50%           0.300000          0.020000           0.000000         0.010000   \n",
              "75%           0.450000          0.030000           0.010000         0.010000   \n",
              "max           1.000000          0.170000           0.230000         0.220000   \n",
              "\n",
              "       IDEA_pc_otros  IDEA_pc_residencial  IDEA_pc_trast_parking  \\\n",
              "count    7248.000000          7248.000000            7248.000000   \n",
              "mean        0.054572             0.499603               0.407939   \n",
              "std         0.047847             0.079948               0.086394   \n",
              "min         0.000000             0.020000               0.020000   \n",
              "25%         0.020000             0.450000               0.350000   \n",
              "50%         0.040000             0.500000               0.420000   \n",
              "75%         0.070000             0.550000               0.460000   \n",
              "max         0.430000             0.910000               0.850000   \n",
              "\n",
              "       IDEA_ind_tienda  IDEA_ind_turismo  IDEA_ind_alimentacion  \\\n",
              "count      7241.000000       7241.000000            7241.000000   \n",
              "mean          0.328359          0.324650               0.258952   \n",
              "std           0.283297          0.328937               0.244020   \n",
              "min           0.000000          0.000000               0.000000   \n",
              "25%           0.000000          0.040000               0.000000   \n",
              "50%           0.330000          0.230000               0.230000   \n",
              "75%           0.510000          0.540000               0.410000   \n",
              "max           1.000000          1.000000               1.000000   \n",
              "\n",
              "       IDEA_ind_riqueza  IDEA_rent_alquiler  IDEA_ind_elasticidad  \\\n",
              "count       7327.000000         6896.000000           4852.000000   \n",
              "mean           0.164402            5.386890              3.054740   \n",
              "std            0.075067            1.295281              1.163774   \n",
              "min            0.030000            2.500000              1.000000   \n",
              "25%            0.120000            4.540000              2.000000   \n",
              "50%            0.140000            5.185000              3.000000   \n",
              "75%            0.190000            5.960000              4.000000   \n",
              "max            1.000000           12.000000              5.000000   \n",
              "\n",
              "       IDEA_ind_liquidez  IDEA_unitprice_sale_residential  \\\n",
              "count        4852.000000                      7323.000000   \n",
              "mean            0.014984                      1016.892884   \n",
              "std             0.489711                       449.799793   \n",
              "min            -1.000000                       273.830000   \n",
              "25%             0.000000                       735.090000   \n",
              "50%             0.000000                       910.090000   \n",
              "75%             0.000000                      1141.410000   \n",
              "max             1.000000                      6363.400000   \n",
              "\n",
              "       IDEA_price_sale_residential  IDEA_stock_sale_residential  \\\n",
              "count                 7.323000e+03                  7323.000000   \n",
              "mean                  1.448905e+05                  1097.745596   \n",
              "std                   8.500210e+04                   849.334511   \n",
              "min                   2.857500e+04                     3.000000   \n",
              "25%                   9.996269e+04                   456.000000   \n",
              "50%                   1.250455e+05                   954.000000   \n",
              "75%                   1.610110e+05                  1509.000000   \n",
              "max                   1.360886e+06                  5139.000000   \n",
              "\n",
              "       IDEA_demand_sale_residential  IDEA_unitprice_rent_residential  \\\n",
              "count                   7323.000000                      6960.000000   \n",
              "mean                      48.774987                         5.164539   \n",
              "std                        4.444144                         1.815746   \n",
              "min                        0.000000                         1.000000   \n",
              "25%                       48.710000                         3.980000   \n",
              "50%                       49.160000                         4.810000   \n",
              "75%                       49.660000                         5.940000   \n",
              "max                       52.380000                        18.750000   \n",
              "\n",
              "       IDEA_price_rent_residential  IDEA_stock_rent_residential  \\\n",
              "count                  6960.000000                  6960.000000   \n",
              "mean                    601.835398                   116.106897   \n",
              "std                     295.329588                   249.668927   \n",
              "min                     180.000000                     3.000000   \n",
              "25%                     442.730000                    24.000000   \n",
              "50%                     524.140000                    57.000000   \n",
              "75%                     677.330000                   120.000000   \n",
              "max                    3023.800000                  5685.000000   \n",
              "\n",
              "       IDEA_demand_rent_residential  GA_page_views  GA_mean_bounce  \\\n",
              "count                    7323.00000    9958.000000     9958.000000   \n",
              "mean                       47.52931     190.964652       18.715863   \n",
              "std                        13.73609     482.313088       19.983743   \n",
              "min                         0.00000       0.000000        0.000000   \n",
              "25%                        50.94000       6.000000        0.000000   \n",
              "50%                        51.39000      30.000000       14.290000   \n",
              "75%                        51.88000     168.000000       29.170000   \n",
              "max                        54.22000   13698.000000      100.000000   \n",
              "\n",
              "       GA_exit_rate  GA_quincena_ini  GA_quincena_ult       TARGET  \n",
              "count   9958.000000      9958.000000      9958.000000  9958.000000  \n",
              "mean      22.209963        14.421370        42.546596    74.155855  \n",
              "std       20.995044        14.091417         8.404279    89.738992  \n",
              "min        0.000000         1.000000         1.000000     0.000000  \n",
              "25%        8.612500         2.000000        42.000000    28.655000  \n",
              "50%       16.960000         9.000000        46.000000    56.275000  \n",
              "75%       30.000000        26.000000        47.000000    90.507500  \n",
              "max      100.000000        47.000000        47.000000  1770.000000  "
            ]
          },
          "metadata": {
            "tags": []
          },
          "execution_count": 4
        }
      ]
    },
    {
      "metadata": {
        "id": "I5A-cFrlo5m6",
        "colab_type": "text"
      },
      "cell_type": "markdown",
      "source": [
        "# MODELIZACIÓN DE LOS DATOS"
      ]
    },
    {
      "metadata": {
        "id": "Ab3uNEuKo5mr",
        "colab_type": "text"
      },
      "cell_type": "markdown",
      "source": [
        "#### Crear un subconjunto donde no existen las categorías redundantes"
      ]
    },
    {
      "metadata": {
        "id": "g_RZyIYho5mt",
        "colab_type": "code",
        "colab": {}
      },
      "cell_type": "code",
      "source": [
        "noDesired_columns= [\"HY_id\",\"HY_provincia\",\"HY_descripcion\",\"HY_distribucion\"]\n",
        "\n",
        "def no_desired_columns(df,noDesired_columns ):\n",
        "  total_columns= df.columns.values.tolist()\n",
        "\n",
        "  sublist= [i for i in total_columns  if i not in noDesired_columns] # selecciona las columnas que no son las indicadas en noDesired_columns\n",
        "  res_model = df[sublist]\n",
        "  return res_model\n",
        "\n",
        "s_df_model=no_desired_columns(df_model,noDesired_columns)"
      ],
      "execution_count": 0,
      "outputs": []
    },
    {
      "metadata": {
        "id": "EYxhtAbE3bJd",
        "colab_type": "text"
      },
      "cell_type": "markdown",
      "source": [
        "#### Transformamos las categorias nominales a númericas"
      ]
    },
    {
      "metadata": {
        "id": "yhMDc_7u3la6",
        "colab_type": "text"
      },
      "cell_type": "markdown",
      "source": [
        "De esta forma se podra utilizar a posteriori los arboles de decisión en la clasificación (https://pbpython.com/categorical-encoding.html)"
      ]
    },
    {
      "metadata": {
        "id": "intOMzfa7G2b",
        "colab_type": "text"
      },
      "cell_type": "markdown",
      "source": [
        "Obervamos las categorias de tipo nominal o object"
      ]
    },
    {
      "metadata": {
        "id": "Wnw_u95q3ta7",
        "colab_type": "code",
        "outputId": "3661977d-4980-41bb-c28a-f32de43eeabe",
        "colab": {
          "base_uri": "https://localhost:8080/",
          "height": 54
        }
      },
      "cell_type": "code",
      "source": [
        "obj_df= s_df_model.select_dtypes(include=['object']).columns.tolist()\n",
        "obj_df\n",
        "#En el siguiente paso de missins eliminamos HY_cert_energ debido a la gran cantidad de nulls"
      ],
      "execution_count": 6,
      "outputs": [
        {
          "output_type": "execute_result",
          "data": {
            "text/plain": [
              "['HY_tipo', 'HY_cert_energ']"
            ]
          },
          "metadata": {
            "tags": []
          },
          "execution_count": 6
        }
      ]
    },
    {
      "metadata": {
        "id": "epfeGFYWN7hL",
        "colab_type": "text"
      },
      "cell_type": "markdown",
      "source": [
        "##### Tipo"
      ]
    },
    {
      "metadata": {
        "id": "iHwZ7ibg3tg3",
        "colab_type": "code",
        "outputId": "9ba10161-264d-43f3-d295-0e70056c3939",
        "colab": {
          "base_uri": "https://localhost:8080/",
          "height": 390
        }
      },
      "cell_type": "code",
      "source": [
        "s_df_model[\"HY_tipo\"].value_counts()"
      ],
      "execution_count": 7,
      "outputs": [
        {
          "output_type": "execute_result",
          "data": {
            "text/plain": [
              "Piso                            4182\n",
              "Garaje                          2761\n",
              "Local                            827\n",
              "Casa de pueblo                   557\n",
              "Chalet adosado                   433\n",
              "Trastero                         282\n",
              "Chalet independiente             209\n",
              "Solar                            198\n",
              "Dúplex                           184\n",
              "Nave adosada                     130\n",
              "Oficina                          103\n",
              "Nave aislada                      38\n",
              "Edificio turístico                17\n",
              "Otro                              12\n",
              "Chalet pareado                     9\n",
              "Ático                              8\n",
              "Almacén                            3\n",
              "Edificio comercial                 2\n",
              "Suelo rústico no urbanizable       2\n",
              "Aparcamiento                       1\n",
              "Name: HY_tipo, dtype: int64"
            ]
          },
          "metadata": {
            "tags": []
          },
          "execution_count": 7
        }
      ]
    },
    {
      "metadata": {
        "id": "HHXihsJBGRl0",
        "colab_type": "text"
      },
      "cell_type": "markdown",
      "source": [
        "Label Encoding\n",
        "\n",
        "\n",
        "\n",
        "*   Pasamos a categoria los valores nominales(HY_tipo y HY_cert_energ)\n",
        "\n",
        "\n",
        "\n",
        "\n"
      ]
    },
    {
      "metadata": {
        "id": "OZyORZb1PL4q",
        "colab_type": "code",
        "colab": {}
      },
      "cell_type": "code",
      "source": [
        "lb_make=LabelEncoder()\n",
        "s_df_model['HY_tipo']=lb_make.fit_transform(s_df_model[\"HY_tipo\"])"
      ],
      "execution_count": 0,
      "outputs": []
    },
    {
      "metadata": {
        "id": "_SNLb9BhH5UL",
        "colab_type": "code",
        "outputId": "e371577e-b4e7-4d70-fdf9-a83870d3fff6",
        "colab": {
          "base_uri": "https://localhost:8080/",
          "height": 390
        }
      },
      "cell_type": "code",
      "source": [
        "s_df_model[\"HY_tipo\"].value_counts()"
      ],
      "execution_count": 9,
      "outputs": [
        {
          "output_type": "execute_result",
          "data": {
            "text/plain": [
              "15    4182\n",
              "9     2761\n",
              "10     827\n",
              "2      557\n",
              "3      433\n",
              "18     282\n",
              "4      209\n",
              "16     198\n",
              "6      184\n",
              "11     130\n",
              "13     103\n",
              "12      38\n",
              "8       17\n",
              "14      12\n",
              "5        9\n",
              "19       8\n",
              "0        3\n",
              "7        2\n",
              "17       2\n",
              "1        1\n",
              "Name: HY_tipo, dtype: int64"
            ]
          },
          "metadata": {
            "tags": []
          },
          "execution_count": 9
        }
      ]
    },
    {
      "metadata": {
        "id": "S4WE0v0So5m0",
        "colab_type": "text"
      },
      "cell_type": "markdown",
      "source": [
        "### Missing values (Preprocessing and Normalization)"
      ]
    },
    {
      "metadata": {
        "id": "fh2RNoeJS3SZ",
        "colab_type": "text"
      },
      "cell_type": "markdown",
      "source": [
        "https://towardsdatascience.com/the-tale-of-missing-values-in-python-c96beb0e8a9d\n",
        "https://scikit-learn.org/stable/modules/impute.html\n",
        "https://scikit-learn.org/stable/modules/impute.html\n"
      ]
    },
    {
      "metadata": {
        "id": "2_5Ppj1o01X5",
        "colab_type": "text"
      },
      "cell_type": "markdown",
      "source": [
        "##### Cantidad de null y eliminación de columns"
      ]
    },
    {
      "metadata": {
        "id": "51Nx7YL2ONu-",
        "colab_type": "code",
        "outputId": "538b299a-9858-4fb0-fe81-224c1d0182d5",
        "colab": {
          "base_uri": "https://localhost:8080/",
          "height": 857
        }
      },
      "cell_type": "code",
      "source": [
        "s_df_model.isna().sum()"
      ],
      "execution_count": 10,
      "outputs": [
        {
          "output_type": "execute_result",
          "data": {
            "text/plain": [
              "HY_cod_postal                         0\n",
              "HY_tipo                               0\n",
              "HY_antiguedad                      5484\n",
              "HY_metros_utiles                   2886\n",
              "HY_metros_totales                    34\n",
              "HY_num_banos                          0\n",
              "HY_cert_energ                      8300\n",
              "HY_num_terrazas                       0\n",
              "HY_ascensor                           0\n",
              "HY_trastero                           0\n",
              "HY_num_garajes                        0\n",
              "HY_precio                             0\n",
              "HY_precio_anterior                 3158\n",
              "IDEA_area                          2631\n",
              "IDEA_poblacion                     2635\n",
              "IDEA_densidad                      2635\n",
              "IDEA_pc_1960                       2710\n",
              "IDEA_pc_1960_69                    2710\n",
              "IDEA_pc_1970_79                    2710\n",
              "IDEA_pc_1980_89                    2710\n",
              "IDEA_pc_1990_99                    2710\n",
              "IDEA_pc_2000_10                    2710\n",
              "IDEA_pc_comercio                   2710\n",
              "IDEA_pc_industria                  2710\n",
              "IDEA_pc_oficina                    2710\n",
              "IDEA_pc_otros                      2710\n",
              "IDEA_pc_residencial                2710\n",
              "IDEA_pc_trast_parking              2710\n",
              "IDEA_ind_tienda                    2717\n",
              "IDEA_ind_turismo                   2717\n",
              "IDEA_ind_alimentacion              2717\n",
              "IDEA_ind_riqueza                   2631\n",
              "IDEA_rent_alquiler                 3062\n",
              "IDEA_ind_elasticidad               5106\n",
              "IDEA_ind_liquidez                  5106\n",
              "IDEA_unitprice_sale_residential    2635\n",
              "IDEA_price_sale_residential        2635\n",
              "IDEA_stock_sale_residential        2635\n",
              "IDEA_demand_sale_residential       2635\n",
              "IDEA_unitprice_rent_residential    2998\n",
              "IDEA_price_rent_residential        2998\n",
              "IDEA_stock_rent_residential        2998\n",
              "IDEA_demand_rent_residential       2635\n",
              "GA_page_views                         0\n",
              "GA_mean_bounce                        0\n",
              "GA_exit_rate                          0\n",
              "GA_quincena_ini                       0\n",
              "GA_quincena_ult                       0\n",
              "TARGET                                0\n",
              "dtype: int64"
            ]
          },
          "metadata": {
            "tags": []
          },
          "execution_count": 10
        }
      ]
    },
    {
      "metadata": {
        "id": "QyhfRXNhvscg",
        "colab_type": "text"
      },
      "cell_type": "markdown",
      "source": [
        "Eliminamos el certificado de energia debido a la gran cantidad de nulls"
      ]
    },
    {
      "metadata": {
        "id": "p9556oKxvpXw",
        "colab_type": "code",
        "colab": {}
      },
      "cell_type": "code",
      "source": [
        "s_df_model=s_df_model.drop(['HY_cert_energ'],axis=1)"
      ],
      "execution_count": 0,
      "outputs": []
    },
    {
      "metadata": {
        "id": "B_yBuyjvoJ-j",
        "colab_type": "text"
      },
      "cell_type": "markdown",
      "source": [
        "#### Predición y relleno de nulls (https://stackoverflow.com/questions/40996051/predict-na-missing-values-with-machine-learning)"
      ]
    },
    {
      "metadata": {
        "id": "mQqeuw92xs5J",
        "colab_type": "text"
      },
      "cell_type": "markdown",
      "source": [
        "Nos quedamos con el dataframe sin nulls"
      ]
    },
    {
      "metadata": {
        "colab_type": "code",
        "id": "S8qM57-pgL1G",
        "colab": {}
      },
      "cell_type": "code",
      "source": [
        "nulls_columns=s_df_model.columns[s_df_model.isna().any()]\n",
        "\n",
        "for i in nulls_columns: \n",
        "  target_column=i\n",
        "  index_of_target = s_df_model.columns.get_loc(target_column)\n",
        "  #Separamos en notNans y nans\n",
        "  notnans= s_df_model.notnull().all(axis=1)\n",
        "  df_notnans= s_df_model[notnans]\n",
        "  df_nans= s_df_model.loc[~notnans]\n",
        "  df_nans=no_desired_columns(df_nans,target_column)\n",
        "\n",
        "  #Rellenamos los nans con la media\n",
        "  df_nans=df_nans.fillna(df_nans.mean())\n",
        "\n",
        "  #Objetivo y predcitores para el clasificador\n",
        "  predictors=no_desired_columns(df_notnans,target_column)\n",
        "  target=df_notnans[target_column]\n",
        "\n",
        "  #Clasificador\n",
        "  regtree= DecisionTreeRegressor(min_samples_split=25,min_samples_leaf=1,random_state=None)\n",
        "  regtree.fit(predictors,target)\n",
        "\n",
        "  #Predicción\n",
        "  to_predict= df_nans\n",
        "  name_pred_column=target_column\n",
        "  to_predict[name_pred_column]= regtree.predict(to_predict)\n",
        "\n",
        "  #Concatenamos el df de predecido y el original sin nans\n",
        "  s_df_model=pd.concat([df_notnans, to_predict],axis=0) \n"
      ],
      "execution_count": 0,
      "outputs": []
    },
    {
      "metadata": {
        "id": "xMw_CZSv0A1h",
        "colab_type": "code",
        "colab": {}
      },
      "cell_type": "code",
      "source": [
        ""
      ],
      "execution_count": 0,
      "outputs": []
    },
    {
      "metadata": {
        "id": "3ydYPcfuZ4rr",
        "colab_type": "code",
        "colab": {
          "base_uri": "https://localhost:8080/",
          "height": 215
        },
        "outputId": "ce5ab764-3f32-4472-a9e8-2e83df1b5754"
      },
      "cell_type": "code",
      "source": [
        "s_df_model.head()"
      ],
      "execution_count": 15,
      "outputs": [
        {
          "output_type": "execute_result",
          "data": {
            "text/html": [
              "<div>\n",
              "<style scoped>\n",
              "    .dataframe tbody tr th:only-of-type {\n",
              "        vertical-align: middle;\n",
              "    }\n",
              "\n",
              "    .dataframe tbody tr th {\n",
              "        vertical-align: top;\n",
              "    }\n",
              "\n",
              "    .dataframe thead th {\n",
              "        text-align: right;\n",
              "    }\n",
              "</style>\n",
              "<table border=\"1\" class=\"dataframe\">\n",
              "  <thead>\n",
              "    <tr style=\"text-align: right;\">\n",
              "      <th></th>\n",
              "      <th>GA_exit_rate</th>\n",
              "      <th>GA_mean_bounce</th>\n",
              "      <th>GA_page_views</th>\n",
              "      <th>GA_quincena_ini</th>\n",
              "      <th>GA_quincena_ult</th>\n",
              "      <th>HY_antiguedad</th>\n",
              "      <th>HY_ascensor</th>\n",
              "      <th>HY_cod_postal</th>\n",
              "      <th>HY_metros_totales</th>\n",
              "      <th>HY_metros_utiles</th>\n",
              "      <th>HY_num_banos</th>\n",
              "      <th>HY_num_garajes</th>\n",
              "      <th>HY_num_terrazas</th>\n",
              "      <th>HY_precio</th>\n",
              "      <th>HY_precio_anterior</th>\n",
              "      <th>HY_tipo</th>\n",
              "      <th>HY_trastero</th>\n",
              "      <th>IDEA_area</th>\n",
              "      <th>IDEA_demand_rent_residential</th>\n",
              "      <th>IDEA_demand_sale_residential</th>\n",
              "      <th>IDEA_densidad</th>\n",
              "      <th>IDEA_ind_alimentacion</th>\n",
              "      <th>IDEA_ind_elasticidad</th>\n",
              "      <th>IDEA_ind_liquidez</th>\n",
              "      <th>IDEA_ind_riqueza</th>\n",
              "      <th>IDEA_ind_tienda</th>\n",
              "      <th>IDEA_ind_turismo</th>\n",
              "      <th>IDEA_pc_1960</th>\n",
              "      <th>IDEA_pc_1960_69</th>\n",
              "      <th>IDEA_pc_1970_79</th>\n",
              "      <th>IDEA_pc_1980_89</th>\n",
              "      <th>IDEA_pc_1990_99</th>\n",
              "      <th>IDEA_pc_2000_10</th>\n",
              "      <th>IDEA_pc_comercio</th>\n",
              "      <th>IDEA_pc_industria</th>\n",
              "      <th>IDEA_pc_oficina</th>\n",
              "      <th>IDEA_pc_otros</th>\n",
              "      <th>IDEA_pc_residencial</th>\n",
              "      <th>IDEA_pc_trast_parking</th>\n",
              "      <th>IDEA_poblacion</th>\n",
              "      <th>IDEA_price_rent_residential</th>\n",
              "      <th>IDEA_price_sale_residential</th>\n",
              "      <th>IDEA_rent_alquiler</th>\n",
              "      <th>IDEA_stock_rent_residential</th>\n",
              "      <th>IDEA_stock_sale_residential</th>\n",
              "      <th>IDEA_unitprice_rent_residential</th>\n",
              "      <th>IDEA_unitprice_sale_residential</th>\n",
              "      <th>TARGET</th>\n",
              "    </tr>\n",
              "  </thead>\n",
              "  <tbody>\n",
              "    <tr>\n",
              "      <th>7</th>\n",
              "      <td>7.26</td>\n",
              "      <td>0.50</td>\n",
              "      <td>168</td>\n",
              "      <td>1</td>\n",
              "      <td>46</td>\n",
              "      <td>2009.0</td>\n",
              "      <td>0</td>\n",
              "      <td>4120</td>\n",
              "      <td>956.98</td>\n",
              "      <td>931.17</td>\n",
              "      <td>0</td>\n",
              "      <td>0</td>\n",
              "      <td>0</td>\n",
              "      <td>1010000.0</td>\n",
              "      <td>1230000.0</td>\n",
              "      <td>10</td>\n",
              "      <td>0</td>\n",
              "      <td>2656.34</td>\n",
              "      <td>51.06</td>\n",
              "      <td>49.63</td>\n",
              "      <td>5.18</td>\n",
              "      <td>0.45</td>\n",
              "      <td>4.5</td>\n",
              "      <td>0.0</td>\n",
              "      <td>0.16</td>\n",
              "      <td>0.18</td>\n",
              "      <td>0.36</td>\n",
              "      <td>0.03</td>\n",
              "      <td>0.03</td>\n",
              "      <td>0.11</td>\n",
              "      <td>0.13</td>\n",
              "      <td>0.26</td>\n",
              "      <td>0.43</td>\n",
              "      <td>0.01</td>\n",
              "      <td>0.00</td>\n",
              "      <td>0.00</td>\n",
              "      <td>0.06</td>\n",
              "      <td>0.52</td>\n",
              "      <td>0.40</td>\n",
              "      <td>13767.0</td>\n",
              "      <td>731.75</td>\n",
              "      <td>124148.60</td>\n",
              "      <td>5.78</td>\n",
              "      <td>93.0</td>\n",
              "      <td>1086.0</td>\n",
              "      <td>4.99</td>\n",
              "      <td>925.22</td>\n",
              "      <td>80.40</td>\n",
              "    </tr>\n",
              "    <tr>\n",
              "      <th>15</th>\n",
              "      <td>14.94</td>\n",
              "      <td>30.94</td>\n",
              "      <td>896</td>\n",
              "      <td>1</td>\n",
              "      <td>47</td>\n",
              "      <td>1997.0</td>\n",
              "      <td>0</td>\n",
              "      <td>46370</td>\n",
              "      <td>528.91</td>\n",
              "      <td>452.16</td>\n",
              "      <td>2</td>\n",
              "      <td>1</td>\n",
              "      <td>0</td>\n",
              "      <td>265000.0</td>\n",
              "      <td>292000.0</td>\n",
              "      <td>2</td>\n",
              "      <td>0</td>\n",
              "      <td>3219.56</td>\n",
              "      <td>51.05</td>\n",
              "      <td>49.10</td>\n",
              "      <td>1.84</td>\n",
              "      <td>0.20</td>\n",
              "      <td>1.0</td>\n",
              "      <td>0.0</td>\n",
              "      <td>0.16</td>\n",
              "      <td>0.60</td>\n",
              "      <td>0.20</td>\n",
              "      <td>0.16</td>\n",
              "      <td>0.16</td>\n",
              "      <td>0.21</td>\n",
              "      <td>0.14</td>\n",
              "      <td>0.11</td>\n",
              "      <td>0.23</td>\n",
              "      <td>0.01</td>\n",
              "      <td>0.01</td>\n",
              "      <td>0.01</td>\n",
              "      <td>0.06</td>\n",
              "      <td>0.45</td>\n",
              "      <td>0.45</td>\n",
              "      <td>5914.0</td>\n",
              "      <td>583.77</td>\n",
              "      <td>147339.47</td>\n",
              "      <td>5.02</td>\n",
              "      <td>54.0</td>\n",
              "      <td>1518.0</td>\n",
              "      <td>5.43</td>\n",
              "      <td>896.68</td>\n",
              "      <td>71.25</td>\n",
              "    </tr>\n",
              "    <tr>\n",
              "      <th>29</th>\n",
              "      <td>7.96</td>\n",
              "      <td>20.21</td>\n",
              "      <td>409</td>\n",
              "      <td>2</td>\n",
              "      <td>46</td>\n",
              "      <td>2008.0</td>\n",
              "      <td>1</td>\n",
              "      <td>4741</td>\n",
              "      <td>123.76</td>\n",
              "      <td>94.42</td>\n",
              "      <td>2</td>\n",
              "      <td>0</td>\n",
              "      <td>0</td>\n",
              "      <td>78300.0</td>\n",
              "      <td>86100.0</td>\n",
              "      <td>15</td>\n",
              "      <td>0</td>\n",
              "      <td>989.50</td>\n",
              "      <td>51.67</td>\n",
              "      <td>49.97</td>\n",
              "      <td>10.76</td>\n",
              "      <td>0.20</td>\n",
              "      <td>3.0</td>\n",
              "      <td>-1.0</td>\n",
              "      <td>0.20</td>\n",
              "      <td>0.20</td>\n",
              "      <td>0.60</td>\n",
              "      <td>0.00</td>\n",
              "      <td>0.00</td>\n",
              "      <td>0.12</td>\n",
              "      <td>0.13</td>\n",
              "      <td>0.23</td>\n",
              "      <td>0.51</td>\n",
              "      <td>0.03</td>\n",
              "      <td>0.00</td>\n",
              "      <td>0.00</td>\n",
              "      <td>0.03</td>\n",
              "      <td>0.58</td>\n",
              "      <td>0.35</td>\n",
              "      <td>10648.0</td>\n",
              "      <td>463.50</td>\n",
              "      <td>80227.29</td>\n",
              "      <td>6.73</td>\n",
              "      <td>27.0</td>\n",
              "      <td>1248.0</td>\n",
              "      <td>4.59</td>\n",
              "      <td>697.20</td>\n",
              "      <td>54.08</td>\n",
              "    </tr>\n",
              "    <tr>\n",
              "      <th>30</th>\n",
              "      <td>8.81</td>\n",
              "      <td>6.25</td>\n",
              "      <td>82</td>\n",
              "      <td>5</td>\n",
              "      <td>47</td>\n",
              "      <td>2008.0</td>\n",
              "      <td>1</td>\n",
              "      <td>4741</td>\n",
              "      <td>80.27</td>\n",
              "      <td>61.86</td>\n",
              "      <td>1</td>\n",
              "      <td>0</td>\n",
              "      <td>0</td>\n",
              "      <td>48800.0</td>\n",
              "      <td>53600.0</td>\n",
              "      <td>15</td>\n",
              "      <td>0</td>\n",
              "      <td>989.50</td>\n",
              "      <td>51.67</td>\n",
              "      <td>49.97</td>\n",
              "      <td>10.76</td>\n",
              "      <td>0.20</td>\n",
              "      <td>3.0</td>\n",
              "      <td>-1.0</td>\n",
              "      <td>0.20</td>\n",
              "      <td>0.20</td>\n",
              "      <td>0.60</td>\n",
              "      <td>0.00</td>\n",
              "      <td>0.00</td>\n",
              "      <td>0.12</td>\n",
              "      <td>0.13</td>\n",
              "      <td>0.23</td>\n",
              "      <td>0.51</td>\n",
              "      <td>0.03</td>\n",
              "      <td>0.00</td>\n",
              "      <td>0.00</td>\n",
              "      <td>0.03</td>\n",
              "      <td>0.58</td>\n",
              "      <td>0.35</td>\n",
              "      <td>10648.0</td>\n",
              "      <td>463.50</td>\n",
              "      <td>80227.29</td>\n",
              "      <td>6.73</td>\n",
              "      <td>27.0</td>\n",
              "      <td>1248.0</td>\n",
              "      <td>4.59</td>\n",
              "      <td>697.20</td>\n",
              "      <td>65.86</td>\n",
              "    </tr>\n",
              "    <tr>\n",
              "      <th>33</th>\n",
              "      <td>30.77</td>\n",
              "      <td>7.69</td>\n",
              "      <td>17</td>\n",
              "      <td>15</td>\n",
              "      <td>44</td>\n",
              "      <td>2008.0</td>\n",
              "      <td>1</td>\n",
              "      <td>4741</td>\n",
              "      <td>79.30</td>\n",
              "      <td>62.50</td>\n",
              "      <td>1</td>\n",
              "      <td>0</td>\n",
              "      <td>0</td>\n",
              "      <td>48600.0</td>\n",
              "      <td>53500.0</td>\n",
              "      <td>15</td>\n",
              "      <td>0</td>\n",
              "      <td>989.50</td>\n",
              "      <td>51.67</td>\n",
              "      <td>49.97</td>\n",
              "      <td>10.76</td>\n",
              "      <td>0.20</td>\n",
              "      <td>3.0</td>\n",
              "      <td>-1.0</td>\n",
              "      <td>0.20</td>\n",
              "      <td>0.20</td>\n",
              "      <td>0.60</td>\n",
              "      <td>0.00</td>\n",
              "      <td>0.00</td>\n",
              "      <td>0.12</td>\n",
              "      <td>0.13</td>\n",
              "      <td>0.23</td>\n",
              "      <td>0.51</td>\n",
              "      <td>0.03</td>\n",
              "      <td>0.00</td>\n",
              "      <td>0.00</td>\n",
              "      <td>0.03</td>\n",
              "      <td>0.58</td>\n",
              "      <td>0.35</td>\n",
              "      <td>10648.0</td>\n",
              "      <td>463.50</td>\n",
              "      <td>80227.29</td>\n",
              "      <td>6.73</td>\n",
              "      <td>27.0</td>\n",
              "      <td>1248.0</td>\n",
              "      <td>4.59</td>\n",
              "      <td>697.20</td>\n",
              "      <td>24.92</td>\n",
              "    </tr>\n",
              "  </tbody>\n",
              "</table>\n",
              "</div>"
            ],
            "text/plain": [
              "    GA_exit_rate  GA_mean_bounce  GA_page_views  GA_quincena_ini  \\\n",
              "7           7.26            0.50            168                1   \n",
              "15         14.94           30.94            896                1   \n",
              "29          7.96           20.21            409                2   \n",
              "30          8.81            6.25             82                5   \n",
              "33         30.77            7.69             17               15   \n",
              "\n",
              "    GA_quincena_ult  HY_antiguedad  HY_ascensor  HY_cod_postal  \\\n",
              "7                46         2009.0            0           4120   \n",
              "15               47         1997.0            0          46370   \n",
              "29               46         2008.0            1           4741   \n",
              "30               47         2008.0            1           4741   \n",
              "33               44         2008.0            1           4741   \n",
              "\n",
              "    HY_metros_totales  HY_metros_utiles  HY_num_banos  HY_num_garajes  \\\n",
              "7              956.98            931.17             0               0   \n",
              "15             528.91            452.16             2               1   \n",
              "29             123.76             94.42             2               0   \n",
              "30              80.27             61.86             1               0   \n",
              "33              79.30             62.50             1               0   \n",
              "\n",
              "    HY_num_terrazas  HY_precio  HY_precio_anterior  HY_tipo  HY_trastero  \\\n",
              "7                 0  1010000.0           1230000.0       10            0   \n",
              "15                0   265000.0            292000.0        2            0   \n",
              "29                0    78300.0             86100.0       15            0   \n",
              "30                0    48800.0             53600.0       15            0   \n",
              "33                0    48600.0             53500.0       15            0   \n",
              "\n",
              "    IDEA_area  IDEA_demand_rent_residential  IDEA_demand_sale_residential  \\\n",
              "7     2656.34                         51.06                         49.63   \n",
              "15    3219.56                         51.05                         49.10   \n",
              "29     989.50                         51.67                         49.97   \n",
              "30     989.50                         51.67                         49.97   \n",
              "33     989.50                         51.67                         49.97   \n",
              "\n",
              "    IDEA_densidad  IDEA_ind_alimentacion  IDEA_ind_elasticidad  \\\n",
              "7            5.18                   0.45                   4.5   \n",
              "15           1.84                   0.20                   1.0   \n",
              "29          10.76                   0.20                   3.0   \n",
              "30          10.76                   0.20                   3.0   \n",
              "33          10.76                   0.20                   3.0   \n",
              "\n",
              "    IDEA_ind_liquidez  IDEA_ind_riqueza  IDEA_ind_tienda  IDEA_ind_turismo  \\\n",
              "7                 0.0              0.16             0.18              0.36   \n",
              "15                0.0              0.16             0.60              0.20   \n",
              "29               -1.0              0.20             0.20              0.60   \n",
              "30               -1.0              0.20             0.20              0.60   \n",
              "33               -1.0              0.20             0.20              0.60   \n",
              "\n",
              "    IDEA_pc_1960  IDEA_pc_1960_69  IDEA_pc_1970_79  IDEA_pc_1980_89  \\\n",
              "7           0.03             0.03             0.11             0.13   \n",
              "15          0.16             0.16             0.21             0.14   \n",
              "29          0.00             0.00             0.12             0.13   \n",
              "30          0.00             0.00             0.12             0.13   \n",
              "33          0.00             0.00             0.12             0.13   \n",
              "\n",
              "    IDEA_pc_1990_99  IDEA_pc_2000_10  IDEA_pc_comercio  IDEA_pc_industria  \\\n",
              "7              0.26             0.43              0.01               0.00   \n",
              "15             0.11             0.23              0.01               0.01   \n",
              "29             0.23             0.51              0.03               0.00   \n",
              "30             0.23             0.51              0.03               0.00   \n",
              "33             0.23             0.51              0.03               0.00   \n",
              "\n",
              "    IDEA_pc_oficina  IDEA_pc_otros  IDEA_pc_residencial  \\\n",
              "7              0.00           0.06                 0.52   \n",
              "15             0.01           0.06                 0.45   \n",
              "29             0.00           0.03                 0.58   \n",
              "30             0.00           0.03                 0.58   \n",
              "33             0.00           0.03                 0.58   \n",
              "\n",
              "    IDEA_pc_trast_parking  IDEA_poblacion  IDEA_price_rent_residential  \\\n",
              "7                    0.40         13767.0                       731.75   \n",
              "15                   0.45          5914.0                       583.77   \n",
              "29                   0.35         10648.0                       463.50   \n",
              "30                   0.35         10648.0                       463.50   \n",
              "33                   0.35         10648.0                       463.50   \n",
              "\n",
              "    IDEA_price_sale_residential  IDEA_rent_alquiler  \\\n",
              "7                     124148.60                5.78   \n",
              "15                    147339.47                5.02   \n",
              "29                     80227.29                6.73   \n",
              "30                     80227.29                6.73   \n",
              "33                     80227.29                6.73   \n",
              "\n",
              "    IDEA_stock_rent_residential  IDEA_stock_sale_residential  \\\n",
              "7                          93.0                       1086.0   \n",
              "15                         54.0                       1518.0   \n",
              "29                         27.0                       1248.0   \n",
              "30                         27.0                       1248.0   \n",
              "33                         27.0                       1248.0   \n",
              "\n",
              "    IDEA_unitprice_rent_residential  IDEA_unitprice_sale_residential  TARGET  \n",
              "7                              4.99                           925.22   80.40  \n",
              "15                             5.43                           896.68   71.25  \n",
              "29                             4.59                           697.20   54.08  \n",
              "30                             4.59                           697.20   65.86  \n",
              "33                             4.59                           697.20   24.92  "
            ]
          },
          "metadata": {
            "tags": []
          },
          "execution_count": 15
        }
      ]
    },
    {
      "metadata": {
        "id": "sDsGsazfceqf",
        "colab_type": "code",
        "colab": {}
      },
      "cell_type": "code",
      "source": [
        "#s_df_model['TARGET']=s_df_model['TARGET'].fillna(-1)#en ele caso de que cojamos la parte de estimación también"
      ],
      "execution_count": 0,
      "outputs": []
    },
    {
      "metadata": {
        "id": "TICJEKZw0rTf",
        "colab_type": "text"
      },
      "cell_type": "markdown",
      "source": [
        "##### Comprobación"
      ]
    },
    {
      "metadata": {
        "id": "pJbB04xoSKRn",
        "colab_type": "code",
        "outputId": "87c068f6-e89b-4c71-d829-7aa4edf01ed1",
        "colab": {
          "base_uri": "https://localhost:8080/",
          "height": 54
        }
      },
      "cell_type": "code",
      "source": [
        "np.isnan(s_df_model.any()).sum() "
      ],
      "execution_count": 17,
      "outputs": [
        {
          "output_type": "execute_result",
          "data": {
            "text/plain": [
              "0"
            ]
          },
          "metadata": {
            "tags": []
          },
          "execution_count": 17
        }
      ]
    },
    {
      "metadata": {
        "id": "SftAPYx6eAbm",
        "colab_type": "code",
        "outputId": "915ea12d-bc6b-4d83-de87-236cd712c081",
        "colab": {
          "base_uri": "https://localhost:8080/",
          "height": 54
        }
      },
      "cell_type": "code",
      "source": [
        "np.isinf(s_df_model.all()).sum()"
      ],
      "execution_count": 18,
      "outputs": [
        {
          "output_type": "execute_result",
          "data": {
            "text/plain": [
              "0"
            ]
          },
          "metadata": {
            "tags": []
          },
          "execution_count": 18
        }
      ]
    },
    {
      "metadata": {
        "id": "NsnNc2qwS-61",
        "colab_type": "text"
      },
      "cell_type": "markdown",
      "source": [
        "#### Category Encoding (http://contrib.scikit-learn.org/categorical-encoding/helmert.html, https://scikit-learn.org/stable/modules/classes.html#module-sklearn.preprocessing)"
      ]
    },
    {
      "metadata": {
        "id": "5RU2lwhAh0pH",
        "colab_type": "code",
        "colab": {}
      },
      "cell_type": "code",
      "source": [
        "#df_model[\"HY_ascensor\"].value_counts()"
      ],
      "execution_count": 0,
      "outputs": []
    },
    {
      "metadata": {
        "id": "aadWqrczkVjz",
        "colab_type": "text"
      },
      "cell_type": "markdown",
      "source": [
        "#### Normalización"
      ]
    },
    {
      "metadata": {
        "id": "f_8RsxDFYkgu",
        "colab_type": "text"
      },
      "cell_type": "markdown",
      "source": [
        "##### Target"
      ]
    },
    {
      "metadata": {
        "id": "Pv0Q4e2QZBTl",
        "colab_type": "text"
      },
      "cell_type": "markdown",
      "source": [
        "Realizamos el ln del Target para acercarnos a  la distribución normal\n"
      ]
    },
    {
      "metadata": {
        "id": "k00YPqJpX2aq",
        "colab_type": "code",
        "outputId": "47f2337d-69fc-4162-f945-94d5ac79dd05",
        "colab": {
          "base_uri": "https://localhost:8080/",
          "height": 316
        }
      },
      "cell_type": "code",
      "source": [
        "s_df_model['TARGET']=np.log1p(s_df_model['TARGET'])\n",
        "#regla de sturges \n",
        "k=int(np.ceil(1+np.log2(len(s_df_model))))\n",
        "plt.hist(s_df_model.TARGET, bins= k)\n",
        "plt.xlabel(\"Número de segundos de observación\")\n",
        "plt.ylabel(\"Frecuencia\")"
      ],
      "execution_count": 20,
      "outputs": [
        {
          "output_type": "execute_result",
          "data": {
            "text/plain": [
              "Text(0, 0.5, 'Frecuencia')"
            ]
          },
          "metadata": {
            "tags": []
          },
          "execution_count": 20
        },
        {
          "output_type": "display_data",
          "data": {
            "image/png": "[encoded data removed]",
            "text/plain": [
              "<Figure size 432x288 with 1 Axes>"
            ]
          },
          "metadata": {
            "tags": []
          }
        }
      ]
    },
    {
      "metadata": {
        "id": "UQXvx26sGo8q",
        "colab_type": "text"
      },
      "cell_type": "markdown",
      "source": [
        "#EXTRACCIÓN DE CARACTERÍSTICAS\n"
      ]
    },
    {
      "metadata": {
        "id": "zyP6T_UEHBGQ",
        "colab_type": "text"
      },
      "cell_type": "markdown",
      "source": [
        "Número de Fotografías"
      ]
    },
    {
      "metadata": {
        "id": "HgGXnpE3G56-",
        "colab_type": "text"
      },
      "cell_type": "markdown",
      "source": [
        "### Descripción "
      ]
    },
    {
      "metadata": {
        "id": "96npAlsyHnY_",
        "colab_type": "text"
      },
      "cell_type": "markdown",
      "source": [
        "# PRE-ANALISIS"
      ]
    },
    {
      "metadata": {
        "id": "B-aJjzhsaQyM",
        "colab_type": "code",
        "outputId": "94d57937-dbe2-4b8c-dc3a-9a7124c5bbb7",
        "colab": {
          "base_uri": "https://localhost:8080/",
          "height": 215
        }
      },
      "cell_type": "code",
      "source": [
        "s_df_model.head()"
      ],
      "execution_count": 21,
      "outputs": [
        {
          "output_type": "execute_result",
          "data": {
            "text/html": [
              "<div>\n",
              "<style scoped>\n",
              "    .dataframe tbody tr th:only-of-type {\n",
              "        vertical-align: middle;\n",
              "    }\n",
              "\n",
              "    .dataframe tbody tr th {\n",
              "        vertical-align: top;\n",
              "    }\n",
              "\n",
              "    .dataframe thead th {\n",
              "        text-align: right;\n",
              "    }\n",
              "</style>\n",
              "<table border=\"1\" class=\"dataframe\">\n",
              "  <thead>\n",
              "    <tr style=\"text-align: right;\">\n",
              "      <th></th>\n",
              "      <th>GA_exit_rate</th>\n",
              "      <th>GA_mean_bounce</th>\n",
              "      <th>GA_page_views</th>\n",
              "      <th>GA_quincena_ini</th>\n",
              "      <th>GA_quincena_ult</th>\n",
              "      <th>HY_antiguedad</th>\n",
              "      <th>HY_ascensor</th>\n",
              "      <th>HY_cod_postal</th>\n",
              "      <th>HY_metros_totales</th>\n",
              "      <th>HY_metros_utiles</th>\n",
              "      <th>HY_num_banos</th>\n",
              "      <th>HY_num_garajes</th>\n",
              "      <th>HY_num_terrazas</th>\n",
              "      <th>HY_precio</th>\n",
              "      <th>HY_precio_anterior</th>\n",
              "      <th>HY_tipo</th>\n",
              "      <th>HY_trastero</th>\n",
              "      <th>IDEA_area</th>\n",
              "      <th>IDEA_demand_rent_residential</th>\n",
              "      <th>IDEA_demand_sale_residential</th>\n",
              "      <th>IDEA_densidad</th>\n",
              "      <th>IDEA_ind_alimentacion</th>\n",
              "      <th>IDEA_ind_elasticidad</th>\n",
              "      <th>IDEA_ind_liquidez</th>\n",
              "      <th>IDEA_ind_riqueza</th>\n",
              "      <th>IDEA_ind_tienda</th>\n",
              "      <th>IDEA_ind_turismo</th>\n",
              "      <th>IDEA_pc_1960</th>\n",
              "      <th>IDEA_pc_1960_69</th>\n",
              "      <th>IDEA_pc_1970_79</th>\n",
              "      <th>IDEA_pc_1980_89</th>\n",
              "      <th>IDEA_pc_1990_99</th>\n",
              "      <th>IDEA_pc_2000_10</th>\n",
              "      <th>IDEA_pc_comercio</th>\n",
              "      <th>IDEA_pc_industria</th>\n",
              "      <th>IDEA_pc_oficina</th>\n",
              "      <th>IDEA_pc_otros</th>\n",
              "      <th>IDEA_pc_residencial</th>\n",
              "      <th>IDEA_pc_trast_parking</th>\n",
              "      <th>IDEA_poblacion</th>\n",
              "      <th>IDEA_price_rent_residential</th>\n",
              "      <th>IDEA_price_sale_residential</th>\n",
              "      <th>IDEA_rent_alquiler</th>\n",
              "      <th>IDEA_stock_rent_residential</th>\n",
              "      <th>IDEA_stock_sale_residential</th>\n",
              "      <th>IDEA_unitprice_rent_residential</th>\n",
              "      <th>IDEA_unitprice_sale_residential</th>\n",
              "      <th>TARGET</th>\n",
              "    </tr>\n",
              "  </thead>\n",
              "  <tbody>\n",
              "    <tr>\n",
              "      <th>7</th>\n",
              "      <td>7.26</td>\n",
              "      <td>0.50</td>\n",
              "      <td>168</td>\n",
              "      <td>1</td>\n",
              "      <td>46</td>\n",
              "      <td>2009.0</td>\n",
              "      <td>0</td>\n",
              "      <td>4120</td>\n",
              "      <td>956.98</td>\n",
              "      <td>931.17</td>\n",
              "      <td>0</td>\n",
              "      <td>0</td>\n",
              "      <td>0</td>\n",
              "      <td>1010000.0</td>\n",
              "      <td>1230000.0</td>\n",
              "      <td>10</td>\n",
              "      <td>0</td>\n",
              "      <td>2656.34</td>\n",
              "      <td>51.06</td>\n",
              "      <td>49.63</td>\n",
              "      <td>5.18</td>\n",
              "      <td>0.45</td>\n",
              "      <td>4.5</td>\n",
              "      <td>0.0</td>\n",
              "      <td>0.16</td>\n",
              "      <td>0.18</td>\n",
              "      <td>0.36</td>\n",
              "      <td>0.03</td>\n",
              "      <td>0.03</td>\n",
              "      <td>0.11</td>\n",
              "      <td>0.13</td>\n",
              "      <td>0.26</td>\n",
              "      <td>0.43</td>\n",
              "      <td>0.01</td>\n",
              "      <td>0.00</td>\n",
              "      <td>0.00</td>\n",
              "      <td>0.06</td>\n",
              "      <td>0.52</td>\n",
              "      <td>0.40</td>\n",
              "      <td>13767.0</td>\n",
              "      <td>731.75</td>\n",
              "      <td>124148.60</td>\n",
              "      <td>5.78</td>\n",
              "      <td>93.0</td>\n",
              "      <td>1086.0</td>\n",
              "      <td>4.99</td>\n",
              "      <td>925.22</td>\n",
              "      <td>4.399375</td>\n",
              "    </tr>\n",
              "    <tr>\n",
              "      <th>15</th>\n",
              "      <td>14.94</td>\n",
              "      <td>30.94</td>\n",
              "      <td>896</td>\n",
              "      <td>1</td>\n",
              "      <td>47</td>\n",
              "      <td>1997.0</td>\n",
              "      <td>0</td>\n",
              "      <td>46370</td>\n",
              "      <td>528.91</td>\n",
              "      <td>452.16</td>\n",
              "      <td>2</td>\n",
              "      <td>1</td>\n",
              "      <td>0</td>\n",
              "      <td>265000.0</td>\n",
              "      <td>292000.0</td>\n",
              "      <td>2</td>\n",
              "      <td>0</td>\n",
              "      <td>3219.56</td>\n",
              "      <td>51.05</td>\n",
              "      <td>49.10</td>\n",
              "      <td>1.84</td>\n",
              "      <td>0.20</td>\n",
              "      <td>1.0</td>\n",
              "      <td>0.0</td>\n",
              "      <td>0.16</td>\n",
              "      <td>0.60</td>\n",
              "      <td>0.20</td>\n",
              "      <td>0.16</td>\n",
              "      <td>0.16</td>\n",
              "      <td>0.21</td>\n",
              "      <td>0.14</td>\n",
              "      <td>0.11</td>\n",
              "      <td>0.23</td>\n",
              "      <td>0.01</td>\n",
              "      <td>0.01</td>\n",
              "      <td>0.01</td>\n",
              "      <td>0.06</td>\n",
              "      <td>0.45</td>\n",
              "      <td>0.45</td>\n",
              "      <td>5914.0</td>\n",
              "      <td>583.77</td>\n",
              "      <td>147339.47</td>\n",
              "      <td>5.02</td>\n",
              "      <td>54.0</td>\n",
              "      <td>1518.0</td>\n",
              "      <td>5.43</td>\n",
              "      <td>896.68</td>\n",
              "      <td>4.280132</td>\n",
              "    </tr>\n",
              "    <tr>\n",
              "      <th>29</th>\n",
              "      <td>7.96</td>\n",
              "      <td>20.21</td>\n",
              "      <td>409</td>\n",
              "      <td>2</td>\n",
              "      <td>46</td>\n",
              "      <td>2008.0</td>\n",
              "      <td>1</td>\n",
              "      <td>4741</td>\n",
              "      <td>123.76</td>\n",
              "      <td>94.42</td>\n",
              "      <td>2</td>\n",
              "      <td>0</td>\n",
              "      <td>0</td>\n",
              "      <td>78300.0</td>\n",
              "      <td>86100.0</td>\n",
              "      <td>15</td>\n",
              "      <td>0</td>\n",
              "      <td>989.50</td>\n",
              "      <td>51.67</td>\n",
              "      <td>49.97</td>\n",
              "      <td>10.76</td>\n",
              "      <td>0.20</td>\n",
              "      <td>3.0</td>\n",
              "      <td>-1.0</td>\n",
              "      <td>0.20</td>\n",
              "      <td>0.20</td>\n",
              "      <td>0.60</td>\n",
              "      <td>0.00</td>\n",
              "      <td>0.00</td>\n",
              "      <td>0.12</td>\n",
              "      <td>0.13</td>\n",
              "      <td>0.23</td>\n",
              "      <td>0.51</td>\n",
              "      <td>0.03</td>\n",
              "      <td>0.00</td>\n",
              "      <td>0.00</td>\n",
              "      <td>0.03</td>\n",
              "      <td>0.58</td>\n",
              "      <td>0.35</td>\n",
              "      <td>10648.0</td>\n",
              "      <td>463.50</td>\n",
              "      <td>80227.29</td>\n",
              "      <td>6.73</td>\n",
              "      <td>27.0</td>\n",
              "      <td>1248.0</td>\n",
              "      <td>4.59</td>\n",
              "      <td>697.20</td>\n",
              "      <td>4.008787</td>\n",
              "    </tr>\n",
              "    <tr>\n",
              "      <th>30</th>\n",
              "      <td>8.81</td>\n",
              "      <td>6.25</td>\n",
              "      <td>82</td>\n",
              "      <td>5</td>\n",
              "      <td>47</td>\n",
              "      <td>2008.0</td>\n",
              "      <td>1</td>\n",
              "      <td>4741</td>\n",
              "      <td>80.27</td>\n",
              "      <td>61.86</td>\n",
              "      <td>1</td>\n",
              "      <td>0</td>\n",
              "      <td>0</td>\n",
              "      <td>48800.0</td>\n",
              "      <td>53600.0</td>\n",
              "      <td>15</td>\n",
              "      <td>0</td>\n",
              "      <td>989.50</td>\n",
              "      <td>51.67</td>\n",
              "      <td>49.97</td>\n",
              "      <td>10.76</td>\n",
              "      <td>0.20</td>\n",
              "      <td>3.0</td>\n",
              "      <td>-1.0</td>\n",
              "      <td>0.20</td>\n",
              "      <td>0.20</td>\n",
              "      <td>0.60</td>\n",
              "      <td>0.00</td>\n",
              "      <td>0.00</td>\n",
              "      <td>0.12</td>\n",
              "      <td>0.13</td>\n",
              "      <td>0.23</td>\n",
              "      <td>0.51</td>\n",
              "      <td>0.03</td>\n",
              "      <td>0.00</td>\n",
              "      <td>0.00</td>\n",
              "      <td>0.03</td>\n",
              "      <td>0.58</td>\n",
              "      <td>0.35</td>\n",
              "      <td>10648.0</td>\n",
              "      <td>463.50</td>\n",
              "      <td>80227.29</td>\n",
              "      <td>6.73</td>\n",
              "      <td>27.0</td>\n",
              "      <td>1248.0</td>\n",
              "      <td>4.59</td>\n",
              "      <td>697.20</td>\n",
              "      <td>4.202601</td>\n",
              "    </tr>\n",
              "    <tr>\n",
              "      <th>33</th>\n",
              "      <td>30.77</td>\n",
              "      <td>7.69</td>\n",
              "      <td>17</td>\n",
              "      <td>15</td>\n",
              "      <td>44</td>\n",
              "      <td>2008.0</td>\n",
              "      <td>1</td>\n",
              "      <td>4741</td>\n",
              "      <td>79.30</td>\n",
              "      <td>62.50</td>\n",
              "      <td>1</td>\n",
              "      <td>0</td>\n",
              "      <td>0</td>\n",
              "      <td>48600.0</td>\n",
              "      <td>53500.0</td>\n",
              "      <td>15</td>\n",
              "      <td>0</td>\n",
              "      <td>989.50</td>\n",
              "      <td>51.67</td>\n",
              "      <td>49.97</td>\n",
              "      <td>10.76</td>\n",
              "      <td>0.20</td>\n",
              "      <td>3.0</td>\n",
              "      <td>-1.0</td>\n",
              "      <td>0.20</td>\n",
              "      <td>0.20</td>\n",
              "      <td>0.60</td>\n",
              "      <td>0.00</td>\n",
              "      <td>0.00</td>\n",
              "      <td>0.12</td>\n",
              "      <td>0.13</td>\n",
              "      <td>0.23</td>\n",
              "      <td>0.51</td>\n",
              "      <td>0.03</td>\n",
              "      <td>0.00</td>\n",
              "      <td>0.00</td>\n",
              "      <td>0.03</td>\n",
              "      <td>0.58</td>\n",
              "      <td>0.35</td>\n",
              "      <td>10648.0</td>\n",
              "      <td>463.50</td>\n",
              "      <td>80227.29</td>\n",
              "      <td>6.73</td>\n",
              "      <td>27.0</td>\n",
              "      <td>1248.0</td>\n",
              "      <td>4.59</td>\n",
              "      <td>697.20</td>\n",
              "      <td>3.255015</td>\n",
              "    </tr>\n",
              "  </tbody>\n",
              "</table>\n",
              "</div>"
            ],
            "text/plain": [
              "    GA_exit_rate  GA_mean_bounce  GA_page_views  GA_quincena_ini  \\\n",
              "7           7.26            0.50            168                1   \n",
              "15         14.94           30.94            896                1   \n",
              "29          7.96           20.21            409                2   \n",
              "30          8.81            6.25             82                5   \n",
              "33         30.77            7.69             17               15   \n",
              "\n",
              "    GA_quincena_ult  HY_antiguedad  HY_ascensor  HY_cod_postal  \\\n",
              "7                46         2009.0            0           4120   \n",
              "15               47         1997.0            0          46370   \n",
              "29               46         2008.0            1           4741   \n",
              "30               47         2008.0            1           4741   \n",
              "33               44         2008.0            1           4741   \n",
              "\n",
              "    HY_metros_totales  HY_metros_utiles  HY_num_banos  HY_num_garajes  \\\n",
              "7              956.98            931.17             0               0   \n",
              "15             528.91            452.16             2               1   \n",
              "29             123.76             94.42             2               0   \n",
              "30              80.27             61.86             1               0   \n",
              "33              79.30             62.50             1               0   \n",
              "\n",
              "    HY_num_terrazas  HY_precio  HY_precio_anterior  HY_tipo  HY_trastero  \\\n",
              "7                 0  1010000.0           1230000.0       10            0   \n",
              "15                0   265000.0            292000.0        2            0   \n",
              "29                0    78300.0             86100.0       15            0   \n",
              "30                0    48800.0             53600.0       15            0   \n",
              "33                0    48600.0             53500.0       15            0   \n",
              "\n",
              "    IDEA_area  IDEA_demand_rent_residential  IDEA_demand_sale_residential  \\\n",
              "7     2656.34                         51.06                         49.63   \n",
              "15    3219.56                         51.05                         49.10   \n",
              "29     989.50                         51.67                         49.97   \n",
              "30     989.50                         51.67                         49.97   \n",
              "33     989.50                         51.67                         49.97   \n",
              "\n",
              "    IDEA_densidad  IDEA_ind_alimentacion  IDEA_ind_elasticidad  \\\n",
              "7            5.18                   0.45                   4.5   \n",
              "15           1.84                   0.20                   1.0   \n",
              "29          10.76                   0.20                   3.0   \n",
              "30          10.76                   0.20                   3.0   \n",
              "33          10.76                   0.20                   3.0   \n",
              "\n",
              "    IDEA_ind_liquidez  IDEA_ind_riqueza  IDEA_ind_tienda  IDEA_ind_turismo  \\\n",
              "7                 0.0              0.16             0.18              0.36   \n",
              "15                0.0              0.16             0.60              0.20   \n",
              "29               -1.0              0.20             0.20              0.60   \n",
              "30               -1.0              0.20             0.20              0.60   \n",
              "33               -1.0              0.20             0.20              0.60   \n",
              "\n",
              "    IDEA_pc_1960  IDEA_pc_1960_69  IDEA_pc_1970_79  IDEA_pc_1980_89  \\\n",
              "7           0.03             0.03             0.11             0.13   \n",
              "15          0.16             0.16             0.21             0.14   \n",
              "29          0.00             0.00             0.12             0.13   \n",
              "30          0.00             0.00             0.12             0.13   \n",
              "33          0.00             0.00             0.12             0.13   \n",
              "\n",
              "    IDEA_pc_1990_99  IDEA_pc_2000_10  IDEA_pc_comercio  IDEA_pc_industria  \\\n",
              "7              0.26             0.43              0.01               0.00   \n",
              "15             0.11             0.23              0.01               0.01   \n",
              "29             0.23             0.51              0.03               0.00   \n",
              "30             0.23             0.51              0.03               0.00   \n",
              "33             0.23             0.51              0.03               0.00   \n",
              "\n",
              "    IDEA_pc_oficina  IDEA_pc_otros  IDEA_pc_residencial  \\\n",
              "7              0.00           0.06                 0.52   \n",
              "15             0.01           0.06                 0.45   \n",
              "29             0.00           0.03                 0.58   \n",
              "30             0.00           0.03                 0.58   \n",
              "33             0.00           0.03                 0.58   \n",
              "\n",
              "    IDEA_pc_trast_parking  IDEA_poblacion  IDEA_price_rent_residential  \\\n",
              "7                    0.40         13767.0                       731.75   \n",
              "15                   0.45          5914.0                       583.77   \n",
              "29                   0.35         10648.0                       463.50   \n",
              "30                   0.35         10648.0                       463.50   \n",
              "33                   0.35         10648.0                       463.50   \n",
              "\n",
              "    IDEA_price_sale_residential  IDEA_rent_alquiler  \\\n",
              "7                     124148.60                5.78   \n",
              "15                    147339.47                5.02   \n",
              "29                     80227.29                6.73   \n",
              "30                     80227.29                6.73   \n",
              "33                     80227.29                6.73   \n",
              "\n",
              "    IDEA_stock_rent_residential  IDEA_stock_sale_residential  \\\n",
              "7                          93.0                       1086.0   \n",
              "15                         54.0                       1518.0   \n",
              "29                         27.0                       1248.0   \n",
              "30                         27.0                       1248.0   \n",
              "33                         27.0                       1248.0   \n",
              "\n",
              "    IDEA_unitprice_rent_residential  IDEA_unitprice_sale_residential    TARGET  \n",
              "7                              4.99                           925.22  4.399375  \n",
              "15                             5.43                           896.68  4.280132  \n",
              "29                             4.59                           697.20  4.008787  \n",
              "30                             4.59                           697.20  4.202601  \n",
              "33                             4.59                           697.20  3.255015  "
            ]
          },
          "metadata": {
            "tags": []
          },
          "execution_count": 21
        }
      ]
    },
    {
      "metadata": {
        "colab_type": "text",
        "id": "LZRYysl_Z22-"
      },
      "cell_type": "markdown",
      "source": [
        "### Distribución"
      ]
    },
    {
      "metadata": {
        "scrolled": false,
        "colab_type": "code",
        "id": "NrBVgJqZZ22_",
        "colab": {}
      },
      "cell_type": "code",
      "source": [
        "s_df_model.describe()"
      ],
      "execution_count": 0,
      "outputs": []
    },
    {
      "metadata": {
        "id": "zFR7iKu6VR_x",
        "colab_type": "text"
      },
      "cell_type": "markdown",
      "source": [
        "### Correlación"
      ]
    },
    {
      "metadata": {
        "id": "sPM_1SjJVRLw",
        "colab_type": "code",
        "colab": {}
      },
      "cell_type": "code",
      "source": [
        "def plot_corr(df,size=10):\n",
        "\n",
        "  corr = df.corr()\n",
        "  fig, ax = plt.subplots(figsize=(size, size))\n",
        "  cax = ax.matshow(corr,cmap='coolwarm', vmin=-1, vmax=1)\n",
        "  fig.colorbar(cax)\n",
        "  ticks = np.arange(0,len(df.columns),1)\n",
        "  ax.set_xticks(ticks)\n",
        "  plt.xticks(rotation=90)\n",
        "  ax.set_yticks(ticks)\n",
        "  ax.set_xticklabels(df.columns)\n",
        "  ax.set_yticklabels(df.columns)\n",
        "  plt.show()"
      ],
      "execution_count": 0,
      "outputs": []
    },
    {
      "metadata": {
        "id": "h1BZhmBAXCP-",
        "colab_type": "code",
        "colab": {
          "base_uri": "https://localhost:8080/",
          "height": 1097
        },
        "outputId": "459b9aab-4aaa-42b3-cd99-47b3940e6598"
      },
      "cell_type": "code",
      "source": [
        "plot_corr(s_df_model,18)"
      ],
      "execution_count": 24,
      "outputs": [
        {
          "output_type": "display_data",
          "data": {
            "image/png": "[encoded data removed]",
            "text/plain": [
              "<Figure size 1296x1296 with 2 Axes>"
            ]
          },
          "metadata": {
            "tags": []
          }
        }
      ]
    },
    {
      "metadata": {
        "id": "xki2584gchvF",
        "colab_type": "text"
      },
      "cell_type": "markdown",
      "source": [
        "### Histogramas"
      ]
    },
    {
      "metadata": {
        "id": "SE06RAlxeAkj",
        "colab_type": "code",
        "colab": {}
      },
      "cell_type": "code",
      "source": [
        "#regla de sturges \n",
        "k=int(np.ceil(1+np.log2(len(s_df_model))))"
      ],
      "execution_count": 0,
      "outputs": []
    },
    {
      "metadata": {
        "id": "J4QFO25zdRea",
        "colab_type": "text"
      },
      "cell_type": "markdown",
      "source": [
        "### Boxplot"
      ]
    },
    {
      "metadata": {
        "id": "0eiL4zIndUUU",
        "colab_type": "code",
        "colab": {}
      },
      "cell_type": "code",
      "source": [
        ""
      ],
      "execution_count": 0,
      "outputs": []
    },
    {
      "metadata": {
        "id": "yOv605ZBo5nB",
        "colab_type": "text"
      },
      "cell_type": "markdown",
      "source": [
        "# CLASIFICACIÓN"
      ]
    },
    {
      "metadata": {
        "id": "nv73ORVZran3",
        "colab_type": "text"
      },
      "cell_type": "markdown",
      "source": [
        "#### Obtenemos las categorias predictoras por un lado  y el target por otro"
      ]
    },
    {
      "metadata": {
        "id": "R_U0i5uosEWD",
        "colab_type": "code",
        "colab": {}
      },
      "cell_type": "code",
      "source": [
        "colnames = s_df_model.columns.values.tolist()"
      ],
      "execution_count": 0,
      "outputs": []
    },
    {
      "metadata": {
        "id": "IC47Xsymo5m-",
        "colab_type": "code",
        "colab": {}
      },
      "cell_type": "code",
      "source": [
        "predictors= colnames[1:len(colnames)-1] \n",
        "target= colnames[len(colnames)-1]# hay que tener en cuenta que se empieza en el cero"
      ],
      "execution_count": 0,
      "outputs": []
    },
    {
      "metadata": {
        "id": "b6l9SzmftrFf",
        "colab_type": "text"
      },
      "cell_type": "markdown",
      "source": [
        "#### Separamos el conjunto en un conjunto de Training y un conjunto de Test"
      ]
    },
    {
      "metadata": {
        "id": "9tZDz3sUt0mS",
        "colab_type": "code",
        "colab": {}
      },
      "cell_type": "code",
      "source": [
        "s_df_model[\"is_train\"]= np.random.uniform(0,1,len(s_df_model))<=0.75 "
      ],
      "execution_count": 0,
      "outputs": []
    },
    {
      "metadata": {
        "id": "qauc9d60uwzk",
        "colab_type": "text"
      },
      "cell_type": "markdown",
      "source": [
        "Partimos el conjunto en dos subconjuntos en función del valor -1 indicando cual era el training y el estimador"
      ]
    },
    {
      "metadata": {
        "id": "o8TYYskYvGKT",
        "colab_type": "code",
        "colab": {}
      },
      "cell_type": "code",
      "source": [
        "#s_df_model[\"is_train\"]= s_df_model['TARGET'].values!=-1"
      ],
      "execution_count": 0,
      "outputs": []
    },
    {
      "metadata": {
        "id": "YK-8_In9ytls",
        "colab_type": "text"
      },
      "cell_type": "markdown",
      "source": [
        "Vemos en el histograma como se reparte los datos entre Train y test"
      ]
    },
    {
      "metadata": {
        "id": "k1yDhkZYud3R",
        "colab_type": "code",
        "colab": {
          "base_uri": "https://localhost:8080/",
          "height": 332
        },
        "outputId": "9f3a60d3-eec4-436e-b804-7393a6585a43"
      },
      "cell_type": "code",
      "source": [
        "plt.hist(s_df_model.is_train)"
      ],
      "execution_count": 30,
      "outputs": [
        {
          "output_type": "execute_result",
          "data": {
            "text/plain": [
              "(array([2557.,    0.,    0.,    0.,    0.,    0.,    0.,    0.,    0.,\n",
              "        7401.]),\n",
              " array([0. , 0.1, 0.2, 0.3, 0.4, 0.5, 0.6, 0.7, 0.8, 0.9, 1. ]),\n",
              " <a list of 10 Patch objects>)"
            ]
          },
          "metadata": {
            "tags": []
          },
          "execution_count": 30
        },
        {
          "output_type": "display_data",
          "data": {
            "image/png": "[encoded data removed]",
            "text/plain": [
              "<Figure size 432x288 with 1 Axes>"
            ]
          },
          "metadata": {
            "tags": []
          }
        }
      ]
    },
    {
      "metadata": {
        "id": "ovwbloaUy6id",
        "colab_type": "text"
      },
      "cell_type": "markdown",
      "source": [
        "Partimos en test y train"
      ]
    },
    {
      "metadata": {
        "id": "ftEbAFuIypZG",
        "colab_type": "code",
        "colab": {}
      },
      "cell_type": "code",
      "source": [
        "train, test = s_df_model[s_df_model[\"is_train\"]==True],s_df_model[s_df_model[\"is_train\"]==False]"
      ],
      "execution_count": 0,
      "outputs": []
    },
    {
      "metadata": {
        "id": "okW2IaPGqG75",
        "colab_type": "text"
      },
      "cell_type": "markdown",
      "source": [
        "### Regression Tree "
      ]
    },
    {
      "metadata": {
        "id": "qvHNUS110_s3",
        "colab_type": "text"
      },
      "cell_type": "markdown",
      "source": [
        "Creamos el módelo"
      ]
    },
    {
      "metadata": {
        "id": "Er_3BJ8S0zvs",
        "colab_type": "code",
        "colab": {}
      },
      "cell_type": "code",
      "source": [
        "regtree= DecisionTreeRegressor(min_samples_split=25,min_samples_leaf=1,random_state=None)\n",
        "regtree.fit(train[predictors],train[target])"
      ],
      "execution_count": 0,
      "outputs": []
    },
    {
      "metadata": {
        "id": "ZvQHc1kkkGvg",
        "colab_type": "text"
      },
      "cell_type": "markdown",
      "source": [
        "#### Prediction"
      ]
    },
    {
      "metadata": {
        "id": "yqd7z0TYjPe0",
        "colab_type": "code",
        "colab": {}
      },
      "cell_type": "code",
      "source": [
        "to_predict=test\n",
        "to_predict[\"regtree_preds\"]= regtree.predict(to_predict[predictors])\n",
        "\n",
        "#train[[\"regtree_preds\",\"TARGET\"]]"
      ],
      "execution_count": 0,
      "outputs": []
    },
    {
      "metadata": {
        "id": "wis_uArUpTib",
        "colab_type": "text"
      },
      "cell_type": "markdown",
      "source": [
        "Median absolute error"
      ]
    },
    {
      "metadata": {
        "id": "eBYwn8Eblh--",
        "colab_type": "code",
        "colab": {}
      },
      "cell_type": "code",
      "source": [
        "mae_regtree=mean_absolute_error(np.exp(to_predict[\"TARGET\"]),np.exp(to_predict[\"regtree_preds\"]))                    "
      ],
      "execution_count": 0,
      "outputs": []
    },
    {
      "metadata": {
        "id": "5XAyTdTrNSaE",
        "colab_type": "text"
      },
      "cell_type": "markdown",
      "source": [
        "### Regression Random Forest\n",
        "    \n",
        "\n",
        "*   n_jobs-> número de tareas en paralelo\n",
        "*   obb_score-> true(aleatorio)\n",
        "*   n_estimators.-> núm. de estimadores que se va a tener\n",
        "\n"
      ]
    },
    {
      "metadata": {
        "id": "OM-W0Jifo5nC",
        "colab_type": "code",
        "colab": {
          "base_uri": "https://localhost:8080/",
          "height": 118
        },
        "outputId": "3482a2e1-df25-4aed-ac6f-48eb8a0f99aa"
      },
      "cell_type": "code",
      "source": [
        "forest= RandomForestRegressor(n_jobs=2,n_estimators=500)\n",
        "forest.fit(train[predictors],train[target])"
      ],
      "execution_count": 35,
      "outputs": [
        {
          "output_type": "execute_result",
          "data": {
            "text/plain": [
              "RandomForestRegressor(bootstrap=True, criterion='mse', max_depth=None,\n",
              "           max_features='auto', max_leaf_nodes=None,\n",
              "           min_impurity_decrease=0.0, min_impurity_split=None,\n",
              "           min_samples_leaf=1, min_samples_split=2,\n",
              "           min_weight_fraction_leaf=0.0, n_estimators=500, n_jobs=2,\n",
              "           oob_score=False, random_state=None, verbose=0, warm_start=False)"
            ]
          },
          "metadata": {
            "tags": []
          },
          "execution_count": 35
        }
      ]
    },
    {
      "metadata": {
        "id": "QEDRTj8TxD4k",
        "colab_type": "text"
      },
      "cell_type": "markdown",
      "source": [
        "#### prediction"
      ]
    },
    {
      "metadata": {
        "id": "E56_gy2MvXQH",
        "colab_type": "code",
        "colab": {}
      },
      "cell_type": "code",
      "source": [
        "to_predict=test\n",
        "to_predict[\"rforest_preds\"]=forest.predict(to_predict[predictors])"
      ],
      "execution_count": 0,
      "outputs": []
    },
    {
      "metadata": {
        "id": "Gig-hfm0wB9I",
        "colab_type": "code",
        "colab": {}
      },
      "cell_type": "code",
      "source": [
        "mae_rforest=mean_absolute_error(np.expm1(to_predict[\"TARGET\"]),np.expm1(to_predict[\"rforest_preds\"]))"
      ],
      "execution_count": 0,
      "outputs": []
    },
    {
      "metadata": {
        "id": "Etrwr5zQIIcG",
        "colab_type": "text"
      },
      "cell_type": "markdown",
      "source": [
        "### Gradient Boosting Regressor"
      ]
    },
    {
      "metadata": {
        "id": "SzS16q2PIPtM",
        "colab_type": "code",
        "colab": {
          "base_uri": "https://localhost:8080/",
          "height": 171
        },
        "outputId": "cfa79908-a475-4514-912f-cbb047cbf22a"
      },
      "cell_type": "code",
      "source": [
        "gradient= GradientBoostingRegressor(n_estimators=500, max_depth=4,min_samples_split=2,learning_rate=0.01)\n",
        "gradient.fit(train[predictors],train[target])"
      ],
      "execution_count": 38,
      "outputs": [
        {
          "output_type": "execute_result",
          "data": {
            "text/plain": [
              "GradientBoostingRegressor(alpha=0.9, criterion='friedman_mse', init=None,\n",
              "             learning_rate=0.01, loss='ls', max_depth=4, max_features=None,\n",
              "             max_leaf_nodes=None, min_impurity_decrease=0.0,\n",
              "             min_impurity_split=None, min_samples_leaf=1,\n",
              "             min_samples_split=2, min_weight_fraction_leaf=0.0,\n",
              "             n_estimators=500, n_iter_no_change=None, presort='auto',\n",
              "             random_state=None, subsample=1.0, tol=0.0001,\n",
              "             validation_fraction=0.1, verbose=0, warm_start=False)"
            ]
          },
          "metadata": {
            "tags": []
          },
          "execution_count": 38
        }
      ]
    },
    {
      "metadata": {
        "id": "fH8OZm7PKTOf",
        "colab_type": "text"
      },
      "cell_type": "markdown",
      "source": [
        "#### Prediction"
      ]
    },
    {
      "metadata": {
        "id": "ABVnrlGaKQp0",
        "colab_type": "code",
        "colab": {}
      },
      "cell_type": "code",
      "source": [
        "to_predict=test\n",
        "to_predict[\"gboost_preds\"]=gradient.predict(to_predict[predictors])"
      ],
      "execution_count": 0,
      "outputs": []
    },
    {
      "metadata": {
        "id": "Mg4-_lqcKgOH",
        "colab_type": "code",
        "colab": {}
      },
      "cell_type": "code",
      "source": [
        "mae_gboost=mean_absolute_error(np.expm1(to_predict[\"TARGET\"]),np.expm1(to_predict[\"gboost_preds\"]))"
      ],
      "execution_count": 0,
      "outputs": []
    },
    {
      "metadata": {
        "id": "dGREzPruo5nE",
        "colab_type": "text"
      },
      "cell_type": "markdown",
      "source": [
        "# RESULTADO (SCORE)"
      ]
    },
    {
      "metadata": {
        "id": "Jle6k3hr9KqP",
        "colab_type": "text"
      },
      "cell_type": "markdown",
      "source": [
        "#### MAE de los clasificadores"
      ]
    },
    {
      "metadata": {
        "id": "aTabtTdx9HhO",
        "colab_type": "code",
        "colab": {
          "base_uri": "https://localhost:8080/",
          "height": 77
        },
        "outputId": "e04036f9-aa3e-47b6-c081-327a4481985d"
      },
      "cell_type": "code",
      "source": [
        "df_res_classifiers = pd.DataFrame({'mae_rforest': [mae_rforest], 'mae_regtree': [mae_regtree],'mae_gboost':[mae_gboost]})\n",
        "df_res_classifiers"
      ],
      "execution_count": 41,
      "outputs": [
        {
          "output_type": "execute_result",
          "data": {
            "text/html": [
              "<div>\n",
              "<style scoped>\n",
              "    .dataframe tbody tr th:only-of-type {\n",
              "        vertical-align: middle;\n",
              "    }\n",
              "\n",
              "    .dataframe tbody tr th {\n",
              "        vertical-align: top;\n",
              "    }\n",
              "\n",
              "    .dataframe thead th {\n",
              "        text-align: right;\n",
              "    }\n",
              "</style>\n",
              "<table border=\"1\" class=\"dataframe\">\n",
              "  <thead>\n",
              "    <tr style=\"text-align: right;\">\n",
              "      <th></th>\n",
              "      <th>mae_gboost</th>\n",
              "      <th>mae_regtree</th>\n",
              "      <th>mae_rforest</th>\n",
              "    </tr>\n",
              "  </thead>\n",
              "  <tbody>\n",
              "    <tr>\n",
              "      <th>0</th>\n",
              "      <td>40.262323</td>\n",
              "      <td>49.540255</td>\n",
              "      <td>40.151604</td>\n",
              "    </tr>\n",
              "  </tbody>\n",
              "</table>\n",
              "</div>"
            ],
            "text/plain": [
              "   mae_gboost  mae_regtree  mae_rforest\n",
              "0   40.262323    49.540255    40.151604"
            ]
          },
          "metadata": {
            "tags": []
          },
          "execution_count": 41
        }
      ]
    },
    {
      "metadata": {
        "id": "ez-CVUburF01",
        "colab_type": "text"
      },
      "cell_type": "markdown",
      "source": [
        "#### Fichero final"
      ]
    },
    {
      "metadata": {
        "id": "geFAvh0drIGc",
        "colab_type": "code",
        "colab": {}
      },
      "cell_type": "code",
      "source": [
        "test[\"HY_id\"]=df_model[\"HY_id\"]"
      ],
      "execution_count": 0,
      "outputs": []
    },
    {
      "metadata": {
        "id": "1n62Y2jJsoxd",
        "colab_type": "code",
        "colab": {}
      },
      "cell_type": "code",
      "source": [
        "test= test[[\"HY_id\",\"regtree_preds\"]]\n",
        "test= test.rename(columns={\"regtree_preds\":\"TM_Est\"})"
      ],
      "execution_count": 0,
      "outputs": []
    },
    {
      "metadata": {
        "id": "_mgy_5Eh2VV-",
        "colab_type": "code",
        "colab": {}
      },
      "cell_type": "code",
      "source": [
        "test.to_csv(r'Minsait_UJI_Math.random()_1.txt', header=True, index=None, sep='|', mode='w')"
      ],
      "execution_count": 0,
      "outputs": []
    },
    {
      "metadata": {
        "id": "lW8gAql82BtJ",
        "colab_type": "code",
        "colab": {
          "base_uri": "https://localhost:8080/",
          "height": 54
        },
        "outputId": "0db3bdd9-2401-433e-8461-dccd123d6cf2"
      },
      "cell_type": "code",
      "source": [
        "df=pd.read_csv('Minsait_UJI_Math.random()_1.txt', sep=\"|\")\n",
        "df.head()\n",
        "\n",
        "df.shape"
      ],
      "execution_count": 45,
      "outputs": [
        {
          "output_type": "execute_result",
          "data": {
            "text/plain": [
              "(2557, 2)"
            ]
          },
          "metadata": {
            "tags": []
          },
          "execution_count": 45
        }
      ]
    }
  ]
}